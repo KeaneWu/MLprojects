{
 "cells": [
  {
   "cell_type": "markdown",
   "metadata": {},
   "source": [
    "# Yelp Data Challenge - Restaurant Recommender\n",
    "\n",
    "BitTiger DS501\n",
    "\n",
    "Nov 2017"
   ]
  },
  {
   "cell_type": "code",
   "execution_count": 2,
   "metadata": {},
   "outputs": [],
   "source": [
    "import pandas as pd\n",
    "import numpy as np\n",
    "import matplotlib.pyplot as plt\n",
    "% matplotlib inline\n",
    "plt.style.use(\"ggplot\")\n",
    "import random\n",
    "from time import time"
   ]
  },
  {
   "cell_type": "code",
   "execution_count": 76,
   "metadata": {},
   "outputs": [],
   "source": [
    "import numpy as np\n",
    "import pandas as pd\n",
    "from scipy import sparse\n",
    "from sklearn.metrics.pairwise import cosine_similarity\n",
    "from time import time\n",
    "\n",
    "\n",
    "class ItemItemRecommender(object):\n",
    "\n",
    "    def __init__(self, neighborhood_size):\n",
    "        self.neighborhood_size = neighborhood_size\n",
    "\n",
    "    def fit(self, ratings_mat):\n",
    "        self.ratings_mat = ratings_mat\n",
    "        self.n_users = ratings_mat.shape[0]\n",
    "        self.n_items = ratings_mat.shape[1]\n",
    "        self.item_sim_mat = cosine_similarity(self.ratings_mat.T)\n",
    "        self._set_neighborhoods()\n",
    "\n",
    "    def _set_neighborhoods(self):\n",
    "        least_to_most_sim_indexes = np.argsort(self.item_sim_mat, 1)\n",
    "        self.neighborhoods = least_to_most_sim_indexes[:, -self.neighborhood_size:]\n",
    "\n",
    "    def pred_one_user(self, user_id, report_run_time=False):\n",
    "        start_time = time()\n",
    "        items_rated_by_this_user = self.ratings_mat[user_id].nonzero()[1]\n",
    "        # Just initializing so we have somewhere to put rating preds\n",
    "        out = np.zeros(self.n_items)\n",
    "        for item_to_rate in range(self.n_items):\n",
    "            relevant_items = np.intersect1d(self.neighborhoods[item_to_rate],\n",
    "                                            items_rated_by_this_user,\n",
    "                                            assume_unique=True)  # assume_unique speeds up intersection op\n",
    "            out[item_to_rate] = self.ratings_mat[user_id, relevant_items] * \\\n",
    "                self.item_sim_mat[item_to_rate, relevant_items] / \\\n",
    "                self.item_sim_mat[item_to_rate, relevant_items].sum()\n",
    "        if report_run_time:\n",
    "            print(\"Execution time: %f seconds\" % (time()-start_time))\n",
    "        cleaned_out = np.nan_to_num(out)\n",
    "        return cleaned_out\n",
    "\n",
    "    def pred_all_users(self, report_run_time=False):\n",
    "        start_time = time()\n",
    "        all_ratings = [\n",
    "            self.pred_one_user(user_id) for user_id in range(self.n_users)]\n",
    "        if report_run_time:\n",
    "            print(\"Execution time: %f seconds\" % (time()-start_time))\n",
    "        return np.array(all_ratings)\n",
    "\n",
    "    def top_n_recs(self, user_id, n):\n",
    "        pred_ratings = self.pred_one_user(user_id)\n",
    "        item_index_sorted_by_pred_rating = list(np.argsort(pred_ratings))\n",
    "        items_rated_by_this_user = self.ratings_mat[user_id].nonzero()[1]\n",
    "        unrated_items_by_pred_rating = [item for item in item_index_sorted_by_pred_rating\n",
    "                                        if item not in items_rated_by_this_user]\n",
    "        return unrated_items_by_pred_rating[-n:]"
   ]
  },
  {
   "cell_type": "code",
   "execution_count": 75,
   "metadata": {},
   "outputs": [],
   "source": [
    "def get_ratings_data():\n",
    "    ratings_contents = pd.read_table(\"../data/u.data\",\n",
    "                                     names=[\"user\", \"movie\", \"rating\", \"timestamp\"])\n",
    "    highest_user_id = ratings_contents.user.max()\n",
    "    highest_movie_id = ratings_contents.movie.max()\n",
    "    ratings_as_mat = sparse.lil_matrix((highest_user_id, highest_movie_id))\n",
    "    for _, row in ratings_contents.iterrows():\n",
    "            # subtract 1 from id's due to match 0 indexing\n",
    "        ratings_as_mat[row.user-1, row.movie-1] = row.rating\n",
    "    return ratings_contents, ratings_as_mat"
   ]
  },
  {
   "cell_type": "code",
   "execution_count": null,
   "metadata": {},
   "outputs": [],
   "source": [
    "def get_sparse_matrix(df, userid, item):\n",
    "    highest_user_id = df.userid.max()\n",
    "    highest_item_id = df.item.max()\n",
    "    df_as_matrix = sparse.lil_matrix((highest_user_id, highest_item_id))\n",
    "    for _, row in df.iterrows():\n",
    "        df_as_matrix[row.userid-1, row.item-1] = row.stars"
   ]
  },
  {
   "cell_type": "code",
   "execution_count": 3,
   "metadata": {},
   "outputs": [
    {
     "data": {
      "text/plain": [
       "'/Users/zirongwu/DataScience/DS501/BitTiger-DS501-1805/Homework/Yelp_Data_Challenge_Project/code'"
      ]
     },
     "execution_count": 3,
     "metadata": {},
     "output_type": "execute_result"
    }
   ],
   "source": [
    "pwd"
   ]
  },
  {
   "cell_type": "code",
   "execution_count": 4,
   "metadata": {
    "scrolled": true
   },
   "outputs": [
    {
     "name": "stdout",
     "output_type": "stream",
     "text": [
      "/Users/zirongwu/DataScience/DS501/BitTiger-DS501-1805/Homework/Yelp_Data_Challenge_Project\n"
     ]
    }
   ],
   "source": [
    "cd .."
   ]
  },
  {
   "cell_type": "code",
   "execution_count": 5,
   "metadata": {
    "scrolled": false
   },
   "outputs": [],
   "source": [
    "df = pd.read_csv('dataset/last_2_years_restaurant_reviews.csv')"
   ]
  },
  {
   "cell_type": "code",
   "execution_count": 6,
   "metadata": {
    "scrolled": false
   },
   "outputs": [
    {
     "data": {
      "text/html": [
       "<div>\n",
       "<style scoped>\n",
       "    .dataframe tbody tr th:only-of-type {\n",
       "        vertical-align: middle;\n",
       "    }\n",
       "\n",
       "    .dataframe tbody tr th {\n",
       "        vertical-align: top;\n",
       "    }\n",
       "\n",
       "    .dataframe thead th {\n",
       "        text-align: right;\n",
       "    }\n",
       "</style>\n",
       "<table border=\"1\" class=\"dataframe\">\n",
       "  <thead>\n",
       "    <tr style=\"text-align: right;\">\n",
       "      <th></th>\n",
       "      <th>business_id</th>\n",
       "      <th>name</th>\n",
       "      <th>categories</th>\n",
       "      <th>avg_stars</th>\n",
       "      <th>cool</th>\n",
       "      <th>date</th>\n",
       "      <th>funny</th>\n",
       "      <th>review_id</th>\n",
       "      <th>stars</th>\n",
       "      <th>text</th>\n",
       "      <th>useful</th>\n",
       "      <th>user_id</th>\n",
       "    </tr>\n",
       "  </thead>\n",
       "  <tbody>\n",
       "    <tr>\n",
       "      <th>0</th>\n",
       "      <td>vJIuDBdu01vCA8y1fwR1OQ</td>\n",
       "      <td>CakesbyToi</td>\n",
       "      <td>American (Traditional), Food, Bakeries, Restau...</td>\n",
       "      <td>1.5</td>\n",
       "      <td>1</td>\n",
       "      <td>2015-08-02</td>\n",
       "      <td>0</td>\n",
       "      <td>UgwmWy_68S_aKR9wTWKGOg</td>\n",
       "      <td>3</td>\n",
       "      <td>I am a huge fan of both locally owned business...</td>\n",
       "      <td>4</td>\n",
       "      <td>jSD05fFrAFa5gX3ZQae1tw</td>\n",
       "    </tr>\n",
       "    <tr>\n",
       "      <th>1</th>\n",
       "      <td>vJIuDBdu01vCA8y1fwR1OQ</td>\n",
       "      <td>CakesbyToi</td>\n",
       "      <td>American (Traditional), Food, Bakeries, Restau...</td>\n",
       "      <td>1.5</td>\n",
       "      <td>2</td>\n",
       "      <td>2015-06-08</td>\n",
       "      <td>2</td>\n",
       "      <td>AywPsODuQbUMhBEjmKiGXw</td>\n",
       "      <td>1</td>\n",
       "      <td>Let me start off by saying. If you cant make a...</td>\n",
       "      <td>8</td>\n",
       "      <td>oagZh5A2cWJXZBLakS_KpQ</td>\n",
       "    </tr>\n",
       "    <tr>\n",
       "      <th>2</th>\n",
       "      <td>vJIuDBdu01vCA8y1fwR1OQ</td>\n",
       "      <td>CakesbyToi</td>\n",
       "      <td>American (Traditional), Food, Bakeries, Restau...</td>\n",
       "      <td>1.5</td>\n",
       "      <td>1</td>\n",
       "      <td>2015-08-08</td>\n",
       "      <td>0</td>\n",
       "      <td>6j39TEUBDBTEK37OKACWLw</td>\n",
       "      <td>1</td>\n",
       "      <td>Decent product. ..HORRIBLE service. Totally un...</td>\n",
       "      <td>2</td>\n",
       "      <td>6BSwuyc7fvcccJgrY4_W5Q</td>\n",
       "    </tr>\n",
       "    <tr>\n",
       "      <th>3</th>\n",
       "      <td>kgffcoxT6BQp-gJ-UQ7Czw</td>\n",
       "      <td>Subway</td>\n",
       "      <td>Fast Food, Restaurants, Sandwiches</td>\n",
       "      <td>2.5</td>\n",
       "      <td>0</td>\n",
       "      <td>2016-07-03</td>\n",
       "      <td>0</td>\n",
       "      <td>c6iTbCMMYWnOd79ZiWwobg</td>\n",
       "      <td>1</td>\n",
       "      <td>I ordered a few 12 inch sandwiches , a turkey ...</td>\n",
       "      <td>1</td>\n",
       "      <td>ih7Dmu7wZpKVwlBRbakJOQ</td>\n",
       "    </tr>\n",
       "    <tr>\n",
       "      <th>4</th>\n",
       "      <td>kgffcoxT6BQp-gJ-UQ7Czw</td>\n",
       "      <td>Subway</td>\n",
       "      <td>Fast Food, Restaurants, Sandwiches</td>\n",
       "      <td>2.5</td>\n",
       "      <td>0</td>\n",
       "      <td>2018-03-10</td>\n",
       "      <td>0</td>\n",
       "      <td>5iDdZvpK4jOv2w5kZ15TUA</td>\n",
       "      <td>1</td>\n",
       "      <td>Worst subway of any I have visited. I have man...</td>\n",
       "      <td>1</td>\n",
       "      <td>m3WBc9bGxn1q1ikAFq8PaA</td>\n",
       "    </tr>\n",
       "  </tbody>\n",
       "</table>\n",
       "</div>"
      ],
      "text/plain": [
       "              business_id        name  \\\n",
       "0  vJIuDBdu01vCA8y1fwR1OQ  CakesbyToi   \n",
       "1  vJIuDBdu01vCA8y1fwR1OQ  CakesbyToi   \n",
       "2  vJIuDBdu01vCA8y1fwR1OQ  CakesbyToi   \n",
       "3  kgffcoxT6BQp-gJ-UQ7Czw      Subway   \n",
       "4  kgffcoxT6BQp-gJ-UQ7Czw      Subway   \n",
       "\n",
       "                                          categories  avg_stars  cool  \\\n",
       "0  American (Traditional), Food, Bakeries, Restau...        1.5     1   \n",
       "1  American (Traditional), Food, Bakeries, Restau...        1.5     2   \n",
       "2  American (Traditional), Food, Bakeries, Restau...        1.5     1   \n",
       "3                 Fast Food, Restaurants, Sandwiches        2.5     0   \n",
       "4                 Fast Food, Restaurants, Sandwiches        2.5     0   \n",
       "\n",
       "         date  funny               review_id  stars  \\\n",
       "0  2015-08-02      0  UgwmWy_68S_aKR9wTWKGOg      3   \n",
       "1  2015-06-08      2  AywPsODuQbUMhBEjmKiGXw      1   \n",
       "2  2015-08-08      0  6j39TEUBDBTEK37OKACWLw      1   \n",
       "3  2016-07-03      0  c6iTbCMMYWnOd79ZiWwobg      1   \n",
       "4  2018-03-10      0  5iDdZvpK4jOv2w5kZ15TUA      1   \n",
       "\n",
       "                                                text  useful  \\\n",
       "0  I am a huge fan of both locally owned business...       4   \n",
       "1  Let me start off by saying. If you cant make a...       8   \n",
       "2  Decent product. ..HORRIBLE service. Totally un...       2   \n",
       "3  I ordered a few 12 inch sandwiches , a turkey ...       1   \n",
       "4  Worst subway of any I have visited. I have man...       1   \n",
       "\n",
       "                  user_id  \n",
       "0  jSD05fFrAFa5gX3ZQae1tw  \n",
       "1  oagZh5A2cWJXZBLakS_KpQ  \n",
       "2  6BSwuyc7fvcccJgrY4_W5Q  \n",
       "3  ih7Dmu7wZpKVwlBRbakJOQ  \n",
       "4  m3WBc9bGxn1q1ikAFq8PaA  "
      ]
     },
     "execution_count": 6,
     "metadata": {},
     "output_type": "execute_result"
    }
   ],
   "source": [
    "df.head()"
   ]
  },
  {
   "cell_type": "code",
   "execution_count": 77,
   "metadata": {},
   "outputs": [
    {
     "data": {
      "text/plain": [
       "'zzzPVqSxSvjzlLR3Q7wsUw'"
      ]
     },
     "execution_count": 77,
     "metadata": {},
     "output_type": "execute_result"
    }
   ],
   "source": [
    "df.user_id.max()"
   ]
  },
  {
   "cell_type": "code",
   "execution_count": 7,
   "metadata": {
    "scrolled": true
   },
   "outputs": [
    {
     "data": {
      "text/plain": [
       "(640718, 12)"
      ]
     },
     "execution_count": 7,
     "metadata": {},
     "output_type": "execute_result"
    }
   ],
   "source": [
    "df.shape"
   ]
  },
  {
   "cell_type": "code",
   "execution_count": 8,
   "metadata": {},
   "outputs": [],
   "source": [
    "df_sample = df.sample(n = int(df.shape[0] * 0.05), random_state = 14)"
   ]
  },
  {
   "cell_type": "code",
   "execution_count": 9,
   "metadata": {},
   "outputs": [
    {
     "data": {
      "text/plain": [
       "(32035, 12)"
      ]
     },
     "execution_count": 9,
     "metadata": {},
     "output_type": "execute_result"
    }
   ],
   "source": [
    "df_sample.shape"
   ]
  },
  {
   "cell_type": "markdown",
   "metadata": {},
   "source": [
    "## 1. Clean data and get rating data "
   ]
  },
  {
   "cell_type": "markdown",
   "metadata": {},
   "source": [
    "#### Select relevant columns in the original dataframe"
   ]
  },
  {
   "cell_type": "code",
   "execution_count": 10,
   "metadata": {},
   "outputs": [],
   "source": [
    "# Get business_id, user_id, stars for recommender\n",
    "df_re = df_sample[['business_id', 'user_id', 'stars']]"
   ]
  },
  {
   "cell_type": "code",
   "execution_count": 11,
   "metadata": {},
   "outputs": [
    {
     "data": {
      "text/html": [
       "<div>\n",
       "<style scoped>\n",
       "    .dataframe tbody tr th:only-of-type {\n",
       "        vertical-align: middle;\n",
       "    }\n",
       "\n",
       "    .dataframe tbody tr th {\n",
       "        vertical-align: top;\n",
       "    }\n",
       "\n",
       "    .dataframe thead th {\n",
       "        text-align: right;\n",
       "    }\n",
       "</style>\n",
       "<table border=\"1\" class=\"dataframe\">\n",
       "  <thead>\n",
       "    <tr style=\"text-align: right;\">\n",
       "      <th></th>\n",
       "      <th>business_id</th>\n",
       "      <th>user_id</th>\n",
       "      <th>stars</th>\n",
       "    </tr>\n",
       "  </thead>\n",
       "  <tbody>\n",
       "    <tr>\n",
       "      <th>71253</th>\n",
       "      <td>pHJu8tj3sI8eC5aIHLFEfQ</td>\n",
       "      <td>Jv-qBvI44JFYOCPVEI2Aig</td>\n",
       "      <td>5</td>\n",
       "    </tr>\n",
       "    <tr>\n",
       "      <th>162777</th>\n",
       "      <td>h3pMMRwqBjMeMtk0_qQzRQ</td>\n",
       "      <td>58w7YA4li04e3cOw3BKbUQ</td>\n",
       "      <td>4</td>\n",
       "    </tr>\n",
       "    <tr>\n",
       "      <th>46778</th>\n",
       "      <td>6qKjl6xJQzLb9ka-QbTudA</td>\n",
       "      <td>uwiwGGCfKNCQx0MMbddKbA</td>\n",
       "      <td>4</td>\n",
       "    </tr>\n",
       "    <tr>\n",
       "      <th>106404</th>\n",
       "      <td>YkOCo5ipV2he2WXIAlZb-A</td>\n",
       "      <td>nNMUtoyV7_kuP2Bfg-dQZA</td>\n",
       "      <td>5</td>\n",
       "    </tr>\n",
       "    <tr>\n",
       "      <th>30996</th>\n",
       "      <td>yp2nRId4v-bDtrYl5A3F-g</td>\n",
       "      <td>o6KHdnXxxClpOgC2CN3RLA</td>\n",
       "      <td>5</td>\n",
       "    </tr>\n",
       "  </tbody>\n",
       "</table>\n",
       "</div>"
      ],
      "text/plain": [
       "                   business_id                 user_id  stars\n",
       "71253   pHJu8tj3sI8eC5aIHLFEfQ  Jv-qBvI44JFYOCPVEI2Aig      5\n",
       "162777  h3pMMRwqBjMeMtk0_qQzRQ  58w7YA4li04e3cOw3BKbUQ      4\n",
       "46778   6qKjl6xJQzLb9ka-QbTudA  uwiwGGCfKNCQx0MMbddKbA      4\n",
       "106404  YkOCo5ipV2he2WXIAlZb-A  nNMUtoyV7_kuP2Bfg-dQZA      5\n",
       "30996   yp2nRId4v-bDtrYl5A3F-g  o6KHdnXxxClpOgC2CN3RLA      5"
      ]
     },
     "execution_count": 11,
     "metadata": {},
     "output_type": "execute_result"
    }
   ],
   "source": [
    "df_re.head()"
   ]
  },
  {
   "cell_type": "markdown",
   "metadata": {},
   "source": [
    "#### There are many users that haven't given many reviews, exclude these users from the item-item similarity recommender\n",
    "\n",
    "**Q**: How do we recommend to these users anyways?"
   ]
  },
  {
   "cell_type": "markdown",
   "metadata": {},
   "source": [
    "Item-item similarity is to calculate all pairs of items and calculate their similarity. Then we predict the rating of the user by using simliarity and the user rating of the similar item. With ordering the predicted rating descendingly, we recommend the top k items to the user"
   ]
  },
  {
   "cell_type": "markdown",
   "metadata": {},
   "source": [
    "#### Create utility matrix from records"
   ]
  },
  {
   "cell_type": "code",
   "execution_count": 12,
   "metadata": {},
   "outputs": [],
   "source": [
    "# using pandas.pivot_table\n",
    "df_utility = pd.pivot_table(data = df_re,\n",
    "                           values = 'stars',\n",
    "                           index = 'user_id',\n",
    "                           columns = 'business_id',\n",
    "                           fill_value = 0)"
   ]
  },
  {
   "cell_type": "markdown",
   "metadata": {},
   "source": [
    "## 2. Item-Item similarity recommender"
   ]
  },
  {
   "cell_type": "code",
   "execution_count": 13,
   "metadata": {
    "scrolled": false
   },
   "outputs": [
    {
     "data": {
      "text/html": [
       "<div>\n",
       "<style scoped>\n",
       "    .dataframe tbody tr th:only-of-type {\n",
       "        vertical-align: middle;\n",
       "    }\n",
       "\n",
       "    .dataframe tbody tr th {\n",
       "        vertical-align: top;\n",
       "    }\n",
       "\n",
       "    .dataframe thead th {\n",
       "        text-align: right;\n",
       "    }\n",
       "</style>\n",
       "<table border=\"1\" class=\"dataframe\">\n",
       "  <thead>\n",
       "    <tr style=\"text-align: right;\">\n",
       "      <th>business_id</th>\n",
       "      <th>--9e1ONYQuAa-CB_Rrw7Tw</th>\n",
       "      <th>-1m9o3vGRA8IBPNvNqKLmA</th>\n",
       "      <th>-1vfRrlnNnNJ5boOVghMPA</th>\n",
       "      <th>-3zffZUHoY8bQjGfPSoBKQ</th>\n",
       "      <th>-8R_-EkGpUhBk55K9Dd4mg</th>\n",
       "      <th>-9YyInW1wapzdNZrhQJ9dg</th>\n",
       "      <th>-AD5PiuJHgdUcAK-Vxao2A</th>\n",
       "      <th>-ADtl9bLp8wNqYX1k3KuxA</th>\n",
       "      <th>-Bf8BQ3yMk8U2f45r2DRKw</th>\n",
       "      <th>-BmqghX1sv7sgsxOIS2yAg</th>\n",
       "      <th>...</th>\n",
       "      <th>zp-K5s3pGTWuuaVBWo6WZA</th>\n",
       "      <th>zpoZ6WyQUYff18-z4ZU1mA</th>\n",
       "      <th>zr42_UsWfaIF-rcp37OpwA</th>\n",
       "      <th>zrQ1zKWC-W2PCvwjBururQ</th>\n",
       "      <th>zsQk990PubOHjr1YcLkQFw</th>\n",
       "      <th>zt9RLUIU32fZYOBh2L0NNQ</th>\n",
       "      <th>zttcrQP4MxNS5X5itzStXg</th>\n",
       "      <th>zuwba6QEBIDZT0tJZmNhdQ</th>\n",
       "      <th>zwNC-Ow4eIMan2__bS9-rg</th>\n",
       "      <th>zx_j6OuuHHa2afVoAZuLpA</th>\n",
       "    </tr>\n",
       "    <tr>\n",
       "      <th>user_id</th>\n",
       "      <th></th>\n",
       "      <th></th>\n",
       "      <th></th>\n",
       "      <th></th>\n",
       "      <th></th>\n",
       "      <th></th>\n",
       "      <th></th>\n",
       "      <th></th>\n",
       "      <th></th>\n",
       "      <th></th>\n",
       "      <th></th>\n",
       "      <th></th>\n",
       "      <th></th>\n",
       "      <th></th>\n",
       "      <th></th>\n",
       "      <th></th>\n",
       "      <th></th>\n",
       "      <th></th>\n",
       "      <th></th>\n",
       "      <th></th>\n",
       "      <th></th>\n",
       "    </tr>\n",
       "  </thead>\n",
       "  <tbody>\n",
       "    <tr>\n",
       "      <th>--3WaS23LcIXtxyFULJHTA</th>\n",
       "      <td>0</td>\n",
       "      <td>0</td>\n",
       "      <td>0</td>\n",
       "      <td>0</td>\n",
       "      <td>0</td>\n",
       "      <td>0</td>\n",
       "      <td>0</td>\n",
       "      <td>0</td>\n",
       "      <td>0</td>\n",
       "      <td>0</td>\n",
       "      <td>...</td>\n",
       "      <td>0</td>\n",
       "      <td>0</td>\n",
       "      <td>0</td>\n",
       "      <td>0</td>\n",
       "      <td>0</td>\n",
       "      <td>0</td>\n",
       "      <td>0</td>\n",
       "      <td>0</td>\n",
       "      <td>0</td>\n",
       "      <td>0</td>\n",
       "    </tr>\n",
       "    <tr>\n",
       "      <th>--OuPo_FoEnz41-whCm1hQ</th>\n",
       "      <td>0</td>\n",
       "      <td>0</td>\n",
       "      <td>0</td>\n",
       "      <td>0</td>\n",
       "      <td>0</td>\n",
       "      <td>0</td>\n",
       "      <td>0</td>\n",
       "      <td>0</td>\n",
       "      <td>0</td>\n",
       "      <td>0</td>\n",
       "      <td>...</td>\n",
       "      <td>0</td>\n",
       "      <td>0</td>\n",
       "      <td>0</td>\n",
       "      <td>0</td>\n",
       "      <td>0</td>\n",
       "      <td>0</td>\n",
       "      <td>0</td>\n",
       "      <td>0</td>\n",
       "      <td>0</td>\n",
       "      <td>0</td>\n",
       "    </tr>\n",
       "    <tr>\n",
       "      <th>--RlSfc-QmcHFGHyX6aVjA</th>\n",
       "      <td>0</td>\n",
       "      <td>0</td>\n",
       "      <td>0</td>\n",
       "      <td>0</td>\n",
       "      <td>0</td>\n",
       "      <td>0</td>\n",
       "      <td>0</td>\n",
       "      <td>0</td>\n",
       "      <td>0</td>\n",
       "      <td>0</td>\n",
       "      <td>...</td>\n",
       "      <td>0</td>\n",
       "      <td>0</td>\n",
       "      <td>0</td>\n",
       "      <td>0</td>\n",
       "      <td>0</td>\n",
       "      <td>0</td>\n",
       "      <td>0</td>\n",
       "      <td>0</td>\n",
       "      <td>0</td>\n",
       "      <td>0</td>\n",
       "    </tr>\n",
       "    <tr>\n",
       "      <th>--XroDUidjD1PcmgahDk2w</th>\n",
       "      <td>0</td>\n",
       "      <td>0</td>\n",
       "      <td>0</td>\n",
       "      <td>0</td>\n",
       "      <td>0</td>\n",
       "      <td>0</td>\n",
       "      <td>0</td>\n",
       "      <td>0</td>\n",
       "      <td>0</td>\n",
       "      <td>0</td>\n",
       "      <td>...</td>\n",
       "      <td>0</td>\n",
       "      <td>0</td>\n",
       "      <td>0</td>\n",
       "      <td>0</td>\n",
       "      <td>0</td>\n",
       "      <td>0</td>\n",
       "      <td>0</td>\n",
       "      <td>0</td>\n",
       "      <td>0</td>\n",
       "      <td>0</td>\n",
       "    </tr>\n",
       "    <tr>\n",
       "      <th>--_5wWxmGfXcYDQOhWQUlQ</th>\n",
       "      <td>0</td>\n",
       "      <td>0</td>\n",
       "      <td>0</td>\n",
       "      <td>0</td>\n",
       "      <td>0</td>\n",
       "      <td>0</td>\n",
       "      <td>0</td>\n",
       "      <td>0</td>\n",
       "      <td>0</td>\n",
       "      <td>0</td>\n",
       "      <td>...</td>\n",
       "      <td>0</td>\n",
       "      <td>0</td>\n",
       "      <td>0</td>\n",
       "      <td>0</td>\n",
       "      <td>0</td>\n",
       "      <td>0</td>\n",
       "      <td>0</td>\n",
       "      <td>0</td>\n",
       "      <td>0</td>\n",
       "      <td>0</td>\n",
       "    </tr>\n",
       "  </tbody>\n",
       "</table>\n",
       "<p>5 rows × 3740 columns</p>\n",
       "</div>"
      ],
      "text/plain": [
       "business_id             --9e1ONYQuAa-CB_Rrw7Tw  -1m9o3vGRA8IBPNvNqKLmA  \\\n",
       "user_id                                                                  \n",
       "--3WaS23LcIXtxyFULJHTA                       0                       0   \n",
       "--OuPo_FoEnz41-whCm1hQ                       0                       0   \n",
       "--RlSfc-QmcHFGHyX6aVjA                       0                       0   \n",
       "--XroDUidjD1PcmgahDk2w                       0                       0   \n",
       "--_5wWxmGfXcYDQOhWQUlQ                       0                       0   \n",
       "\n",
       "business_id             -1vfRrlnNnNJ5boOVghMPA  -3zffZUHoY8bQjGfPSoBKQ  \\\n",
       "user_id                                                                  \n",
       "--3WaS23LcIXtxyFULJHTA                       0                       0   \n",
       "--OuPo_FoEnz41-whCm1hQ                       0                       0   \n",
       "--RlSfc-QmcHFGHyX6aVjA                       0                       0   \n",
       "--XroDUidjD1PcmgahDk2w                       0                       0   \n",
       "--_5wWxmGfXcYDQOhWQUlQ                       0                       0   \n",
       "\n",
       "business_id             -8R_-EkGpUhBk55K9Dd4mg  -9YyInW1wapzdNZrhQJ9dg  \\\n",
       "user_id                                                                  \n",
       "--3WaS23LcIXtxyFULJHTA                       0                       0   \n",
       "--OuPo_FoEnz41-whCm1hQ                       0                       0   \n",
       "--RlSfc-QmcHFGHyX6aVjA                       0                       0   \n",
       "--XroDUidjD1PcmgahDk2w                       0                       0   \n",
       "--_5wWxmGfXcYDQOhWQUlQ                       0                       0   \n",
       "\n",
       "business_id             -AD5PiuJHgdUcAK-Vxao2A  -ADtl9bLp8wNqYX1k3KuxA  \\\n",
       "user_id                                                                  \n",
       "--3WaS23LcIXtxyFULJHTA                       0                       0   \n",
       "--OuPo_FoEnz41-whCm1hQ                       0                       0   \n",
       "--RlSfc-QmcHFGHyX6aVjA                       0                       0   \n",
       "--XroDUidjD1PcmgahDk2w                       0                       0   \n",
       "--_5wWxmGfXcYDQOhWQUlQ                       0                       0   \n",
       "\n",
       "business_id             -Bf8BQ3yMk8U2f45r2DRKw  -BmqghX1sv7sgsxOIS2yAg  \\\n",
       "user_id                                                                  \n",
       "--3WaS23LcIXtxyFULJHTA                       0                       0   \n",
       "--OuPo_FoEnz41-whCm1hQ                       0                       0   \n",
       "--RlSfc-QmcHFGHyX6aVjA                       0                       0   \n",
       "--XroDUidjD1PcmgahDk2w                       0                       0   \n",
       "--_5wWxmGfXcYDQOhWQUlQ                       0                       0   \n",
       "\n",
       "business_id                      ...            zp-K5s3pGTWuuaVBWo6WZA  \\\n",
       "user_id                          ...                                     \n",
       "--3WaS23LcIXtxyFULJHTA           ...                                 0   \n",
       "--OuPo_FoEnz41-whCm1hQ           ...                                 0   \n",
       "--RlSfc-QmcHFGHyX6aVjA           ...                                 0   \n",
       "--XroDUidjD1PcmgahDk2w           ...                                 0   \n",
       "--_5wWxmGfXcYDQOhWQUlQ           ...                                 0   \n",
       "\n",
       "business_id             zpoZ6WyQUYff18-z4ZU1mA  zr42_UsWfaIF-rcp37OpwA  \\\n",
       "user_id                                                                  \n",
       "--3WaS23LcIXtxyFULJHTA                       0                       0   \n",
       "--OuPo_FoEnz41-whCm1hQ                       0                       0   \n",
       "--RlSfc-QmcHFGHyX6aVjA                       0                       0   \n",
       "--XroDUidjD1PcmgahDk2w                       0                       0   \n",
       "--_5wWxmGfXcYDQOhWQUlQ                       0                       0   \n",
       "\n",
       "business_id             zrQ1zKWC-W2PCvwjBururQ  zsQk990PubOHjr1YcLkQFw  \\\n",
       "user_id                                                                  \n",
       "--3WaS23LcIXtxyFULJHTA                       0                       0   \n",
       "--OuPo_FoEnz41-whCm1hQ                       0                       0   \n",
       "--RlSfc-QmcHFGHyX6aVjA                       0                       0   \n",
       "--XroDUidjD1PcmgahDk2w                       0                       0   \n",
       "--_5wWxmGfXcYDQOhWQUlQ                       0                       0   \n",
       "\n",
       "business_id             zt9RLUIU32fZYOBh2L0NNQ  zttcrQP4MxNS5X5itzStXg  \\\n",
       "user_id                                                                  \n",
       "--3WaS23LcIXtxyFULJHTA                       0                       0   \n",
       "--OuPo_FoEnz41-whCm1hQ                       0                       0   \n",
       "--RlSfc-QmcHFGHyX6aVjA                       0                       0   \n",
       "--XroDUidjD1PcmgahDk2w                       0                       0   \n",
       "--_5wWxmGfXcYDQOhWQUlQ                       0                       0   \n",
       "\n",
       "business_id             zuwba6QEBIDZT0tJZmNhdQ  zwNC-Ow4eIMan2__bS9-rg  \\\n",
       "user_id                                                                  \n",
       "--3WaS23LcIXtxyFULJHTA                       0                       0   \n",
       "--OuPo_FoEnz41-whCm1hQ                       0                       0   \n",
       "--RlSfc-QmcHFGHyX6aVjA                       0                       0   \n",
       "--XroDUidjD1PcmgahDk2w                       0                       0   \n",
       "--_5wWxmGfXcYDQOhWQUlQ                       0                       0   \n",
       "\n",
       "business_id             zx_j6OuuHHa2afVoAZuLpA  \n",
       "user_id                                         \n",
       "--3WaS23LcIXtxyFULJHTA                       0  \n",
       "--OuPo_FoEnz41-whCm1hQ                       0  \n",
       "--RlSfc-QmcHFGHyX6aVjA                       0  \n",
       "--XroDUidjD1PcmgahDk2w                       0  \n",
       "--_5wWxmGfXcYDQOhWQUlQ                       0  \n",
       "\n",
       "[5 rows x 3740 columns]"
      ]
     },
     "execution_count": 13,
     "metadata": {},
     "output_type": "execute_result"
    }
   ],
   "source": [
    "df_utility.head()"
   ]
  },
  {
   "cell_type": "code",
   "execution_count": 13,
   "metadata": {
    "scrolled": false
   },
   "outputs": [
    {
     "name": "stdout",
     "output_type": "stream",
     "text": [
      "<class 'pandas.core.frame.DataFrame'>\n",
      "Index: 27214 entries, --3WaS23LcIXtxyFULJHTA to zzhB7A-ZQfaJ8KJhAvf_rA\n",
      "Columns: 3740 entries, --9e1ONYQuAa-CB_Rrw7Tw to zx_j6OuuHHa2afVoAZuLpA\n",
      "dtypes: int64(3740)\n",
      "memory usage: 776.7+ MB\n"
     ]
    }
   ],
   "source": [
    "df_utility.info()"
   ]
  },
  {
   "cell_type": "code",
   "execution_count": 14,
   "metadata": {},
   "outputs": [
    {
     "data": {
      "text/plain": [
       "(27214, 3740)"
      ]
     },
     "execution_count": 14,
     "metadata": {},
     "output_type": "execute_result"
    }
   ],
   "source": [
    "df_utility.shape"
   ]
  },
  {
   "cell_type": "code",
   "execution_count": 44,
   "metadata": {},
   "outputs": [
    {
     "data": {
      "text/plain": [
       "'1QM296OFfiS2HmxxMcL6pg'"
      ]
     },
     "execution_count": 44,
     "metadata": {},
     "output_type": "execute_result"
    }
   ],
   "source": [
    "df_utility.index[1000]"
   ]
  },
  {
   "cell_type": "code",
   "execution_count": 15,
   "metadata": {},
   "outputs": [],
   "source": [
    "from sklearn.metrics.pairwise import cosine_similarity"
   ]
  },
  {
   "cell_type": "code",
   "execution_count": 16,
   "metadata": {},
   "outputs": [],
   "source": [
    "item_sim_mat = cosine_similarity(df_utility)"
   ]
  },
  {
   "cell_type": "code",
   "execution_count": 17,
   "metadata": {},
   "outputs": [
    {
     "data": {
      "text/plain": [
       "numpy.ndarray"
      ]
     },
     "execution_count": 17,
     "metadata": {},
     "output_type": "execute_result"
    }
   ],
   "source": [
    "type(item_sim_mat)"
   ]
  },
  {
   "cell_type": "code",
   "execution_count": 54,
   "metadata": {},
   "outputs": [
    {
     "data": {
      "text/plain": [
       "array([[1., 0., 0., ..., 0., 0., 0.],\n",
       "       [0., 1., 0., ..., 0., 0., 0.],\n",
       "       [0., 0., 1., ..., 0., 0., 0.],\n",
       "       ...,\n",
       "       [0., 0., 0., ..., 1., 0., 0.],\n",
       "       [0., 0., 0., ..., 0., 1., 0.],\n",
       "       [0., 0., 0., ..., 0., 0., 1.]])"
      ]
     },
     "execution_count": 54,
     "metadata": {},
     "output_type": "execute_result"
    }
   ],
   "source": [
    "item_sim_mat"
   ]
  },
  {
   "cell_type": "code",
   "execution_count": 57,
   "metadata": {},
   "outputs": [],
   "source": [
    "least_to_most_sim_indexes = np.argsort(item_sim_mat, axis=1)\n",
    "\n",
    "# Neighborhoods\n",
    "neighborhood_size = 1000\n",
    "neighborhoods = least_to_most_sim_indexes[:, -neighborhood_size:]"
   ]
  },
  {
   "cell_type": "code",
   "execution_count": 20,
   "metadata": {},
   "outputs": [
    {
     "data": {
      "text/plain": [
       "(27214, 75)"
      ]
     },
     "execution_count": 20,
     "metadata": {},
     "output_type": "execute_result"
    }
   ],
   "source": [
    "neighborhoods.shape"
   ]
  },
  {
   "cell_type": "code",
   "execution_count": 50,
   "metadata": {},
   "outputs": [],
   "source": [
    "user_id = df_utility.index[10000]"
   ]
  },
  {
   "cell_type": "code",
   "execution_count": 21,
   "metadata": {},
   "outputs": [],
   "source": [
    "n_users = df_utility.shape[0]\n",
    "n_items = df_utility.shape[1]"
   ]
  },
  {
   "cell_type": "code",
   "execution_count": 22,
   "metadata": {},
   "outputs": [
    {
     "data": {
      "text/plain": [
       "27214"
      ]
     },
     "execution_count": 22,
     "metadata": {},
     "output_type": "execute_result"
    }
   ],
   "source": [
    "n_users"
   ]
  },
  {
   "cell_type": "code",
   "execution_count": 23,
   "metadata": {},
   "outputs": [
    {
     "data": {
      "text/plain": [
       "3740"
      ]
     },
     "execution_count": 23,
     "metadata": {},
     "output_type": "execute_result"
    }
   ],
   "source": [
    "# items means the businesses\n",
    "n_items"
   ]
  },
  {
   "cell_type": "code",
   "execution_count": 28,
   "metadata": {},
   "outputs": [
    {
     "data": {
      "text/html": [
       "<div>\n",
       "<style scoped>\n",
       "    .dataframe tbody tr th:only-of-type {\n",
       "        vertical-align: middle;\n",
       "    }\n",
       "\n",
       "    .dataframe tbody tr th {\n",
       "        vertical-align: top;\n",
       "    }\n",
       "\n",
       "    .dataframe thead th {\n",
       "        text-align: right;\n",
       "    }\n",
       "</style>\n",
       "<table border=\"1\" class=\"dataframe\">\n",
       "  <thead>\n",
       "    <tr style=\"text-align: right;\">\n",
       "      <th>business_id</th>\n",
       "      <th>--9e1ONYQuAa-CB_Rrw7Tw</th>\n",
       "      <th>-1m9o3vGRA8IBPNvNqKLmA</th>\n",
       "      <th>-1vfRrlnNnNJ5boOVghMPA</th>\n",
       "      <th>-3zffZUHoY8bQjGfPSoBKQ</th>\n",
       "      <th>-8R_-EkGpUhBk55K9Dd4mg</th>\n",
       "      <th>-9YyInW1wapzdNZrhQJ9dg</th>\n",
       "      <th>-AD5PiuJHgdUcAK-Vxao2A</th>\n",
       "      <th>-ADtl9bLp8wNqYX1k3KuxA</th>\n",
       "      <th>-Bf8BQ3yMk8U2f45r2DRKw</th>\n",
       "      <th>-BmqghX1sv7sgsxOIS2yAg</th>\n",
       "      <th>...</th>\n",
       "      <th>zp-K5s3pGTWuuaVBWo6WZA</th>\n",
       "      <th>zpoZ6WyQUYff18-z4ZU1mA</th>\n",
       "      <th>zr42_UsWfaIF-rcp37OpwA</th>\n",
       "      <th>zrQ1zKWC-W2PCvwjBururQ</th>\n",
       "      <th>zsQk990PubOHjr1YcLkQFw</th>\n",
       "      <th>zt9RLUIU32fZYOBh2L0NNQ</th>\n",
       "      <th>zttcrQP4MxNS5X5itzStXg</th>\n",
       "      <th>zuwba6QEBIDZT0tJZmNhdQ</th>\n",
       "      <th>zwNC-Ow4eIMan2__bS9-rg</th>\n",
       "      <th>zx_j6OuuHHa2afVoAZuLpA</th>\n",
       "    </tr>\n",
       "    <tr>\n",
       "      <th>user_id</th>\n",
       "      <th></th>\n",
       "      <th></th>\n",
       "      <th></th>\n",
       "      <th></th>\n",
       "      <th></th>\n",
       "      <th></th>\n",
       "      <th></th>\n",
       "      <th></th>\n",
       "      <th></th>\n",
       "      <th></th>\n",
       "      <th></th>\n",
       "      <th></th>\n",
       "      <th></th>\n",
       "      <th></th>\n",
       "      <th></th>\n",
       "      <th></th>\n",
       "      <th></th>\n",
       "      <th></th>\n",
       "      <th></th>\n",
       "      <th></th>\n",
       "      <th></th>\n",
       "    </tr>\n",
       "  </thead>\n",
       "  <tbody>\n",
       "    <tr>\n",
       "      <th>--3WaS23LcIXtxyFULJHTA</th>\n",
       "      <td>0</td>\n",
       "      <td>0</td>\n",
       "      <td>0</td>\n",
       "      <td>0</td>\n",
       "      <td>0</td>\n",
       "      <td>0</td>\n",
       "      <td>0</td>\n",
       "      <td>0</td>\n",
       "      <td>0</td>\n",
       "      <td>0</td>\n",
       "      <td>...</td>\n",
       "      <td>0</td>\n",
       "      <td>0</td>\n",
       "      <td>0</td>\n",
       "      <td>0</td>\n",
       "      <td>0</td>\n",
       "      <td>0</td>\n",
       "      <td>0</td>\n",
       "      <td>0</td>\n",
       "      <td>0</td>\n",
       "      <td>0</td>\n",
       "    </tr>\n",
       "    <tr>\n",
       "      <th>--OuPo_FoEnz41-whCm1hQ</th>\n",
       "      <td>0</td>\n",
       "      <td>0</td>\n",
       "      <td>0</td>\n",
       "      <td>0</td>\n",
       "      <td>0</td>\n",
       "      <td>0</td>\n",
       "      <td>0</td>\n",
       "      <td>0</td>\n",
       "      <td>0</td>\n",
       "      <td>0</td>\n",
       "      <td>...</td>\n",
       "      <td>0</td>\n",
       "      <td>0</td>\n",
       "      <td>0</td>\n",
       "      <td>0</td>\n",
       "      <td>0</td>\n",
       "      <td>0</td>\n",
       "      <td>0</td>\n",
       "      <td>0</td>\n",
       "      <td>0</td>\n",
       "      <td>0</td>\n",
       "    </tr>\n",
       "    <tr>\n",
       "      <th>--RlSfc-QmcHFGHyX6aVjA</th>\n",
       "      <td>0</td>\n",
       "      <td>0</td>\n",
       "      <td>0</td>\n",
       "      <td>0</td>\n",
       "      <td>0</td>\n",
       "      <td>0</td>\n",
       "      <td>0</td>\n",
       "      <td>0</td>\n",
       "      <td>0</td>\n",
       "      <td>0</td>\n",
       "      <td>...</td>\n",
       "      <td>0</td>\n",
       "      <td>0</td>\n",
       "      <td>0</td>\n",
       "      <td>0</td>\n",
       "      <td>0</td>\n",
       "      <td>0</td>\n",
       "      <td>0</td>\n",
       "      <td>0</td>\n",
       "      <td>0</td>\n",
       "      <td>0</td>\n",
       "    </tr>\n",
       "    <tr>\n",
       "      <th>--XroDUidjD1PcmgahDk2w</th>\n",
       "      <td>0</td>\n",
       "      <td>0</td>\n",
       "      <td>0</td>\n",
       "      <td>0</td>\n",
       "      <td>0</td>\n",
       "      <td>0</td>\n",
       "      <td>0</td>\n",
       "      <td>0</td>\n",
       "      <td>0</td>\n",
       "      <td>0</td>\n",
       "      <td>...</td>\n",
       "      <td>0</td>\n",
       "      <td>0</td>\n",
       "      <td>0</td>\n",
       "      <td>0</td>\n",
       "      <td>0</td>\n",
       "      <td>0</td>\n",
       "      <td>0</td>\n",
       "      <td>0</td>\n",
       "      <td>0</td>\n",
       "      <td>0</td>\n",
       "    </tr>\n",
       "    <tr>\n",
       "      <th>--_5wWxmGfXcYDQOhWQUlQ</th>\n",
       "      <td>0</td>\n",
       "      <td>0</td>\n",
       "      <td>0</td>\n",
       "      <td>0</td>\n",
       "      <td>0</td>\n",
       "      <td>0</td>\n",
       "      <td>0</td>\n",
       "      <td>0</td>\n",
       "      <td>0</td>\n",
       "      <td>0</td>\n",
       "      <td>...</td>\n",
       "      <td>0</td>\n",
       "      <td>0</td>\n",
       "      <td>0</td>\n",
       "      <td>0</td>\n",
       "      <td>0</td>\n",
       "      <td>0</td>\n",
       "      <td>0</td>\n",
       "      <td>0</td>\n",
       "      <td>0</td>\n",
       "      <td>0</td>\n",
       "    </tr>\n",
       "  </tbody>\n",
       "</table>\n",
       "<p>5 rows × 3740 columns</p>\n",
       "</div>"
      ],
      "text/plain": [
       "business_id             --9e1ONYQuAa-CB_Rrw7Tw  -1m9o3vGRA8IBPNvNqKLmA  \\\n",
       "user_id                                                                  \n",
       "--3WaS23LcIXtxyFULJHTA                       0                       0   \n",
       "--OuPo_FoEnz41-whCm1hQ                       0                       0   \n",
       "--RlSfc-QmcHFGHyX6aVjA                       0                       0   \n",
       "--XroDUidjD1PcmgahDk2w                       0                       0   \n",
       "--_5wWxmGfXcYDQOhWQUlQ                       0                       0   \n",
       "\n",
       "business_id             -1vfRrlnNnNJ5boOVghMPA  -3zffZUHoY8bQjGfPSoBKQ  \\\n",
       "user_id                                                                  \n",
       "--3WaS23LcIXtxyFULJHTA                       0                       0   \n",
       "--OuPo_FoEnz41-whCm1hQ                       0                       0   \n",
       "--RlSfc-QmcHFGHyX6aVjA                       0                       0   \n",
       "--XroDUidjD1PcmgahDk2w                       0                       0   \n",
       "--_5wWxmGfXcYDQOhWQUlQ                       0                       0   \n",
       "\n",
       "business_id             -8R_-EkGpUhBk55K9Dd4mg  -9YyInW1wapzdNZrhQJ9dg  \\\n",
       "user_id                                                                  \n",
       "--3WaS23LcIXtxyFULJHTA                       0                       0   \n",
       "--OuPo_FoEnz41-whCm1hQ                       0                       0   \n",
       "--RlSfc-QmcHFGHyX6aVjA                       0                       0   \n",
       "--XroDUidjD1PcmgahDk2w                       0                       0   \n",
       "--_5wWxmGfXcYDQOhWQUlQ                       0                       0   \n",
       "\n",
       "business_id             -AD5PiuJHgdUcAK-Vxao2A  -ADtl9bLp8wNqYX1k3KuxA  \\\n",
       "user_id                                                                  \n",
       "--3WaS23LcIXtxyFULJHTA                       0                       0   \n",
       "--OuPo_FoEnz41-whCm1hQ                       0                       0   \n",
       "--RlSfc-QmcHFGHyX6aVjA                       0                       0   \n",
       "--XroDUidjD1PcmgahDk2w                       0                       0   \n",
       "--_5wWxmGfXcYDQOhWQUlQ                       0                       0   \n",
       "\n",
       "business_id             -Bf8BQ3yMk8U2f45r2DRKw  -BmqghX1sv7sgsxOIS2yAg  \\\n",
       "user_id                                                                  \n",
       "--3WaS23LcIXtxyFULJHTA                       0                       0   \n",
       "--OuPo_FoEnz41-whCm1hQ                       0                       0   \n",
       "--RlSfc-QmcHFGHyX6aVjA                       0                       0   \n",
       "--XroDUidjD1PcmgahDk2w                       0                       0   \n",
       "--_5wWxmGfXcYDQOhWQUlQ                       0                       0   \n",
       "\n",
       "business_id                      ...            zp-K5s3pGTWuuaVBWo6WZA  \\\n",
       "user_id                          ...                                     \n",
       "--3WaS23LcIXtxyFULJHTA           ...                                 0   \n",
       "--OuPo_FoEnz41-whCm1hQ           ...                                 0   \n",
       "--RlSfc-QmcHFGHyX6aVjA           ...                                 0   \n",
       "--XroDUidjD1PcmgahDk2w           ...                                 0   \n",
       "--_5wWxmGfXcYDQOhWQUlQ           ...                                 0   \n",
       "\n",
       "business_id             zpoZ6WyQUYff18-z4ZU1mA  zr42_UsWfaIF-rcp37OpwA  \\\n",
       "user_id                                                                  \n",
       "--3WaS23LcIXtxyFULJHTA                       0                       0   \n",
       "--OuPo_FoEnz41-whCm1hQ                       0                       0   \n",
       "--RlSfc-QmcHFGHyX6aVjA                       0                       0   \n",
       "--XroDUidjD1PcmgahDk2w                       0                       0   \n",
       "--_5wWxmGfXcYDQOhWQUlQ                       0                       0   \n",
       "\n",
       "business_id             zrQ1zKWC-W2PCvwjBururQ  zsQk990PubOHjr1YcLkQFw  \\\n",
       "user_id                                                                  \n",
       "--3WaS23LcIXtxyFULJHTA                       0                       0   \n",
       "--OuPo_FoEnz41-whCm1hQ                       0                       0   \n",
       "--RlSfc-QmcHFGHyX6aVjA                       0                       0   \n",
       "--XroDUidjD1PcmgahDk2w                       0                       0   \n",
       "--_5wWxmGfXcYDQOhWQUlQ                       0                       0   \n",
       "\n",
       "business_id             zt9RLUIU32fZYOBh2L0NNQ  zttcrQP4MxNS5X5itzStXg  \\\n",
       "user_id                                                                  \n",
       "--3WaS23LcIXtxyFULJHTA                       0                       0   \n",
       "--OuPo_FoEnz41-whCm1hQ                       0                       0   \n",
       "--RlSfc-QmcHFGHyX6aVjA                       0                       0   \n",
       "--XroDUidjD1PcmgahDk2w                       0                       0   \n",
       "--_5wWxmGfXcYDQOhWQUlQ                       0                       0   \n",
       "\n",
       "business_id             zuwba6QEBIDZT0tJZmNhdQ  zwNC-Ow4eIMan2__bS9-rg  \\\n",
       "user_id                                                                  \n",
       "--3WaS23LcIXtxyFULJHTA                       0                       0   \n",
       "--OuPo_FoEnz41-whCm1hQ                       0                       0   \n",
       "--RlSfc-QmcHFGHyX6aVjA                       0                       0   \n",
       "--XroDUidjD1PcmgahDk2w                       0                       0   \n",
       "--_5wWxmGfXcYDQOhWQUlQ                       0                       0   \n",
       "\n",
       "business_id             zx_j6OuuHHa2afVoAZuLpA  \n",
       "user_id                                         \n",
       "--3WaS23LcIXtxyFULJHTA                       0  \n",
       "--OuPo_FoEnz41-whCm1hQ                       0  \n",
       "--RlSfc-QmcHFGHyX6aVjA                       0  \n",
       "--XroDUidjD1PcmgahDk2w                       0  \n",
       "--_5wWxmGfXcYDQOhWQUlQ                       0  \n",
       "\n",
       "[5 rows x 3740 columns]"
      ]
     },
     "execution_count": 28,
     "metadata": {},
     "output_type": "execute_result"
    }
   ],
   "source": [
    "df_utility.head()"
   ]
  },
  {
   "cell_type": "code",
   "execution_count": 72,
   "metadata": {
    "scrolled": true
   },
   "outputs": [],
   "source": [
    "# start_time = time()\n",
    "# return the indices of the elements that are non-zero\n",
    "items_rated_by_this_user = df_utility.loc[user_id].nonzero()[0]"
   ]
  },
  {
   "cell_type": "code",
   "execution_count": 73,
   "metadata": {
    "scrolled": true
   },
   "outputs": [
    {
     "data": {
      "text/plain": [
       "array([2571])"
      ]
     },
     "execution_count": 73,
     "metadata": {},
     "output_type": "execute_result"
    }
   ],
   "source": [
    "items_rated_by_this_user"
   ]
  },
  {
   "cell_type": "code",
   "execution_count": 74,
   "metadata": {},
   "outputs": [
    {
     "data": {
      "text/plain": [
       "numpy.int64"
      ]
     },
     "execution_count": 74,
     "metadata": {},
     "output_type": "execute_result"
    }
   ],
   "source": [
    "type(items_rated_by_this_user[0])"
   ]
  },
  {
   "cell_type": "code",
   "execution_count": 41,
   "metadata": {},
   "outputs": [],
   "source": [
    "# Just initializing so we have somewhere to put rating preds\n",
    "out = np.zeros(n_items)"
   ]
  },
  {
   "cell_type": "code",
   "execution_count": 43,
   "metadata": {},
   "outputs": [
    {
     "data": {
      "text/plain": [
       "3740"
      ]
     },
     "execution_count": 43,
     "metadata": {},
     "output_type": "execute_result"
    }
   ],
   "source": [
    "len(out)"
   ]
  },
  {
   "cell_type": "code",
   "execution_count": 71,
   "metadata": {},
   "outputs": [
    {
     "data": {
      "text/plain": [
       "Series([], Name: MfWCOcyalc-uz7X65RlQhg, dtype: int64)"
      ]
     },
     "execution_count": 71,
     "metadata": {},
     "output_type": "execute_result"
    }
   ],
   "source": [
    "df_utility.loc[user_id, relevant_items]"
   ]
  },
  {
   "cell_type": "code",
   "execution_count": 66,
   "metadata": {},
   "outputs": [
    {
     "data": {
      "text/plain": [
       "0.0"
      ]
     },
     "execution_count": 66,
     "metadata": {},
     "output_type": "execute_result"
    }
   ],
   "source": [
    "item_sim_mat[1, 0]"
   ]
  },
  {
   "cell_type": "code",
   "execution_count": 67,
   "metadata": {},
   "outputs": [
    {
     "data": {
      "text/plain": [
       "0.0"
      ]
     },
     "execution_count": 67,
     "metadata": {},
     "output_type": "execute_result"
    }
   ],
   "source": [
    "item_sim_mat[2, 2571]"
   ]
  },
  {
   "cell_type": "code",
   "execution_count": 70,
   "metadata": {},
   "outputs": [
    {
     "ename": "ValueError",
     "evalue": "setting an array element with a sequence.",
     "output_type": "error",
     "traceback": [
      "\u001b[0;31m---------------------------------------------------------------------------\u001b[0m",
      "\u001b[0;31mValueError\u001b[0m                                Traceback (most recent call last)",
      "\u001b[0;32m<ipython-input-70-ae645caeab43>\u001b[0m in \u001b[0;36m<module>\u001b[0;34m()\u001b[0m\n\u001b[1;32m      4\u001b[0m                                     assume_unique=True)  # assume_unique speeds up intersection op\n\u001b[1;32m      5\u001b[0m \u001b[0;31m#     print(relevant_items)\u001b[0m\u001b[0;34m\u001b[0m\u001b[0;34m\u001b[0m\u001b[0m\n\u001b[0;32m----> 6\u001b[0;31m     \u001b[0mout\u001b[0m\u001b[0;34m[\u001b[0m\u001b[0mitem_to_rate\u001b[0m\u001b[0;34m]\u001b[0m \u001b[0;34m=\u001b[0m \u001b[0mdf_utility\u001b[0m\u001b[0;34m.\u001b[0m\u001b[0mloc\u001b[0m\u001b[0;34m[\u001b[0m\u001b[0muser_id\u001b[0m\u001b[0;34m,\u001b[0m \u001b[0mrelevant_items\u001b[0m\u001b[0;34m]\u001b[0m \u001b[0;34m*\u001b[0m         \u001b[0mitem_sim_mat\u001b[0m\u001b[0;34m[\u001b[0m\u001b[0mitem_to_rate\u001b[0m\u001b[0;34m,\u001b[0m \u001b[0mrelevant_items\u001b[0m\u001b[0;34m]\u001b[0m \u001b[0;34m/\u001b[0m         \u001b[0mitem_sim_mat\u001b[0m\u001b[0;34m[\u001b[0m\u001b[0mitem_to_rate\u001b[0m\u001b[0;34m,\u001b[0m \u001b[0mrelevant_items\u001b[0m\u001b[0;34m]\u001b[0m\u001b[0;34m.\u001b[0m\u001b[0msum\u001b[0m\u001b[0;34m(\u001b[0m\u001b[0;34m)\u001b[0m\u001b[0;34m\u001b[0m\u001b[0m\n\u001b[0m\u001b[1;32m      7\u001b[0m \u001b[0;34m\u001b[0m\u001b[0m\n\u001b[1;32m      8\u001b[0m \u001b[0;34m\u001b[0m\u001b[0m\n",
      "\u001b[0;31mValueError\u001b[0m: setting an array element with a sequence."
     ]
    }
   ],
   "source": [
    "for item_to_rate in range(n_items):\n",
    "    relevant_items = np.intersect1d(neighborhoods[item_to_rate],\n",
    "                                    items_rated_by_this_user,\n",
    "                                    assume_unique=True)  # assume_unique speeds up intersection op\n",
    "#     print(relevant_items)\n",
    "    out[item_to_rate] = df_utility.loc[user_id, relevant_items] * \\\n",
    "        item_sim_mat[item_to_rate, relevant_items] / \\\n",
    "        item_sim_mat[item_to_rate, relevant_items].sum()\n",
    "\n",
    "\n",
    "# pred_ratings = np.nan_to_num(out)\n",
    "# print(pred_ratings)\n",
    "# print(\"Execution time: %f seconds\" % (time()-start_time))"
   ]
  },
  {
   "cell_type": "code",
   "execution_count": 59,
   "metadata": {
    "scrolled": true
   },
   "outputs": [
    {
     "data": {
      "text/plain": [
       "0"
      ]
     },
     "execution_count": 59,
     "metadata": {},
     "output_type": "execute_result"
    }
   ],
   "source": [
    "len(relevant_items)"
   ]
  },
  {
   "cell_type": "markdown",
   "metadata": {},
   "source": [
    "### Let's reuse the ItemItemRecommender class derived from previous exercise\n",
    "\n",
    "Hint: we need to make modification to accommodate the dense numpy array"
   ]
  },
  {
   "cell_type": "code",
   "execution_count": null,
   "metadata": {
    "collapsed": true
   },
   "outputs": [],
   "source": [
    "# To be implemented\n",
    "\n",
    "pass"
   ]
  },
  {
   "cell_type": "markdown",
   "metadata": {},
   "source": [
    "## 3. Matrix Factorization recommender\n",
    "\n",
    "##### Compare two of the methods demoed in Practice Class: sklearn NMF, sklearn TruncatedSVD, or GraphLab\n",
    "##### *Extra points for using GraphLab"
   ]
  },
  {
   "cell_type": "markdown",
   "metadata": {},
   "source": []
  },
  {
   "cell_type": "markdown",
   "metadata": {},
   "source": [
    "## 4. Other recommenders (optional)\n",
    "\n",
    "What are other ways you can build a better recommender?\n",
    "\n",
    "* Other features (have you noticed there are other features in the Yelp dataset, e.g. tips, etc.?)\n",
    "* Popularity-based\n",
    "* Content-based\n",
    "* Hybrid"
   ]
  },
  {
   "cell_type": "code",
   "execution_count": null,
   "metadata": {
    "collapsed": true
   },
   "outputs": [],
   "source": []
  }
 ],
 "metadata": {
  "anaconda-cloud": {},
  "kernelspec": {
   "display_name": "Python 3",
   "language": "python",
   "name": "python3"
  },
  "language_info": {
   "codemirror_mode": {
    "name": "ipython",
    "version": 3
   },
   "file_extension": ".py",
   "mimetype": "text/x-python",
   "name": "python",
   "nbconvert_exporter": "python",
   "pygments_lexer": "ipython3",
   "version": "3.7.0"
  }
 },
 "nbformat": 4,
 "nbformat_minor": 1
}
