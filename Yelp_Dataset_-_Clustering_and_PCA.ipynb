{
 "cells": [
  {
   "cell_type": "markdown",
   "metadata": {},
   "source": [
    "# Yelp Data Challenge - Clustering and PCA\n",
    "\n",
    "BitTiger DS501\n",
    "\n",
    "Nov 2017"
   ]
  },
  {
   "cell_type": "code",
   "execution_count": 3,
   "metadata": {},
   "outputs": [],
   "source": [
    "import pandas as pd\n",
    "import numpy as np\n",
    "import matplotlib.pyplot as plt\n",
    "% matplotlib inline\n",
    "plt.style.use(\"ggplot\")"
   ]
  },
  {
   "cell_type": "code",
   "execution_count": 4,
   "metadata": {
    "scrolled": true
   },
   "outputs": [
    {
     "data": {
      "text/plain": [
       "'/Users/zirongwu/DataScience/DS501/BitTiger-DS501-1805/Homework/Yelp_Data_Challenge_Project/code'"
      ]
     },
     "execution_count": 4,
     "metadata": {},
     "output_type": "execute_result"
    }
   ],
   "source": [
    "pwd"
   ]
  },
  {
   "cell_type": "code",
   "execution_count": 5,
   "metadata": {},
   "outputs": [
    {
     "name": "stdout",
     "output_type": "stream",
     "text": [
      "/Users/zirongwu/DataScience/DS501/BitTiger-DS501-1805/Homework/Yelp_Data_Challenge_Project\n"
     ]
    }
   ],
   "source": [
    "cd .."
   ]
  },
  {
   "cell_type": "code",
   "execution_count": 6,
   "metadata": {
    "scrolled": true
   },
   "outputs": [],
   "source": [
    "df = pd.read_csv('dataset/last_2_years_restaurant_reviews.csv')"
   ]
  },
  {
   "cell_type": "code",
   "execution_count": 7,
   "metadata": {
    "scrolled": false
   },
   "outputs": [
    {
     "data": {
      "text/html": [
       "<div>\n",
       "<style scoped>\n",
       "    .dataframe tbody tr th:only-of-type {\n",
       "        vertical-align: middle;\n",
       "    }\n",
       "\n",
       "    .dataframe tbody tr th {\n",
       "        vertical-align: top;\n",
       "    }\n",
       "\n",
       "    .dataframe thead th {\n",
       "        text-align: right;\n",
       "    }\n",
       "</style>\n",
       "<table border=\"1\" class=\"dataframe\">\n",
       "  <thead>\n",
       "    <tr style=\"text-align: right;\">\n",
       "      <th></th>\n",
       "      <th>business_id</th>\n",
       "      <th>name</th>\n",
       "      <th>categories</th>\n",
       "      <th>avg_stars</th>\n",
       "      <th>cool</th>\n",
       "      <th>date</th>\n",
       "      <th>funny</th>\n",
       "      <th>review_id</th>\n",
       "      <th>stars</th>\n",
       "      <th>text</th>\n",
       "      <th>useful</th>\n",
       "      <th>user_id</th>\n",
       "    </tr>\n",
       "  </thead>\n",
       "  <tbody>\n",
       "    <tr>\n",
       "      <th>0</th>\n",
       "      <td>vJIuDBdu01vCA8y1fwR1OQ</td>\n",
       "      <td>CakesbyToi</td>\n",
       "      <td>American (Traditional), Food, Bakeries, Restau...</td>\n",
       "      <td>1.5</td>\n",
       "      <td>1</td>\n",
       "      <td>2015-08-02</td>\n",
       "      <td>0</td>\n",
       "      <td>UgwmWy_68S_aKR9wTWKGOg</td>\n",
       "      <td>3</td>\n",
       "      <td>I am a huge fan of both locally owned business...</td>\n",
       "      <td>4</td>\n",
       "      <td>jSD05fFrAFa5gX3ZQae1tw</td>\n",
       "    </tr>\n",
       "    <tr>\n",
       "      <th>1</th>\n",
       "      <td>vJIuDBdu01vCA8y1fwR1OQ</td>\n",
       "      <td>CakesbyToi</td>\n",
       "      <td>American (Traditional), Food, Bakeries, Restau...</td>\n",
       "      <td>1.5</td>\n",
       "      <td>2</td>\n",
       "      <td>2015-06-08</td>\n",
       "      <td>2</td>\n",
       "      <td>AywPsODuQbUMhBEjmKiGXw</td>\n",
       "      <td>1</td>\n",
       "      <td>Let me start off by saying. If you cant make a...</td>\n",
       "      <td>8</td>\n",
       "      <td>oagZh5A2cWJXZBLakS_KpQ</td>\n",
       "    </tr>\n",
       "    <tr>\n",
       "      <th>2</th>\n",
       "      <td>vJIuDBdu01vCA8y1fwR1OQ</td>\n",
       "      <td>CakesbyToi</td>\n",
       "      <td>American (Traditional), Food, Bakeries, Restau...</td>\n",
       "      <td>1.5</td>\n",
       "      <td>1</td>\n",
       "      <td>2015-08-08</td>\n",
       "      <td>0</td>\n",
       "      <td>6j39TEUBDBTEK37OKACWLw</td>\n",
       "      <td>1</td>\n",
       "      <td>Decent product. ..HORRIBLE service. Totally un...</td>\n",
       "      <td>2</td>\n",
       "      <td>6BSwuyc7fvcccJgrY4_W5Q</td>\n",
       "    </tr>\n",
       "    <tr>\n",
       "      <th>3</th>\n",
       "      <td>kgffcoxT6BQp-gJ-UQ7Czw</td>\n",
       "      <td>Subway</td>\n",
       "      <td>Fast Food, Restaurants, Sandwiches</td>\n",
       "      <td>2.5</td>\n",
       "      <td>0</td>\n",
       "      <td>2016-07-03</td>\n",
       "      <td>0</td>\n",
       "      <td>c6iTbCMMYWnOd79ZiWwobg</td>\n",
       "      <td>1</td>\n",
       "      <td>I ordered a few 12 inch sandwiches , a turkey ...</td>\n",
       "      <td>1</td>\n",
       "      <td>ih7Dmu7wZpKVwlBRbakJOQ</td>\n",
       "    </tr>\n",
       "    <tr>\n",
       "      <th>4</th>\n",
       "      <td>kgffcoxT6BQp-gJ-UQ7Czw</td>\n",
       "      <td>Subway</td>\n",
       "      <td>Fast Food, Restaurants, Sandwiches</td>\n",
       "      <td>2.5</td>\n",
       "      <td>0</td>\n",
       "      <td>2018-03-10</td>\n",
       "      <td>0</td>\n",
       "      <td>5iDdZvpK4jOv2w5kZ15TUA</td>\n",
       "      <td>1</td>\n",
       "      <td>Worst subway of any I have visited. I have man...</td>\n",
       "      <td>1</td>\n",
       "      <td>m3WBc9bGxn1q1ikAFq8PaA</td>\n",
       "    </tr>\n",
       "  </tbody>\n",
       "</table>\n",
       "</div>"
      ],
      "text/plain": [
       "              business_id        name  \\\n",
       "0  vJIuDBdu01vCA8y1fwR1OQ  CakesbyToi   \n",
       "1  vJIuDBdu01vCA8y1fwR1OQ  CakesbyToi   \n",
       "2  vJIuDBdu01vCA8y1fwR1OQ  CakesbyToi   \n",
       "3  kgffcoxT6BQp-gJ-UQ7Czw      Subway   \n",
       "4  kgffcoxT6BQp-gJ-UQ7Czw      Subway   \n",
       "\n",
       "                                          categories  avg_stars  cool  \\\n",
       "0  American (Traditional), Food, Bakeries, Restau...        1.5     1   \n",
       "1  American (Traditional), Food, Bakeries, Restau...        1.5     2   \n",
       "2  American (Traditional), Food, Bakeries, Restau...        1.5     1   \n",
       "3                 Fast Food, Restaurants, Sandwiches        2.5     0   \n",
       "4                 Fast Food, Restaurants, Sandwiches        2.5     0   \n",
       "\n",
       "         date  funny               review_id  stars  \\\n",
       "0  2015-08-02      0  UgwmWy_68S_aKR9wTWKGOg      3   \n",
       "1  2015-06-08      2  AywPsODuQbUMhBEjmKiGXw      1   \n",
       "2  2015-08-08      0  6j39TEUBDBTEK37OKACWLw      1   \n",
       "3  2016-07-03      0  c6iTbCMMYWnOd79ZiWwobg      1   \n",
       "4  2018-03-10      0  5iDdZvpK4jOv2w5kZ15TUA      1   \n",
       "\n",
       "                                                text  useful  \\\n",
       "0  I am a huge fan of both locally owned business...       4   \n",
       "1  Let me start off by saying. If you cant make a...       8   \n",
       "2  Decent product. ..HORRIBLE service. Totally un...       2   \n",
       "3  I ordered a few 12 inch sandwiches , a turkey ...       1   \n",
       "4  Worst subway of any I have visited. I have man...       1   \n",
       "\n",
       "                  user_id  \n",
       "0  jSD05fFrAFa5gX3ZQae1tw  \n",
       "1  oagZh5A2cWJXZBLakS_KpQ  \n",
       "2  6BSwuyc7fvcccJgrY4_W5Q  \n",
       "3  ih7Dmu7wZpKVwlBRbakJOQ  \n",
       "4  m3WBc9bGxn1q1ikAFq8PaA  "
      ]
     },
     "execution_count": 7,
     "metadata": {},
     "output_type": "execute_result"
    }
   ],
   "source": [
    "df.head()"
   ]
  },
  {
   "cell_type": "code",
   "execution_count": 8,
   "metadata": {
    "scrolled": true
   },
   "outputs": [
    {
     "data": {
      "text/plain": [
       "0      528517\n",
       "1       66009\n",
       "2       19937\n",
       "3        8584\n",
       "4        4676\n",
       "5        3018\n",
       "6        2043\n",
       "7        1515\n",
       "8        1133\n",
       "9         844\n",
       "10        620\n",
       "11        537\n",
       "12        377\n",
       "13        323\n",
       "14        273\n",
       "15        259\n",
       "16        215\n",
       "17        167\n",
       "19        144\n",
       "18        143\n",
       "20        131\n",
       "21         97\n",
       "22         93\n",
       "23         90\n",
       "24         85\n",
       "25         68\n",
       "26         67\n",
       "27         57\n",
       "28         57\n",
       "32         48\n",
       "        ...  \n",
       "182         2\n",
       "160         2\n",
       "58          2\n",
       "69          2\n",
       "109         2\n",
       "156         1\n",
       "145         1\n",
       "140         1\n",
       "124         1\n",
       "105         1\n",
       "122         1\n",
       "116         1\n",
       "113         1\n",
       "181         1\n",
       "112         1\n",
       "79          1\n",
       "102         1\n",
       "100         1\n",
       "98          1\n",
       "92          1\n",
       "91          1\n",
       "89          1\n",
       "86          1\n",
       "84          1\n",
       "83          1\n",
       "74          1\n",
       "73          1\n",
       "70          1\n",
       "183         1\n",
       "202         1\n",
       "Name: funny, Length: 108, dtype: int64"
      ]
     },
     "execution_count": 8,
     "metadata": {},
     "output_type": "execute_result"
    }
   ],
   "source": [
    "df.funny.value_counts()"
   ]
  },
  {
   "cell_type": "markdown",
   "metadata": {},
   "source": [
    "## 1. Cluster the review text data for all the restaurants"
   ]
  },
  {
   "cell_type": "markdown",
   "metadata": {},
   "source": [
    "### Define your feature variables, here is the text of the review"
   ]
  },
  {
   "cell_type": "code",
   "execution_count": 9,
   "metadata": {},
   "outputs": [],
   "source": [
    "# Take the values of the column that contains review text data, save to a variable named \"documents\"\n",
    "documents = df.text.values"
   ]
  },
  {
   "cell_type": "code",
   "execution_count": 10,
   "metadata": {},
   "outputs": [
    {
     "data": {
      "text/plain": [
       "array([\"I am a huge fan of both locally owned businesses and cupcakes.  Cakes By Toi combines these loves with an okay result.  I decided to stop by on my way home after a long day at work, and after telling myself repeatedly I would stop in and try this place.\\n\\nIt is in your typical small strip mall.  Walking up it appeared they may also sell some sort of Thai food for lunch although when I walked in I only saw the bakery area. The interior is very plain, which is fine as I was there for the cupcakes. Sprucing it up a bit wouldn't hurt. They had a couple cases that had cupcakes and cakes ready to go.  The staff behind the counter were very friendly, and I got the sense by the ages that it may be members of the family all working there.\\n\\nThe cupcake, the most important thing, were okay.  There were reasonably priced, especially compared to certain designer cupcake bakeries.  I purchased half a dozen to share with the family.  The flavors were good as were a few of the frostings.  My greatest disappointment was a couple were stale and the frosting had hardened on a couple.  I'm not sure if maybe due to the lack of traffic in the area if they were a day old, but lacked the fluffiness you want from a cupcake.  I have actually gone to this location twice. On a weekday 2 out of 6 cupcakes were like what's described with the other 4 being really good.  I then went on a weekend and each cupcake was pretty hard.\\n\\nI will certainly give them another shot, and would like to try a cake that I know is going to be made fresh for whatever occasion as I want to support our local businesses, and the experience overall is worth giving them another shot.\",\n",
       "       \"Let me start off by saying. If you cant make a cake the way some has asked you politely decline it's better than giving someone a piece of shit cake. So i placed an order with enough time to make the cake I wanted, the cake lady told me it was going to be good and since I got referred she said she would do an awesome job. I put my faith in this lady to do my babyshower cake the way I wanted it done. On Thursday I get a call just making sure what I i order June 4th). I told not to do the glove to do the baby..she said okay then i come in at 2:12pm June 6th to get the cake the baby shower starts at 3pm. Well my cake isnt ready.. she said the order time says 230.. well I cam early so why isn't it ready. Please don't tell me you just started decorating the cake.. to make a long story short. My cake came outl looking like a totally different cake. Was I mad hell yes. If my cake lady wasn't booked that day I would of went to her, but i went to a low budget cake lady who obviously needs to work on her decorating skills..it's funny how most think you can't do it yourself, but my mom is a chef and baker..my.dad has 30 years a chef and baker and if he was alive I would asked him to do my cake. If i didn't plan my own shower I would of did it myself, but i entrusted in this lady something that she took from me and I can't never have back. Never ever ever go here. The fact she has people in the kitchen cooking and baking with Sandles on should of been my hint. I wasn't going to bash her or go on here. But seeing they aren't of theie word when my mom called down their and spoke to the owner who said he would call back with a final verdict. Then I am.letting the public know. Never ever ever ever go to thenm. Try to support black owned business and this shit happens\",\n",
       "       'Decent product. ..HORRIBLE service. Totally unprofessional.  Would NEVER spend one red cent here.  They almost ruined my wedding day....buyer beware!!!!',\n",
       "       ...,\n",
       "       \"I had a great experience for breakfast here. Yes, there was a wait,  but that seems standard for breakfast in Vegas. Told the waitress we were trying to get in & out in 40 min to catch our flight and it wasn't a problem, even though the place was packed. Service was very good actually. She was fast, but attentive.\\n\\nI got a bagel with salmon & cream cheese.  Very nice presentation and fresh salmon.  I was very happy.  Hubby and the little guy had pancakes and waffles, which were both good too.\",\n",
       "       \"Sometimes getting a regular breakfast near where you are can be a pain. In New York, New York in the miniature city section, it was just what we were looking for. We sat at the bar, had one of the best Bloody Marys I've ever had and a good breakfast. Nothing is cheap in Vegas, would have been cheaper at home but who cares?\",\n",
       "       \"This cafe is located in the NYNY casino.. we meet some friends from out of town there. Stay away is my recommendation!! The food came out cold and the service was very slow couldn't even get a refill on water. Took forever for the food to come out and I regular mayo they forgot about it had to ask twice. Need help !! Never again\"],\n",
       "      dtype=object)"
      ]
     },
     "execution_count": 10,
     "metadata": {},
     "output_type": "execute_result"
    }
   ],
   "source": [
    "documents"
   ]
  },
  {
   "cell_type": "markdown",
   "metadata": {},
   "source": [
    "### Define your target variable (any categorical variable that may be meaningful)"
   ]
  },
  {
   "cell_type": "markdown",
   "metadata": {},
   "source": [
    "#### For example, I am interested in perfect (5 stars) and imperfect (1-4 stars) rating"
   ]
  },
  {
   "cell_type": "code",
   "execution_count": 11,
   "metadata": {},
   "outputs": [],
   "source": [
    "# Make a column and take the values, save to a variable named \"target\"\n",
    "target = np.where(df.stars <= 4, 0, 1)"
   ]
  },
  {
   "cell_type": "markdown",
   "metadata": {},
   "source": [
    "#### You may want to look at the statistic of the target variable"
   ]
  },
  {
   "cell_type": "code",
   "execution_count": 12,
   "metadata": {},
   "outputs": [
    {
     "data": {
      "image/png": "[encoded data removed]",
      "text/plain": [
       "<Figure size 432x288 with 1 Axes>"
      ]
     },
     "metadata": {
      "needs_background": "light"
     },
     "output_type": "display_data"
    }
   ],
   "source": [
    "# To be implemented\n",
    "pd.Series(target, name = 'target').plot.density();"
   ]
  },
  {
   "cell_type": "markdown",
   "metadata": {},
   "source": [
    "### Create training dataset and test dataset"
   ]
  },
  {
   "cell_type": "code",
   "execution_count": 13,
   "metadata": {
    "scrolled": true
   },
   "outputs": [
    {
     "name": "stderr",
     "output_type": "stream",
     "text": [
      "/Users/zirongwu/Documents/py3/py3/lib/python3.7/site-packages/sklearn/cross_validation.py:41: DeprecationWarning: This module was deprecated in version 0.18 in favor of the model_selection module into which all the refactored classes and functions are moved. Also note that the interface of the new CV iterators are different from that of this module. This module will be removed in 0.20.\n",
      "  \"This module will be removed in 0.20.\", DeprecationWarning)\n"
     ]
    }
   ],
   "source": [
    "from sklearn.cross_validation import train_test_split"
   ]
  },
  {
   "cell_type": "code",
   "execution_count": 14,
   "metadata": {},
   "outputs": [],
   "source": [
    "# documents is your X, target is your y\n",
    "# Now split the data to training set and test set\n",
    "# You may want to start with a big \"test_size\", since large training set can easily crash your laptop.\n",
    "documents.shape\n",
    "X_train, X_test, y_train, y_test = train_test_split(documents, target, test_size = .7, random_state = 42)"
   ]
  },
  {
   "cell_type": "markdown",
   "metadata": {},
   "source": [
    "### Get NLP representation of the documents\n",
    "\n",
    "#### Fit TfidfVectorizer with training data only, then tranform all the data to tf-idf"
   ]
  },
  {
   "cell_type": "code",
   "execution_count": 15,
   "metadata": {},
   "outputs": [],
   "source": [
    "from sklearn.feature_extraction.text import TfidfVectorizer\n",
    "from nltk.corpus import stopwords\n",
    "from nltk.stem.wordnet import WordNetLemmatizer\n",
    "from nltk.tokenize import word_tokenize"
   ]
  },
  {
   "cell_type": "code",
   "execution_count": 16,
   "metadata": {},
   "outputs": [],
   "source": [
    "wordnet = WordNetLemmatizer()\n",
    "\n",
    "# lemmatize\n",
    "def lemmatize(doc):\n",
    "    return [wordnet.lemmatize(word) for word in word_tokenize(doc.lower())]"
   ]
  },
  {
   "cell_type": "code",
   "execution_count": 17,
   "metadata": {},
   "outputs": [],
   "source": [
    "newstopwords = ['!', '#', '$', '%', '&', \"'\", \"''\", \"'d\", \"'ll\", \"'m\", \"'re\", \"'s\", \"'ve\", '(', ')', '*', '+', ',', '-', '--',\n",
    "                 '.', '..','...','/','1','1.','1/2','10','100','11','12','13',\n",
    "                 '14','15','16','18','1st','2','2.','20',\n",
    "                 '24','25','2nd','3','3.','3.5','30',\n",
    "                 '35','3rd','4','4.','4/5','40','45','5','5/5','50','6','60','7','8',\n",
    "                 '9','90',':',';','=','?',\n",
    "                 '@','``']"
   ]
  },
  {
   "cell_type": "code",
   "execution_count": 18,
   "metadata": {},
   "outputs": [
    {
     "name": "stdout",
     "output_type": "stream",
     "text": [
      "['!', '#', '$', '%', '&', \"'\", \"''\", \"'d\", \"'ll\", \"'m\", \"'re\", \"'s\", \"'ve\", '(', ')', '*', '+', ',', '-', '--', '.', '..', '...', '/', '1', '1.', '1/2', '10', '100', '11', '12', '13', '14', '15', '16', '18', '1st', '2', '2.', '20', '24', '25', '2nd', '3', '3.', '3.5', '30', '35', '3rd', '4', '4.', '4/5', '40', '45', '5', '5/5', '50', '6', '60', '7', '8', '9', '90', ':', ';', '=', '?', '@', '``']\n"
     ]
    }
   ],
   "source": [
    "print(newstopwords)"
   ]
  },
  {
   "cell_type": "code",
   "execution_count": 19,
   "metadata": {},
   "outputs": [],
   "source": [
    "stopword = stopwords.words('english')"
   ]
  },
  {
   "cell_type": "code",
   "execution_count": 20,
   "metadata": {},
   "outputs": [],
   "source": [
    "stopword.extend(newstopwords)"
   ]
  },
  {
   "cell_type": "code",
   "execution_count": 21,
   "metadata": {},
   "outputs": [],
   "source": [
    "# Create TfidfVectorizer, and name it vectorizer, choose a reasonable max_features, e.g. 1000\n",
    "vectorizer = TfidfVectorizer(stop_words = stopword, max_features=2000,\n",
    "                                  tokenizer = lemmatize)"
   ]
  },
  {
   "cell_type": "code",
   "execution_count": 22,
   "metadata": {},
   "outputs": [],
   "source": [
    "# Train the model with your training data\n",
    "X_train_vect = vectorizer.fit_transform(X_train).todense()"
   ]
  },
  {
   "cell_type": "code",
   "execution_count": 23,
   "metadata": {
    "scrolled": true
   },
   "outputs": [],
   "source": [
    "# Get the vocab of your tfidf\n",
    "terms = vectorizer.get_feature_names()"
   ]
  },
  {
   "cell_type": "code",
   "execution_count": 24,
   "metadata": {},
   "outputs": [],
   "source": [
    "# Use the trained model to transform all the reviews\n",
    "X_test_vect = vectorizer.transform(X_test).todense()"
   ]
  },
  {
   "cell_type": "code",
   "execution_count": 25,
   "metadata": {},
   "outputs": [],
   "source": [
    "document = vectorizer.transform(documents).todense()"
   ]
  },
  {
   "cell_type": "markdown",
   "metadata": {},
   "source": [
    "### Cluster reviews with KMeans"
   ]
  },
  {
   "cell_type": "markdown",
   "metadata": {},
   "source": [
    "#### Fit k-means clustering with the training vectors and apply it on all the data"
   ]
  },
  {
   "cell_type": "code",
   "execution_count": 26,
   "metadata": {},
   "outputs": [],
   "source": [
    "# To be implemented\n",
    "from sklearn.cluster import KMeans"
   ]
  },
  {
   "cell_type": "code",
   "execution_count": 27,
   "metadata": {
    "scrolled": true
   },
   "outputs": [
    {
     "data": {
      "text/plain": [
       "KMeans(algorithm='auto', copy_x=True, init='k-means++', max_iter=300,\n",
       "    n_clusters=8, n_init=10, n_jobs=1, precompute_distances='auto',\n",
       "    random_state=42, tol=0.0001, verbose=0)"
      ]
     },
     "execution_count": 27,
     "metadata": {},
     "output_type": "execute_result"
    }
   ],
   "source": [
    "kmeans = KMeans(random_state=42)\n",
    "\n",
    "kmeans.fit(X_train_vect)"
   ]
  },
  {
   "cell_type": "markdown",
   "metadata": {},
   "source": [
    "## Make predictions on all your data"
   ]
  },
  {
   "cell_type": "code",
   "execution_count": 28,
   "metadata": {
    "scrolled": true
   },
   "outputs": [
    {
     "data": {
      "text/plain": [
       "array([2, 1, 2, ..., 7, 2, 1], dtype=int32)"
      ]
     },
     "execution_count": 28,
     "metadata": {},
     "output_type": "execute_result"
    }
   ],
   "source": [
    "kmeans.predict(document)"
   ]
  },
  {
   "cell_type": "code",
   "execution_count": 28,
   "metadata": {},
   "outputs": [],
   "source": [
    "assigned_cluster = kmeans.transform(X_train_vect).argmin(axis = 1)"
   ]
  },
  {
   "cell_type": "code",
   "execution_count": 29,
   "metadata": {},
   "outputs": [
    {
     "data": {
      "text/plain": [
       "array([2, 0, 0, ..., 1, 7, 4])"
      ]
     },
     "execution_count": 29,
     "metadata": {},
     "output_type": "execute_result"
    }
   ],
   "source": [
    "assigned_cluster"
   ]
  },
  {
   "cell_type": "code",
   "execution_count": 30,
   "metadata": {},
   "outputs": [
    {
     "name": "stdout",
     "output_type": "stream",
     "text": [
      "cluster 0:\n",
      "   Name: Black Bear Diner \n",
      " Category: Breakfast & Brunch, American (Traditional), Restaurants, Diners\n",
      "   Name: Dragon Grille \n",
      " Category: Food, Restaurants, Asian Fusion, Food Trucks\n",
      "   Name: Hooters \n",
      " Category: Sports Bars, Chicken Wings, American (New), Burgers, American (Traditional), Restaurants, Nightlife, Bars\n",
      "cluster 1:\n",
      "   Name: Jamms Restaurant \n",
      " Category: Breakfast & Brunch, American (Traditional), Restaurants, American (New)\n",
      "   Name: Leoné Café \n",
      " Category: Cafes, Restaurants, Coffee & Tea, Food, Breakfast & Brunch, Italian\n",
      "   Name: Hearthstone Kitchen & Cellar \n",
      " Category: Food, Beer, Wine & Spirits, Lounges, American (New), Tapas/Small Plates, Wine Bars, Breakfast & Brunch, Restaurants, Bars, Nightlife, Tapas Bars\n",
      "cluster 2:\n",
      "   Name: Shish Kabob House \n",
      " Category: Middle Eastern, Restaurants, Mediterranean\n",
      "   Name: Las Delicias De Las Vegas \n",
      " Category: Restaurants, Mexican\n",
      "   Name: Capriotti's Sandwich Shop \n",
      " Category: Restaurants, Sandwiches\n",
      "cluster 3:\n",
      "   Name: Island Flavor \n",
      " Category: Caterers, Event Planning & Services, Hawaiian, Restaurants\n",
      "   Name: Jamms Restaurant \n",
      " Category: Breakfast & Brunch, American (Traditional), Restaurants, American (New)\n",
      "   Name: Yard House \n",
      " Category: Cocktail Bars, Vegetarian, Steakhouses, American (New), Wine Bars, American (Traditional), Seafood, Beer Bar, Restaurants, Bars, Nightlife, Asian Fusion, Sports Bars\n",
      "cluster 4:\n",
      "   Name: Ciao Pizzeria \n",
      " Category: Pizza, Restaurants\n",
      "   Name: Bowlology \n",
      " Category: Juice Bars & Smoothies, Live/Raw Food, Food, Restaurants, Acai Bowls, Poke\n",
      "   Name: Anchor Bar \n",
      " Category: Chicken Wings, Restaurants\n",
      "cluster 5:\n",
      "   Name: STK Las Vegas \n",
      " Category: Bars, Nightlife, American (New), Restaurants, Steakhouses, Cocktail Bars\n",
      "   Name: Lucille's Smokehouse Bar-B-Que \n",
      " Category: Barbeque, Southern, Bars, Restaurants, Nightlife, American (Traditional), Smokehouse, Food\n",
      "   Name: Pressed For Juice \n",
      " Category: Juice Bars & Smoothies, Restaurants, Gluten-Free, Coffee & Tea, Food, Organic Stores\n",
      "cluster 6:\n",
      "   Name: Lindo Michoacan \n",
      " Category: Restaurants, Mexican\n",
      "   Name: Three Angry Wives \n",
      " Category: Bars, Sandwiches, Restaurants, Nightlife, Irish, Pubs\n",
      "   Name: Gordon Ramsay Steak \n",
      " Category: Soup, American (New), Steakhouses, Salad, Restaurants\n",
      "cluster 7:\n",
      "   Name: Bob Taylor's Ranch House \n",
      " Category: Seafood, Restaurants, Cocktail Bars, Bars, Steakhouses, American (Traditional), Nightlife\n",
      "   Name: Sinful Subs \n",
      " Category: Sandwiches, Restaurants\n",
      "   Name: Black Bear Diner \n",
      " Category: Breakfast & Brunch, Diners, American (Traditional), Burgers, Restaurants\n"
     ]
    }
   ],
   "source": [
    "for i in range(kmeans.n_clusters):\n",
    "    cluster = np.arange(0, X_train_vect.shape[0])[assigned_cluster == i]\n",
    "    sample_articles = np.random.choice(cluster, 3, replace = False)\n",
    "    print('cluster %d:' % i)\n",
    "    for article in sample_articles:\n",
    "        print('   Name: %s \\n Category: %s' % (df.loc[article]['name'], df.loc[article]['categories']))"
   ]
  },
  {
   "cell_type": "markdown",
   "metadata": {},
   "source": [
    "#### Inspect the centroids\n",
    "To find out what \"topics\" Kmeans has discovered we must inspect the centroids. Print out the centroids of the Kmeans clustering.\n",
    "\n",
    "   These centroids are simply a bunch of vectors.  To make any sense of them we need to map these vectors back into our 'word space'.  Think of each feature/dimension of the centroid vector as representing the \"average\" review or the average occurances of words for that cluster."
   ]
  },
  {
   "cell_type": "code",
   "execution_count": 31,
   "metadata": {},
   "outputs": [
    {
     "data": {
      "text/plain": [
       "array([0.00077605, 0.00071212, 0.00053046, 0.00074891, 0.00015845,\n",
       "       0.00016871, 0.00026903, 0.00063233])"
      ]
     },
     "execution_count": 31,
     "metadata": {},
     "output_type": "execute_result"
    }
   ],
   "source": [
    "# To be implemented\n",
    "kmeans.cluster_centers_[:, 0]"
   ]
  },
  {
   "cell_type": "markdown",
   "metadata": {},
   "source": [
    "#### Find the top 10 features for each cluster.\n",
    "For topics we are only really interested in the most present words, i.e. features/dimensions with the greatest representation in the centroid.  Print out the top ten words for each centroid.\n",
    "\n",
    "* Sort each centroid vector to find the top 10 features\n",
    "* Go back to your vectorizer object to find out what words each of these features corresponds to.\n"
   ]
  },
  {
   "cell_type": "code",
   "execution_count": 35,
   "metadata": {
    "scrolled": false
   },
   "outputs": [
    {
     "name": "stdout",
     "output_type": "stream",
     "text": [
      "top features for each cluster with 2000 max features:\n",
      "0: burger, fry, wa, good, shake, n't, place, cheese, great, food\n",
      "1: wa, n't, u, order, food, minute, time, get, service, table\n",
      "2: food, place, good, wa, n't, best, vega, like, service, time\n",
      "3: pizza, wa, crust, slice, good, place, great, n't, cheese, topping\n",
      "4: love, always, place, food, great, time, good, service, favorite, friendly\n",
      "5: great, food, service, wa, place, amazing, good, back, awesome, friendly\n",
      "6: sushi, roll, wa, place, ayce, great, good, fresh, service, n't\n",
      "7: wa, good, food, n't, service, place, ordered, chicken, really, great\n"
     ]
    }
   ],
   "source": [
    "top_centroids = kmeans.cluster_centers_.argsort()[:,-1:-11:-1]\n",
    "print(\"top features for each cluster with 2000 max features:\")\n",
    "for num, centroid in enumerate(top_centroids):\n",
    "    print(\"%d: %s\" % (num, \", \".join(terms[i] for i in centroid)))"
   ]
  },
  {
   "cell_type": "code",
   "execution_count": 36,
   "metadata": {
    "scrolled": true
   },
   "outputs": [
    {
     "name": "stdout",
     "output_type": "stream",
     "text": [
      "Cluster 0:\n",
      " burger\n",
      " fry\n",
      " wa\n",
      " good\n",
      " shake\n",
      " n't\n",
      " place\n",
      " cheese\n",
      " great\n",
      " food\n",
      "Cluster 1:\n",
      " wa\n",
      " n't\n",
      " u\n",
      " order\n",
      " food\n",
      " minute\n",
      " time\n",
      " get\n",
      " service\n",
      " table\n",
      "Cluster 2:\n",
      " food\n",
      " place\n",
      " good\n",
      " wa\n",
      " n't\n",
      " best\n",
      " vega\n",
      " like\n",
      " service\n",
      " time\n",
      "Cluster 3:\n",
      " pizza\n",
      " wa\n",
      " crust\n",
      " slice\n",
      " good\n",
      " place\n",
      " great\n",
      " n't\n",
      " cheese\n",
      " topping\n",
      "Cluster 4:\n",
      " love\n",
      " always\n",
      " place\n",
      " food\n",
      " great\n",
      " time\n",
      " good\n",
      " service\n",
      " favorite\n",
      " friendly\n",
      "Cluster 5:\n",
      " great\n",
      " food\n",
      " service\n",
      " wa\n",
      " place\n",
      " amazing\n",
      " good\n",
      " back\n",
      " awesome\n",
      " friendly\n",
      "Cluster 6:\n",
      " sushi\n",
      " roll\n",
      " wa\n",
      " place\n",
      " ayce\n",
      " great\n",
      " good\n",
      " fresh\n",
      " service\n",
      " n't\n",
      "Cluster 7:\n",
      " wa\n",
      " good\n",
      " food\n",
      " n't\n",
      " service\n",
      " place\n",
      " ordered\n",
      " chicken\n",
      " really\n",
      " great\n"
     ]
    }
   ],
   "source": [
    "# To be implemented\n",
    "order_centroids = kmeans.cluster_centers_.argsort()[:, ::-1]\n",
    "terms = vectorizer.get_feature_names()\n",
    "for i in range(8):\n",
    "    print(\"Cluster %d:\" % i),\n",
    "    for ind in order_centroids[i, :10]:\n",
    "        print(' %s' % terms[ind]),\n",
    "        print"
   ]
  },
  {
   "cell_type": "markdown",
   "metadata": {},
   "source": [
    "#### Try different k\n",
    "If you set k == to a different number, how does the top features change?"
   ]
  },
  {
   "cell_type": "code",
   "execution_count": 37,
   "metadata": {},
   "outputs": [
    {
     "data": {
      "text/plain": [
       "KMeans(algorithm='auto', copy_x=True, init='k-means++', max_iter=300,\n",
       "    n_clusters=5, n_init=10, n_jobs=1, precompute_distances='auto',\n",
       "    random_state=42, tol=0.0001, verbose=0)"
      ]
     },
     "execution_count": 37,
     "metadata": {},
     "output_type": "execute_result"
    }
   ],
   "source": [
    "# new k = 5\n",
    "kmeans5 = KMeans(n_clusters=5, random_state=42)\n",
    "kmeans5.fit(X_train_vect)"
   ]
  },
  {
   "cell_type": "markdown",
   "metadata": {},
   "source": [
    "#### Print out the rating and review of a random sample of the reviews assigned to each cluster to get a sense of the cluster."
   ]
  },
  {
   "cell_type": "code",
   "execution_count": 38,
   "metadata": {},
   "outputs": [
    {
     "data": {
      "text/plain": [
       "array([0])"
      ]
     },
     "execution_count": 38,
     "metadata": {},
     "output_type": "execute_result"
    }
   ],
   "source": [
    "# get a sample\n",
    "y = X_test_vect[100]\n",
    "clusters = kmeans5.transform(y).argmin(axis = 1)\n",
    "clusters"
   ]
  },
  {
   "cell_type": "code",
   "execution_count": 39,
   "metadata": {},
   "outputs": [
    {
     "name": "stdout",
     "output_type": "stream",
     "text": [
      "top features for each cluster with 1000 max features:\n",
      "0: burger, fry, wa, good, shake, n't, place, cheese, great, food\n",
      "1: wa, n't, u, order, food, minute, time, get, service, table\n",
      "2: food, place, good, wa, n't, best, vega, like, service, time\n",
      "3: pizza, wa, crust, slice, good, place, great, n't, cheese, topping\n",
      "4: love, always, place, food, great, time, good, service, favorite, friendly\n",
      "5: great, food, service, wa, place, amazing, good, back, awesome, friendly\n",
      "6: sushi, roll, wa, place, ayce, great, good, fresh, service, n't\n",
      "7: wa, good, food, n't, service, place, ordered, chicken, really, great\n"
     ]
    }
   ],
   "source": [
    "top_centroids = kmeans.cluster_centers_.argsort()[:,-1:-11:-1]\n",
    "print(\"top features for each cluster with 1000 max features:\")\n",
    "for num, centroid in enumerate(top_centroids):\n",
    "    print(\"%d: %s\" % (num, \", \".join(terms[i] for i in centroid)))"
   ]
  },
  {
   "cell_type": "markdown",
   "metadata": {},
   "source": [
    "## 2. Cluster all the reviews of the most reviewed restaurant\n",
    "Let's find the most reviewed restaurant and analyze its reviews"
   ]
  },
  {
   "cell_type": "code",
   "execution_count": 40,
   "metadata": {},
   "outputs": [
    {
     "name": "stdout",
     "output_type": "stream",
     "text": [
      "<class 'pandas.core.frame.DataFrame'>\n",
      "RangeIndex: 640718 entries, 0 to 640717\n",
      "Data columns (total 11 columns):\n",
      "name          640718 non-null object\n",
      "categories    640718 non-null object\n",
      "avg_stars     640718 non-null float64\n",
      "cool          640718 non-null int64\n",
      "date          640718 non-null object\n",
      "funny         640718 non-null int64\n",
      "review_id     640718 non-null object\n",
      "stars         640718 non-null int64\n",
      "text          640718 non-null object\n",
      "useful        640718 non-null int64\n",
      "user_id       640718 non-null object\n",
      "dtypes: float64(1), int64(4), object(6)\n",
      "memory usage: 53.8+ MB\n"
     ]
    }
   ],
   "source": [
    "df.info()"
   ]
  },
  {
   "cell_type": "code",
   "execution_count": 41,
   "metadata": {
    "scrolled": true
   },
   "outputs": [],
   "source": [
    "# Find the business who got most reviews, get your filtered df, name it df_top_restaurant\n",
    "top20res = df.name.value_counts()[:20].index.tolist()"
   ]
  },
  {
   "cell_type": "code",
   "execution_count": 42,
   "metadata": {},
   "outputs": [],
   "source": [
    "df_top_restaurant = df[df.name.isin(top20res)]"
   ]
  },
  {
   "cell_type": "code",
   "execution_count": 43,
   "metadata": {},
   "outputs": [
    {
     "name": "stdout",
     "output_type": "stream",
     "text": [
      "<class 'pandas.core.frame.DataFrame'>\n",
      "Int64Index: 56813 entries, 5498 to 640012\n",
      "Data columns (total 11 columns):\n",
      "name          56813 non-null object\n",
      "categories    56813 non-null object\n",
      "avg_stars     56813 non-null float64\n",
      "cool          56813 non-null int64\n",
      "date          56813 non-null object\n",
      "funny         56813 non-null int64\n",
      "review_id     56813 non-null object\n",
      "stars         56813 non-null int64\n",
      "text          56813 non-null object\n",
      "useful        56813 non-null int64\n",
      "user_id       56813 non-null object\n",
      "dtypes: float64(1), int64(4), object(6)\n",
      "memory usage: 5.2+ MB\n"
     ]
    }
   ],
   "source": [
    "df_top_restaurant.info()"
   ]
  },
  {
   "cell_type": "markdown",
   "metadata": {},
   "source": [
    "We can also load restaurant profile information from the business dataset (optional)"
   ]
  },
  {
   "cell_type": "code",
   "execution_count": null,
   "metadata": {},
   "outputs": [],
   "source": [
    "# Load business dataset (optional)\n",
    "# Take a look at the most reviewed restaurant's profile (optional)\n"
   ]
  },
  {
   "cell_type": "markdown",
   "metadata": {},
   "source": [
    "### Vectorize the text feature"
   ]
  },
  {
   "cell_type": "code",
   "execution_count": null,
   "metadata": {},
   "outputs": [],
   "source": [
    "# Take the values of the column that contains review text data, save to a variable named \"documents_top_restaurant\"\n",
    "pass"
   ]
  },
  {
   "cell_type": "markdown",
   "metadata": {},
   "source": [
    "### Define your target variable (for later classification use)"
   ]
  },
  {
   "cell_type": "markdown",
   "metadata": {},
   "source": [
    "#### Again, we look at perfect (5 stars) and imperfect (1-4 stars) rating"
   ]
  },
  {
   "cell_type": "code",
   "execution_count": null,
   "metadata": {},
   "outputs": [],
   "source": [
    "# To be implemented\n",
    "pass"
   ]
  },
  {
   "cell_type": "markdown",
   "metadata": {},
   "source": [
    "#### Check the statistic of the target variable"
   ]
  },
  {
   "cell_type": "code",
   "execution_count": null,
   "metadata": {},
   "outputs": [],
   "source": [
    "# To be implemented\n",
    "pass"
   ]
  },
  {
   "cell_type": "markdown",
   "metadata": {},
   "source": [
    "### Create training dataset and test dataset"
   ]
  },
  {
   "cell_type": "code",
   "execution_count": null,
   "metadata": {},
   "outputs": [],
   "source": [
    "from sklearn.cross_validation import train_test_split"
   ]
  },
  {
   "cell_type": "code",
   "execution_count": null,
   "metadata": {},
   "outputs": [],
   "source": [
    "# documents_top_restaurant is your X, target_top_restaurant is your y\n",
    "# Now split the data to training set and test set\n",
    "# Now your data is smaller, you can use a typical \"test_size\", e.g. 0.3-0.7\n",
    "pass"
   ]
  },
  {
   "cell_type": "markdown",
   "metadata": {},
   "source": [
    "### Get NLP representation of the documents"
   ]
  },
  {
   "cell_type": "code",
   "execution_count": null,
   "metadata": {},
   "outputs": [],
   "source": [
    "from sklearn.feature_extraction.text import TfidfVectorizer"
   ]
  },
  {
   "cell_type": "code",
   "execution_count": null,
   "metadata": {},
   "outputs": [],
   "source": [
    "# Create TfidfVectorizer, and name it vectorizer\n",
    "pass"
   ]
  },
  {
   "cell_type": "code",
   "execution_count": null,
   "metadata": {},
   "outputs": [],
   "source": [
    "# Train the model with your training data\n",
    "pass"
   ]
  },
  {
   "cell_type": "code",
   "execution_count": null,
   "metadata": {},
   "outputs": [],
   "source": [
    "# Get the vocab of your tfidf\n",
    "pass"
   ]
  },
  {
   "cell_type": "code",
   "execution_count": null,
   "metadata": {},
   "outputs": [],
   "source": [
    "# Use the trained model to transform the test data\n",
    "pass"
   ]
  },
  {
   "cell_type": "code",
   "execution_count": null,
   "metadata": {},
   "outputs": [],
   "source": [
    "# Use the trained model to transform all the data\n",
    "pass"
   ]
  },
  {
   "cell_type": "markdown",
   "metadata": {},
   "source": [
    "### Cluster reviews with KMeans"
   ]
  },
  {
   "cell_type": "markdown",
   "metadata": {},
   "source": [
    "#### Fit k-means clustering on the training vectors and make predictions on all data"
   ]
  },
  {
   "cell_type": "code",
   "execution_count": null,
   "metadata": {},
   "outputs": [],
   "source": [
    "# To be implemented\n",
    "pass"
   ]
  },
  {
   "cell_type": "markdown",
   "metadata": {},
   "source": [
    "#### Make predictions on all your data"
   ]
  },
  {
   "cell_type": "code",
   "execution_count": null,
   "metadata": {},
   "outputs": [],
   "source": [
    "# To be implemented\n",
    "pass"
   ]
  },
  {
   "cell_type": "markdown",
   "metadata": {},
   "source": [
    "#### Inspect the centroids"
   ]
  },
  {
   "cell_type": "code",
   "execution_count": null,
   "metadata": {},
   "outputs": [],
   "source": [
    "# To be implemented\n",
    "pass"
   ]
  },
  {
   "cell_type": "markdown",
   "metadata": {},
   "source": [
    "#### Find the top 10 features for each cluster."
   ]
  },
  {
   "cell_type": "code",
   "execution_count": null,
   "metadata": {},
   "outputs": [],
   "source": [
    "# To be implemented\n",
    "pass"
   ]
  },
  {
   "cell_type": "markdown",
   "metadata": {},
   "source": [
    "#### Print out the rating and review of a random sample of the reviews assigned to each cluster to get a sense of the cluster."
   ]
  },
  {
   "cell_type": "code",
   "execution_count": null,
   "metadata": {},
   "outputs": [],
   "source": [
    "# To be implemented\n",
    "pass"
   ]
  },
  {
   "cell_type": "markdown",
   "metadata": {},
   "source": [
    "## 3. Use PCA to reduce dimensionality"
   ]
  },
  {
   "cell_type": "markdown",
   "metadata": {},
   "source": [
    "### Stardardize features\n",
    "Your X_train and X_test"
   ]
  },
  {
   "cell_type": "code",
   "execution_count": 29,
   "metadata": {},
   "outputs": [],
   "source": [
    "from sklearn.preprocessing import StandardScaler\n",
    "\n",
    "# set up the scaler\n",
    "scaler = StandardScaler()\n"
   ]
  },
  {
   "cell_type": "code",
   "execution_count": 30,
   "metadata": {},
   "outputs": [],
   "source": [
    "X_train_scaled = scaler.fit_transform(X_train_vect)\n",
    "X_test_scaled = scaler.fit_transform(X_test_vect)"
   ]
  },
  {
   "cell_type": "markdown",
   "metadata": {},
   "source": [
    "### Use PCA to transform data (train and test) and get princial components"
   ]
  },
  {
   "cell_type": "code",
   "execution_count": 31,
   "metadata": {},
   "outputs": [],
   "source": [
    "from sklearn.decomposition import PCA\n",
    "\n",
    "# Let's pick a n_components\n",
    "n_components = 50"
   ]
  },
  {
   "cell_type": "code",
   "execution_count": 32,
   "metadata": {},
   "outputs": [],
   "source": [
    "# set up the pca\n",
    "pca = PCA(n_components= n_components)\n",
    "train_components = pca.fit_transform(X_train_scaled)\n",
    "test_components = pca.transform(X_test_scaled)"
   ]
  },
  {
   "cell_type": "markdown",
   "metadata": {},
   "source": [
    "### See how much (and how much percentage of) variance the principal components explain"
   ]
  },
  {
   "cell_type": "code",
   "execution_count": 33,
   "metadata": {},
   "outputs": [
    {
     "data": {
      "text/plain": [
       "Text(0,0.5,'Variance Explained')"
      ]
     },
     "execution_count": 33,
     "metadata": {},
     "output_type": "execute_result"
    },
    {
     "data": {
      "image/png": "[encoded data removed]",
      "text/plain": [
       "<Figure size 1152x648 with 1 Axes>"
      ]
     },
     "metadata": {
      "needs_background": "light"
     },
     "output_type": "display_data"
    }
   ],
   "source": [
    "# gather the variance\n",
    "pca_range = np.arange(n_components) + 1\n",
    "# create the names for pca components\n",
    "pca_names = ['PCA_%s' % i for i in pca_range]\n",
    "# plot the bar charts\n",
    "plt.figure(figsize = (16, 9))\n",
    "plt.bar(pca_range, pca.explained_variance_, align = 'center')\n",
    "\n",
    "xticks = plt.xticks(pca_range, pca_names, rotation = 45)\n",
    "\n",
    "plt.ylabel('Variance Explained')"
   ]
  },
  {
   "cell_type": "code",
   "execution_count": 34,
   "metadata": {},
   "outputs": [
    {
     "data": {
      "text/plain": [
       "Text(0,0.5,'Proportion of Variance Explained')"
      ]
     },
     "execution_count": 34,
     "metadata": {},
     "output_type": "execute_result"
    },
    {
     "data": {
      "image/png": "[encoded data removed]",
      "text/plain": [
       "<Figure size 1152x648 with 1 Axes>"
      ]
     },
     "metadata": {
      "needs_background": "light"
     },
     "output_type": "display_data"
    }
   ],
   "source": [
    "# gather the variance\n",
    "pca_range = np.arange(n_components) + 1\n",
    "# create the names for pca components\n",
    "pca_names = ['PCA_%s' % i for i in pca_range]\n",
    "# plot the bar charts\n",
    "plt.figure(figsize = (16, 9))\n",
    "plt.bar(pca_range, pca.explained_variance_ratio_, align = 'center')\n",
    "\n",
    "xticks = plt.xticks(pca_range, pca_names, rotation = 45)\n",
    "\n",
    "plt.ylabel('Proportion of Variance Explained')"
   ]
  },
  {
   "cell_type": "markdown",
   "metadata": {},
   "source": [
    "### Viz: plot proportion of variance explained with top principal components\n",
    "\n",
    "For clear display, you may start with plotting <=20 principal components"
   ]
  },
  {
   "cell_type": "code",
   "execution_count": 35,
   "metadata": {},
   "outputs": [
    {
     "data": {
      "text/plain": [
       "Text(0,0.5,'Proportion of Variance Explained')"
      ]
     },
     "execution_count": 35,
     "metadata": {},
     "output_type": "execute_result"
    },
    {
     "data": {
      "image/png": "[encoded data removed]",
      "text/plain": [
       "<Figure size 1152x648 with 1 Axes>"
      ]
     },
     "metadata": {
      "needs_background": "light"
     },
     "output_type": "display_data"
    }
   ],
   "source": [
    "# To be implemented\n",
    "pca_range = np.arange(20) + 1\n",
    "\n",
    "pca_names = ['PCA_%s' % i for i in pca_range]\n",
    "plt.figure(figsize = (16, 9))\n",
    "plt.bar(pca_range, pca.explained_variance_ratio_[:20], align='center')\n",
    "plt.plot(pca_range, np.cumsum(pca.explained_variance_ratio_[:20]), 'g-')\n",
    "plt.plot(pca_range, 0.9*np.ones(len(pca_range)), 'r-')\n",
    "\n",
    "xticks = plt.xticks(pca_range, pca_names, rotation=90)\n",
    "\n",
    "plt.ylabel('Proportion of Variance Explained')"
   ]
  },
  {
   "cell_type": "markdown",
   "metadata": {},
   "source": [
    "## Classifying positive/negative review with PCA preprocessing"
   ]
  },
  {
   "cell_type": "markdown",
   "metadata": {},
   "source": [
    "### Logistic Regression Classifier\n",
    "#### Use standardized tf-idf vectors as features"
   ]
  },
  {
   "cell_type": "code",
   "execution_count": 36,
   "metadata": {},
   "outputs": [],
   "source": [
    "# Build a Logistic Regression Classifier, train with standardized tf-idf vectors\n",
    "\n",
    "from sklearn.linear_model import LogisticRegression\n",
    "\n",
    "# set up the logisticregression\n",
    "clf_lr_reg = LogisticRegression()"
   ]
  },
  {
   "cell_type": "code",
   "execution_count": 37,
   "metadata": {},
   "outputs": [
    {
     "data": {
      "text/plain": [
       "LogisticRegression(C=1.0, class_weight=None, dual=False, fit_intercept=True,\n",
       "          intercept_scaling=1, max_iter=100, multi_class='ovr', n_jobs=1,\n",
       "          penalty='l2', random_state=None, solver='liblinear', tol=0.0001,\n",
       "          verbose=0, warm_start=False)"
      ]
     },
     "execution_count": 37,
     "metadata": {},
     "output_type": "execute_result"
    }
   ],
   "source": [
    "# Get score for training set\n",
    "clf_lr_reg.fit(X_train_vect, y_train)"
   ]
  },
  {
   "cell_type": "code",
   "execution_count": 38,
   "metadata": {},
   "outputs": [
    {
     "data": {
      "text/plain": [
       "0.8366048435345836"
      ]
     },
     "execution_count": 38,
     "metadata": {},
     "output_type": "execute_result"
    }
   ],
   "source": [
    "clf_lr_reg.score(X_train_vect, y_train)"
   ]
  },
  {
   "cell_type": "code",
   "execution_count": 39,
   "metadata": {
    "scrolled": true
   },
   "outputs": [
    {
     "data": {
      "text/plain": [
       "0.8311449421742998"
      ]
     },
     "execution_count": 39,
     "metadata": {},
     "output_type": "execute_result"
    }
   ],
   "source": [
    "# Get score for test set\n",
    "clf_lr_reg.score(X_test_vect, y_test)"
   ]
  },
  {
   "cell_type": "markdown",
   "metadata": {},
   "source": [
    "#### Use (Stardardized + PCA) tf-idf vectors as features"
   ]
  },
  {
   "cell_type": "code",
   "execution_count": 40,
   "metadata": {},
   "outputs": [
    {
     "ename": "NameError",
     "evalue": "name 'clf_lr' is not defined",
     "output_type": "error",
     "traceback": [
      "\u001b[0;31m---------------------------------------------------------------------------\u001b[0m",
      "\u001b[0;31mNameError\u001b[0m                                 Traceback (most recent call last)",
      "\u001b[0;32m<ipython-input-40-18aae2747e2c>\u001b[0m in \u001b[0;36m<module>\u001b[0;34m()\u001b[0m\n\u001b[1;32m      3\u001b[0m \u001b[0;32mfrom\u001b[0m \u001b[0msklearn\u001b[0m\u001b[0;34m.\u001b[0m\u001b[0mlinear_model\u001b[0m \u001b[0;32mimport\u001b[0m \u001b[0mLogisticRegression\u001b[0m\u001b[0;34m\u001b[0m\u001b[0m\n\u001b[1;32m      4\u001b[0m \u001b[0;34m\u001b[0m\u001b[0m\n\u001b[0;32m----> 5\u001b[0;31m \u001b[0mclf_lr\u001b[0m\u001b[0;34m.\u001b[0m\u001b[0mfit\u001b[0m\u001b[0;34m(\u001b[0m\u001b[0mtrain_components\u001b[0m\u001b[0;34m,\u001b[0m \u001b[0my_train\u001b[0m\u001b[0;34m)\u001b[0m\u001b[0;34m\u001b[0m\u001b[0m\n\u001b[0m",
      "\u001b[0;31mNameError\u001b[0m: name 'clf_lr' is not defined"
     ]
    }
   ],
   "source": [
    "# Build a Logistic Regression Classifier, train with PCA tranformed X\n",
    "\n",
    "from sklearn.linear_model import LogisticRegression\n",
    "\n",
    "clf_lr.fit(train_components, y_train)"
   ]
  },
  {
   "cell_type": "code",
   "execution_count": null,
   "metadata": {},
   "outputs": [],
   "source": [
    "# Get score for training set\n",
    "clf_lr.score(train_components, y_train)"
   ]
  },
  {
   "cell_type": "code",
   "execution_count": null,
   "metadata": {},
   "outputs": [],
   "source": [
    "# Get score for test set, REMEMBER to use PCA-transformed X!\n",
    "clf_lr.score(test_components, y_test)"
   ]
  },
  {
   "cell_type": "markdown",
   "metadata": {},
   "source": [
    "#### Q: What do you see from the training score and the test score? How do you compare the results from PCA and non-PCA preprocessing?"
   ]
  },
  {
   "cell_type": "markdown",
   "metadata": {},
   "source": [
    "A: Without PCA, the training score is a little bit higher than test score. With PCA, the training score is very close to test score."
   ]
  },
  {
   "cell_type": "markdown",
   "metadata": {},
   "source": [
    "#### You can plot the coefficients against principal components\n"
   ]
  },
  {
   "cell_type": "code",
   "execution_count": null,
   "metadata": {},
   "outputs": [],
   "source": [
    "features = clf_lr_reg.coef_.argsort()[:,-1:-11:-1]\n",
    "features.shape[1]"
   ]
  },
  {
   "cell_type": "code",
   "execution_count": null,
   "metadata": {
    "scrolled": true
   },
   "outputs": [],
   "source": [
    "feature_range = np.arange(features.shape[1])\n",
    "\n",
    "feature_names = ['%s' %terms[i] for i in features[0]]\n",
    "\n",
    "plt.figure(figsize = (16, 9))\n",
    "plt.bar(feature_names, features[0], align = 'center')"
   ]
  },
  {
   "cell_type": "code",
   "execution_count": null,
   "metadata": {},
   "outputs": [],
   "source": [
    "features_pca = clf_lr.coef_.argsort()[:,-1:-11:-1]"
   ]
  },
  {
   "cell_type": "code",
   "execution_count": null,
   "metadata": {},
   "outputs": [],
   "source": [
    "feature_pca_range = np.arange(features.shape[1])\n",
    "\n",
    "feature_pca_names = ['pca_%s' %i for i in features[0]]\n",
    "\n",
    "plt.figure(figsize = (16, 9))\n",
    "plt.bar(feature_pca_names, features_pca[0], align = 'center')"
   ]
  },
  {
   "cell_type": "markdown",
   "metadata": {},
   "source": [
    "### Random Forest Classifier\n",
    "#### Use standardized tf-idf vectors as features"
   ]
  },
  {
   "cell_type": "code",
   "execution_count": null,
   "metadata": {},
   "outputs": [],
   "source": [
    "# Build a Random Forest Classifier\n",
    "\n",
    "from sklearn.ensemble import RandomForestClassifier\n",
    "\n",
    "# To be implemented\n",
    "clf_rf_reg = RandomForestClassifier(random_state = 42, max_depth=10)\n",
    "\n",
    "clf_rf_reg.fit(X_train_vect, y_train)"
   ]
  },
  {
   "cell_type": "code",
   "execution_count": null,
   "metadata": {},
   "outputs": [],
   "source": [
    "# Get score for training set\n",
    "clf_rf_reg.score(X_train_vect, y_train)"
   ]
  },
  {
   "cell_type": "code",
   "execution_count": null,
   "metadata": {
    "scrolled": true
   },
   "outputs": [],
   "source": [
    "# Get score for test set\n",
    "clf_rf_reg.score(X_test_vect, y_test)"
   ]
  },
  {
   "cell_type": "markdown",
   "metadata": {},
   "source": [
    "#### Use (Stardardized + PCA) tf-idf vectors as features"
   ]
  },
  {
   "cell_type": "code",
   "execution_count": null,
   "metadata": {},
   "outputs": [],
   "source": [
    "# Build a Random Forest Classifier\n",
    "\n",
    "from sklearn.ensemble import RandomForestClassifier\n",
    "\n",
    "# To be implemented\n",
    "clf_rf = RandomForestClassifier(random_state = 42, max_depth = 10)\n",
    "\n",
    "clf_rf.fit(train_components, y_train)"
   ]
  },
  {
   "cell_type": "code",
   "execution_count": null,
   "metadata": {},
   "outputs": [],
   "source": [
    "# Get score for training set\n",
    "clf_rf.score(train_components, y_train)"
   ]
  },
  {
   "cell_type": "code",
   "execution_count": null,
   "metadata": {},
   "outputs": [],
   "source": [
    "# Get score for test set, REMEMBER to use PCA-transformed X!\n",
    "clf_rf.score(test_components, y_test)"
   ]
  },
  {
   "cell_type": "markdown",
   "metadata": {},
   "source": [
    "#### Q: What do you see from the training result and the test result?"
   ]
  },
  {
   "cell_type": "markdown",
   "metadata": {},
   "source": [
    "A: Without using PCA, the model got a lower score both in training and test. However, the scores are very close."
   ]
  },
  {
   "cell_type": "markdown",
   "metadata": {},
   "source": [
    "#### You can plot the feature importances against principal components\n"
   ]
  },
  {
   "cell_type": "code",
   "execution_count": 1,
   "metadata": {},
   "outputs": [
    {
     "ename": "NameError",
     "evalue": "name 'features_rf' is not defined",
     "output_type": "error",
     "traceback": [
      "\u001b[0;31m---------------------------------------------------------------------------\u001b[0m",
      "\u001b[0;31mNameError\u001b[0m                                 Traceback (most recent call last)",
      "\u001b[0;32m<ipython-input-1-60d89586e411>\u001b[0m in \u001b[0;36m<module>\u001b[0;34m()\u001b[0m\n\u001b[0;32m----> 1\u001b[0;31m \u001b[0mfeatures_rf\u001b[0m\u001b[0;34m\u001b[0m\u001b[0m\n\u001b[0m",
      "\u001b[0;31mNameError\u001b[0m: name 'features_rf' is not defined"
     ]
    }
   ],
   "source": [
    "features_rf"
   ]
  },
  {
   "cell_type": "code",
   "execution_count": null,
   "metadata": {},
   "outputs": [
    {
     "ename": "ValueError",
     "evalue": "shape mismatch: objects cannot be broadcast to a single shape",
     "output_type": "error",
     "traceback": [
      "\u001b[0;31m---------------------------------------------------------------------------\u001b[0m",
      "\u001b[0;31mValueError\u001b[0m                                Traceback (most recent call last)",
      "\u001b[0;32m<ipython-input-200-2eb2d638baa2>\u001b[0m in \u001b[0;36m<module>\u001b[0;34m()\u001b[0m\n\u001b[1;32m      4\u001b[0m \u001b[0;34m\u001b[0m\u001b[0m\n\u001b[1;32m      5\u001b[0m \u001b[0mplt\u001b[0m\u001b[0;34m.\u001b[0m\u001b[0mfigure\u001b[0m\u001b[0;34m(\u001b[0m\u001b[0mfigsize\u001b[0m \u001b[0;34m=\u001b[0m \u001b[0;34m(\u001b[0m\u001b[0;36m16\u001b[0m\u001b[0;34m,\u001b[0m \u001b[0;36m9\u001b[0m\u001b[0;34m)\u001b[0m\u001b[0;34m)\u001b[0m\u001b[0;34m\u001b[0m\u001b[0m\n\u001b[0;32m----> 6\u001b[0;31m \u001b[0mplt\u001b[0m\u001b[0;34m.\u001b[0m\u001b[0mbar\u001b[0m\u001b[0;34m(\u001b[0m\u001b[0mfeature_rf_names\u001b[0m\u001b[0;34m,\u001b[0m \u001b[0mfeatures\u001b[0m\u001b[0;34m[\u001b[0m\u001b[0;36m0\u001b[0m\u001b[0;34m]\u001b[0m\u001b[0;34m,\u001b[0m \u001b[0malign\u001b[0m \u001b[0;34m=\u001b[0m \u001b[0;34m'center'\u001b[0m\u001b[0;34m)\u001b[0m\u001b[0;34m\u001b[0m\u001b[0m\n\u001b[0m",
      "\u001b[0;32m~/Documents/py3/py3/lib/python3.7/site-packages/matplotlib/pyplot.py\u001b[0m in \u001b[0;36mbar\u001b[0;34m(*args, **kwargs)\u001b[0m\n\u001b[1;32m   2773\u001b[0m                       mplDeprecation)\n\u001b[1;32m   2774\u001b[0m     \u001b[0;32mtry\u001b[0m\u001b[0;34m:\u001b[0m\u001b[0;34m\u001b[0m\u001b[0m\n\u001b[0;32m-> 2775\u001b[0;31m         \u001b[0mret\u001b[0m \u001b[0;34m=\u001b[0m \u001b[0max\u001b[0m\u001b[0;34m.\u001b[0m\u001b[0mbar\u001b[0m\u001b[0;34m(\u001b[0m\u001b[0;34m*\u001b[0m\u001b[0margs\u001b[0m\u001b[0;34m,\u001b[0m \u001b[0;34m**\u001b[0m\u001b[0mkwargs\u001b[0m\u001b[0;34m)\u001b[0m\u001b[0;34m\u001b[0m\u001b[0m\n\u001b[0m\u001b[1;32m   2776\u001b[0m     \u001b[0;32mfinally\u001b[0m\u001b[0;34m:\u001b[0m\u001b[0;34m\u001b[0m\u001b[0m\n\u001b[1;32m   2777\u001b[0m         \u001b[0max\u001b[0m\u001b[0;34m.\u001b[0m\u001b[0m_hold\u001b[0m \u001b[0;34m=\u001b[0m \u001b[0mwashold\u001b[0m\u001b[0;34m\u001b[0m\u001b[0m\n",
      "\u001b[0;32m~/Documents/py3/py3/lib/python3.7/site-packages/matplotlib/__init__.py\u001b[0m in \u001b[0;36minner\u001b[0;34m(ax, *args, **kwargs)\u001b[0m\n\u001b[1;32m   1865\u001b[0m                         \u001b[0;34m\"the Matplotlib list!)\"\u001b[0m \u001b[0;34m%\u001b[0m \u001b[0;34m(\u001b[0m\u001b[0mlabel_namer\u001b[0m\u001b[0;34m,\u001b[0m \u001b[0mfunc\u001b[0m\u001b[0;34m.\u001b[0m\u001b[0m__name__\u001b[0m\u001b[0;34m)\u001b[0m\u001b[0;34m,\u001b[0m\u001b[0;34m\u001b[0m\u001b[0m\n\u001b[1;32m   1866\u001b[0m                         RuntimeWarning, stacklevel=2)\n\u001b[0;32m-> 1867\u001b[0;31m             \u001b[0;32mreturn\u001b[0m \u001b[0mfunc\u001b[0m\u001b[0;34m(\u001b[0m\u001b[0max\u001b[0m\u001b[0;34m,\u001b[0m \u001b[0;34m*\u001b[0m\u001b[0margs\u001b[0m\u001b[0;34m,\u001b[0m \u001b[0;34m**\u001b[0m\u001b[0mkwargs\u001b[0m\u001b[0;34m)\u001b[0m\u001b[0;34m\u001b[0m\u001b[0m\n\u001b[0m\u001b[1;32m   1868\u001b[0m \u001b[0;34m\u001b[0m\u001b[0m\n\u001b[1;32m   1869\u001b[0m         inner.__doc__ = _add_data_doc(inner.__doc__,\n",
      "\u001b[0;32m~/Documents/py3/py3/lib/python3.7/site-packages/matplotlib/axes/_axes.py\u001b[0m in \u001b[0;36mbar\u001b[0;34m(self, *args, **kwargs)\u001b[0m\n\u001b[1;32m   2236\u001b[0m         x, height, width, y, linewidth = np.broadcast_arrays(\n\u001b[1;32m   2237\u001b[0m             \u001b[0;31m# Make args iterable too.\u001b[0m\u001b[0;34m\u001b[0m\u001b[0;34m\u001b[0m\u001b[0m\n\u001b[0;32m-> 2238\u001b[0;31m             np.atleast_1d(x), height, width, y, linewidth)\n\u001b[0m\u001b[1;32m   2239\u001b[0m \u001b[0;34m\u001b[0m\u001b[0m\n\u001b[1;32m   2240\u001b[0m         \u001b[0;31m# Now that units have been converted, set the tick locations.\u001b[0m\u001b[0;34m\u001b[0m\u001b[0;34m\u001b[0m\u001b[0m\n",
      "\u001b[0;32m~/Documents/py3/py3/lib/python3.7/site-packages/numpy/lib/stride_tricks.py\u001b[0m in \u001b[0;36mbroadcast_arrays\u001b[0;34m(*args, **kwargs)\u001b[0m\n\u001b[1;32m    250\u001b[0m     \u001b[0margs\u001b[0m \u001b[0;34m=\u001b[0m \u001b[0;34m[\u001b[0m\u001b[0mnp\u001b[0m\u001b[0;34m.\u001b[0m\u001b[0marray\u001b[0m\u001b[0;34m(\u001b[0m\u001b[0m_m\u001b[0m\u001b[0;34m,\u001b[0m \u001b[0mcopy\u001b[0m\u001b[0;34m=\u001b[0m\u001b[0;32mFalse\u001b[0m\u001b[0;34m,\u001b[0m \u001b[0msubok\u001b[0m\u001b[0;34m=\u001b[0m\u001b[0msubok\u001b[0m\u001b[0;34m)\u001b[0m \u001b[0;32mfor\u001b[0m \u001b[0m_m\u001b[0m \u001b[0;32min\u001b[0m \u001b[0margs\u001b[0m\u001b[0;34m]\u001b[0m\u001b[0;34m\u001b[0m\u001b[0m\n\u001b[1;32m    251\u001b[0m \u001b[0;34m\u001b[0m\u001b[0m\n\u001b[0;32m--> 252\u001b[0;31m     \u001b[0mshape\u001b[0m \u001b[0;34m=\u001b[0m \u001b[0m_broadcast_shape\u001b[0m\u001b[0;34m(\u001b[0m\u001b[0;34m*\u001b[0m\u001b[0margs\u001b[0m\u001b[0;34m)\u001b[0m\u001b[0;34m\u001b[0m\u001b[0m\n\u001b[0m\u001b[1;32m    253\u001b[0m \u001b[0;34m\u001b[0m\u001b[0m\n\u001b[1;32m    254\u001b[0m     \u001b[0;32mif\u001b[0m \u001b[0mall\u001b[0m\u001b[0;34m(\u001b[0m\u001b[0marray\u001b[0m\u001b[0;34m.\u001b[0m\u001b[0mshape\u001b[0m \u001b[0;34m==\u001b[0m \u001b[0mshape\u001b[0m \u001b[0;32mfor\u001b[0m \u001b[0marray\u001b[0m \u001b[0;32min\u001b[0m \u001b[0margs\u001b[0m\u001b[0;34m)\u001b[0m\u001b[0;34m:\u001b[0m\u001b[0;34m\u001b[0m\u001b[0m\n",
      "\u001b[0;32m~/Documents/py3/py3/lib/python3.7/site-packages/numpy/lib/stride_tricks.py\u001b[0m in \u001b[0;36m_broadcast_shape\u001b[0;34m(*args)\u001b[0m\n\u001b[1;32m    185\u001b[0m     \u001b[0;31m# use the old-iterator because np.nditer does not handle size 0 arrays\u001b[0m\u001b[0;34m\u001b[0m\u001b[0;34m\u001b[0m\u001b[0m\n\u001b[1;32m    186\u001b[0m     \u001b[0;31m# consistently\u001b[0m\u001b[0;34m\u001b[0m\u001b[0;34m\u001b[0m\u001b[0m\n\u001b[0;32m--> 187\u001b[0;31m     \u001b[0mb\u001b[0m \u001b[0;34m=\u001b[0m \u001b[0mnp\u001b[0m\u001b[0;34m.\u001b[0m\u001b[0mbroadcast\u001b[0m\u001b[0;34m(\u001b[0m\u001b[0;34m*\u001b[0m\u001b[0margs\u001b[0m\u001b[0;34m[\u001b[0m\u001b[0;34m:\u001b[0m\u001b[0;36m32\u001b[0m\u001b[0;34m]\u001b[0m\u001b[0;34m)\u001b[0m\u001b[0;34m\u001b[0m\u001b[0m\n\u001b[0m\u001b[1;32m    188\u001b[0m     \u001b[0;31m# unfortunately, it cannot handle 32 or more arguments directly\u001b[0m\u001b[0;34m\u001b[0m\u001b[0;34m\u001b[0m\u001b[0m\n\u001b[1;32m    189\u001b[0m     \u001b[0;32mfor\u001b[0m \u001b[0mpos\u001b[0m \u001b[0;32min\u001b[0m \u001b[0mrange\u001b[0m\u001b[0;34m(\u001b[0m\u001b[0;36m32\u001b[0m\u001b[0;34m,\u001b[0m \u001b[0mlen\u001b[0m\u001b[0;34m(\u001b[0m\u001b[0margs\u001b[0m\u001b[0;34m)\u001b[0m\u001b[0;34m,\u001b[0m \u001b[0;36m31\u001b[0m\u001b[0;34m)\u001b[0m\u001b[0;34m:\u001b[0m\u001b[0;34m\u001b[0m\u001b[0m\n",
      "\u001b[0;31mValueError\u001b[0m: shape mismatch: objects cannot be broadcast to a single shape"
     ]
    }
   ],
   "source": [
    "features_rf = clf_rf_reg.feature_importances_.argsort()[::-1]\n",
    "features_score = clf_rf_reg.feature_importances_[features_rf]\n",
    "feature_rf_names = ['%s' %terms[i] for i in features_rf]\n",
    "\n",
    "plt.figure(figsize = (16, 9))\n",
    "plt.bar(feature_rf_names, features_score, align = 'center')"
   ]
  },
  {
   "cell_type": "code",
   "execution_count": null,
   "metadata": {
    "collapsed": true
   },
   "outputs": [],
   "source": []
  },
  {
   "cell_type": "code",
   "execution_count": null,
   "metadata": {
    "collapsed": true
   },
   "outputs": [],
   "source": []
  },
  {
   "cell_type": "markdown",
   "metadata": {},
   "source": [
    "## Extra Credit #1: Can you cluster restaurants from their category information?\n",
    "Hint: a business may have mutiple categories, e.g. a restaurant can have both \"Restaurants\" and \"Korean\""
   ]
  },
  {
   "cell_type": "code",
   "execution_count": null,
   "metadata": {
    "collapsed": true
   },
   "outputs": [],
   "source": [
    "# To be implemented"
   ]
  },
  {
   "cell_type": "markdown",
   "metadata": {},
   "source": [
    "## Extra Credit #2: Can you try different distance/similarity metrics for clusterings, e.g. Pearson correlation, Jaccard distance, etc. \n",
    "\n",
    "Hint: You can take a look at [scipy](http://docs.scipy.org/doc/scipy/reference/generated/scipy.spatial.distance.pdist.html#scipy.spatial.distance.pdist) documentations to use other distances\n",
    "\n",
    "#### Q: How do you compare with Cosine distance or Euclidean distance?"
   ]
  },
  {
   "cell_type": "code",
   "execution_count": null,
   "metadata": {
    "collapsed": true
   },
   "outputs": [],
   "source": [
    "# To be implemented"
   ]
  },
  {
   "cell_type": "markdown",
   "metadata": {},
   "source": [
    "## Extra Credit #3: Can you cluster categories from business entities? What does it mean by a cluster?\n",
    "Hint: Think the example where words can be clustered from the transposed tf-idf matrix."
   ]
  },
  {
   "cell_type": "code",
   "execution_count": null,
   "metadata": {
    "collapsed": true
   },
   "outputs": [],
   "source": [
    "# To be implemented"
   ]
  },
  {
   "cell_type": "markdown",
   "metadata": {},
   "source": [
    "## Extra Credit #4: What are the characteristics of each of the clustered  ? For each cluster, which restaurant can best represent (\"define\") its cluster?\n",
    "Hint: how to interpret \"best\"?"
   ]
  },
  {
   "cell_type": "code",
   "execution_count": null,
   "metadata": {
    "collapsed": true
   },
   "outputs": [],
   "source": [
    "# To be implemented"
   ]
  },
  {
   "cell_type": "markdown",
   "metadata": {},
   "source": [
    "## Extra Credit #5: Can you think of other use cases that clustering can be used? \n",
    "Hint: of course you can make use of other yelp dataset. You can try anything you want as long as you can explain it."
   ]
  },
  {
   "cell_type": "code",
   "execution_count": null,
   "metadata": {
    "collapsed": true
   },
   "outputs": [],
   "source": [
    "# To be implemented"
   ]
  },
  {
   "cell_type": "code",
   "execution_count": null,
   "metadata": {
    "collapsed": true
   },
   "outputs": [],
   "source": []
  }
 ],
 "metadata": {
  "anaconda-cloud": {},
  "kernelspec": {
   "display_name": "Python 3",
   "language": "python",
   "name": "python3"
  },
  "language_info": {
   "codemirror_mode": {
    "name": "ipython",
    "version": 3
   },
   "file_extension": ".py",
   "mimetype": "text/x-python",
   "name": "python",
   "nbconvert_exporter": "python",
   "pygments_lexer": "ipython3",
   "version": "3.7.0"
  }
 },
 "nbformat": 4,
 "nbformat_minor": 1
}
