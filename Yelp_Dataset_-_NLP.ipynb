{
 "cells": [
  {
   "cell_type": "markdown",
   "metadata": {},
   "source": [
    "# Yelp Data Challenge - NLP\n",
    "\n",
    "BitTiger DS501\n",
    "\n",
    "Jun 2017"
   ]
  },
  {
   "cell_type": "code",
   "execution_count": 1,
   "metadata": {},
   "outputs": [],
   "source": [
    "import pandas as pd\n",
    "import numpy as np\n",
    "from scipy import stats\n",
    "import seaborn as sns\n",
    "%matplotlib inline"
   ]
  },
  {
   "cell_type": "code",
   "execution_count": 2,
   "metadata": {},
   "outputs": [
    {
     "name": "stdout",
     "output_type": "stream",
     "text": [
      "/Users/zirongwu/DataScience/DS501/BitTiger-DS501-1805/Homework/Yelp_Data_Challenge_Project\n"
     ]
    }
   ],
   "source": [
    "cd .."
   ]
  },
  {
   "cell_type": "code",
   "execution_count": 3,
   "metadata": {},
   "outputs": [],
   "source": [
    "df = pd.read_csv('dataset/last_2_years_restaurant_reviews.csv') # data/last_2_years_restaurant_reviews.csv"
   ]
  },
  {
   "cell_type": "code",
   "execution_count": 4,
   "metadata": {
    "scrolled": true
   },
   "outputs": [
    {
     "data": {
      "text/html": [
       "<div>\n",
       "<style scoped>\n",
       "    .dataframe tbody tr th:only-of-type {\n",
       "        vertical-align: middle;\n",
       "    }\n",
       "\n",
       "    .dataframe tbody tr th {\n",
       "        vertical-align: top;\n",
       "    }\n",
       "\n",
       "    .dataframe thead th {\n",
       "        text-align: right;\n",
       "    }\n",
       "</style>\n",
       "<table border=\"1\" class=\"dataframe\">\n",
       "  <thead>\n",
       "    <tr style=\"text-align: right;\">\n",
       "      <th></th>\n",
       "      <th>name</th>\n",
       "      <th>categories</th>\n",
       "      <th>avg_stars</th>\n",
       "      <th>cool</th>\n",
       "      <th>date</th>\n",
       "      <th>funny</th>\n",
       "      <th>review_id</th>\n",
       "      <th>stars</th>\n",
       "      <th>text</th>\n",
       "      <th>useful</th>\n",
       "      <th>user_id</th>\n",
       "    </tr>\n",
       "  </thead>\n",
       "  <tbody>\n",
       "    <tr>\n",
       "      <th>0</th>\n",
       "      <td>CakesbyToi</td>\n",
       "      <td>American (Traditional), Food, Bakeries, Restau...</td>\n",
       "      <td>1.5</td>\n",
       "      <td>1</td>\n",
       "      <td>2015-08-02</td>\n",
       "      <td>0</td>\n",
       "      <td>UgwmWy_68S_aKR9wTWKGOg</td>\n",
       "      <td>3</td>\n",
       "      <td>I am a huge fan of both locally owned business...</td>\n",
       "      <td>4</td>\n",
       "      <td>jSD05fFrAFa5gX3ZQae1tw</td>\n",
       "    </tr>\n",
       "    <tr>\n",
       "      <th>1</th>\n",
       "      <td>CakesbyToi</td>\n",
       "      <td>American (Traditional), Food, Bakeries, Restau...</td>\n",
       "      <td>1.5</td>\n",
       "      <td>2</td>\n",
       "      <td>2015-06-08</td>\n",
       "      <td>2</td>\n",
       "      <td>AywPsODuQbUMhBEjmKiGXw</td>\n",
       "      <td>1</td>\n",
       "      <td>Let me start off by saying. If you cant make a...</td>\n",
       "      <td>8</td>\n",
       "      <td>oagZh5A2cWJXZBLakS_KpQ</td>\n",
       "    </tr>\n",
       "    <tr>\n",
       "      <th>2</th>\n",
       "      <td>CakesbyToi</td>\n",
       "      <td>American (Traditional), Food, Bakeries, Restau...</td>\n",
       "      <td>1.5</td>\n",
       "      <td>1</td>\n",
       "      <td>2015-08-08</td>\n",
       "      <td>0</td>\n",
       "      <td>6j39TEUBDBTEK37OKACWLw</td>\n",
       "      <td>1</td>\n",
       "      <td>Decent product. ..HORRIBLE service. Totally un...</td>\n",
       "      <td>2</td>\n",
       "      <td>6BSwuyc7fvcccJgrY4_W5Q</td>\n",
       "    </tr>\n",
       "    <tr>\n",
       "      <th>3</th>\n",
       "      <td>Subway</td>\n",
       "      <td>Fast Food, Restaurants, Sandwiches</td>\n",
       "      <td>2.5</td>\n",
       "      <td>0</td>\n",
       "      <td>2016-07-03</td>\n",
       "      <td>0</td>\n",
       "      <td>c6iTbCMMYWnOd79ZiWwobg</td>\n",
       "      <td>1</td>\n",
       "      <td>I ordered a few 12 inch sandwiches , a turkey ...</td>\n",
       "      <td>1</td>\n",
       "      <td>ih7Dmu7wZpKVwlBRbakJOQ</td>\n",
       "    </tr>\n",
       "    <tr>\n",
       "      <th>4</th>\n",
       "      <td>Subway</td>\n",
       "      <td>Fast Food, Restaurants, Sandwiches</td>\n",
       "      <td>2.5</td>\n",
       "      <td>0</td>\n",
       "      <td>2018-03-10</td>\n",
       "      <td>0</td>\n",
       "      <td>5iDdZvpK4jOv2w5kZ15TUA</td>\n",
       "      <td>1</td>\n",
       "      <td>Worst subway of any I have visited. I have man...</td>\n",
       "      <td>1</td>\n",
       "      <td>m3WBc9bGxn1q1ikAFq8PaA</td>\n",
       "    </tr>\n",
       "  </tbody>\n",
       "</table>\n",
       "</div>"
      ],
      "text/plain": [
       "         name                                         categories  avg_stars  \\\n",
       "0  CakesbyToi  American (Traditional), Food, Bakeries, Restau...        1.5   \n",
       "1  CakesbyToi  American (Traditional), Food, Bakeries, Restau...        1.5   \n",
       "2  CakesbyToi  American (Traditional), Food, Bakeries, Restau...        1.5   \n",
       "3      Subway                 Fast Food, Restaurants, Sandwiches        2.5   \n",
       "4      Subway                 Fast Food, Restaurants, Sandwiches        2.5   \n",
       "\n",
       "   cool        date  funny               review_id  stars  \\\n",
       "0     1  2015-08-02      0  UgwmWy_68S_aKR9wTWKGOg      3   \n",
       "1     2  2015-06-08      2  AywPsODuQbUMhBEjmKiGXw      1   \n",
       "2     1  2015-08-08      0  6j39TEUBDBTEK37OKACWLw      1   \n",
       "3     0  2016-07-03      0  c6iTbCMMYWnOd79ZiWwobg      1   \n",
       "4     0  2018-03-10      0  5iDdZvpK4jOv2w5kZ15TUA      1   \n",
       "\n",
       "                                                text  useful  \\\n",
       "0  I am a huge fan of both locally owned business...       4   \n",
       "1  Let me start off by saying. If you cant make a...       8   \n",
       "2  Decent product. ..HORRIBLE service. Totally un...       2   \n",
       "3  I ordered a few 12 inch sandwiches , a turkey ...       1   \n",
       "4  Worst subway of any I have visited. I have man...       1   \n",
       "\n",
       "                  user_id  \n",
       "0  jSD05fFrAFa5gX3ZQae1tw  \n",
       "1  oagZh5A2cWJXZBLakS_KpQ  \n",
       "2  6BSwuyc7fvcccJgrY4_W5Q  \n",
       "3  ih7Dmu7wZpKVwlBRbakJOQ  \n",
       "4  m3WBc9bGxn1q1ikAFq8PaA  "
      ]
     },
     "execution_count": 4,
     "metadata": {},
     "output_type": "execute_result"
    }
   ],
   "source": [
    "df.head()"
   ]
  },
  {
   "cell_type": "code",
   "execution_count": 54,
   "metadata": {},
   "outputs": [
    {
     "data": {
      "text/plain": [
       "(640718, 11)"
      ]
     },
     "execution_count": 54,
     "metadata": {},
     "output_type": "execute_result"
    }
   ],
   "source": [
    "df.shape"
   ]
  },
  {
   "cell_type": "markdown",
   "metadata": {},
   "source": [
    "### Define your feature variables, here is the text of the review"
   ]
  },
  {
   "cell_type": "code",
   "execution_count": 5,
   "metadata": {
    "scrolled": true
   },
   "outputs": [],
   "source": [
    "# Take the values of the column that contains review text data, save to a variable named \"documents\"\n",
    "documents = df.text.values"
   ]
  },
  {
   "cell_type": "code",
   "execution_count": 6,
   "metadata": {},
   "outputs": [
    {
     "data": {
      "text/plain": [
       "(640718,)"
      ]
     },
     "execution_count": 6,
     "metadata": {},
     "output_type": "execute_result"
    }
   ],
   "source": [
    "# inspect your documents, e.g. check the size, take a peek at elements of the numpy array\n",
    "documents.shape"
   ]
  },
  {
   "cell_type": "markdown",
   "metadata": {},
   "source": [
    "### Define your target variable (any categorical variable that may be meaningful)"
   ]
  },
  {
   "cell_type": "markdown",
   "metadata": {},
   "source": [
    "#### For example, I am interested in perfect (5 stars) and imperfect (1-4 stars) rating"
   ]
  },
  {
   "cell_type": "code",
   "execution_count": 7,
   "metadata": {
    "scrolled": true
   },
   "outputs": [
    {
     "name": "stdout",
     "output_type": "stream",
     "text": [
      "<class 'pandas.core.frame.DataFrame'>\n",
      "RangeIndex: 640718 entries, 0 to 640717\n",
      "Data columns (total 11 columns):\n",
      "name          640718 non-null object\n",
      "categories    640718 non-null object\n",
      "avg_stars     640718 non-null float64\n",
      "cool          640718 non-null int64\n",
      "date          640718 non-null object\n",
      "funny         640718 non-null int64\n",
      "review_id     640718 non-null object\n",
      "stars         640718 non-null int64\n",
      "text          640718 non-null object\n",
      "useful        640718 non-null int64\n",
      "user_id       640718 non-null object\n",
      "dtypes: float64(1), int64(4), object(6)\n",
      "memory usage: 53.8+ MB\n"
     ]
    }
   ],
   "source": [
    "# Make a column and take the values, save to a variable named \"target\"\n",
    "df.info()"
   ]
  },
  {
   "cell_type": "code",
   "execution_count": 8,
   "metadata": {
    "scrolled": true
   },
   "outputs": [],
   "source": [
    "# set the stars and bin it to perfect or imperfect\n",
    "target = np.where(df.stars <= 4, 0, 1)"
   ]
  },
  {
   "cell_type": "code",
   "execution_count": 9,
   "metadata": {},
   "outputs": [
    {
     "data": {
      "text/plain": [
       "array([0, 0, 0, ..., 0, 0, 0])"
      ]
     },
     "execution_count": 9,
     "metadata": {},
     "output_type": "execute_result"
    }
   ],
   "source": [
    "target"
   ]
  },
  {
   "cell_type": "markdown",
   "metadata": {},
   "source": [
    "#### You may want to look at the statistic of the target variable"
   ]
  },
  {
   "cell_type": "code",
   "execution_count": 10,
   "metadata": {},
   "outputs": [
    {
     "data": {
      "text/plain": [
       "DescribeResult(nobs=640718, minmax=(0, 1), mean=0.4741461922405801, variance=0.2493319697689701, skewness=0.1035537583710436, kurtosis=-1.9892766191272317)"
      ]
     },
     "execution_count": 10,
     "metadata": {},
     "output_type": "execute_result"
    }
   ],
   "source": [
    "# To be implemented\n",
    "stats.describe(target)"
   ]
  },
  {
   "cell_type": "code",
   "execution_count": 14,
   "metadata": {},
   "outputs": [
    {
     "data": {
      "text/plain": [
       "<matplotlib.axes._subplots.AxesSubplot at 0x12063f668>"
      ]
     },
     "execution_count": 14,
     "metadata": {},
     "output_type": "execute_result"
    },
    {
     "data": {
      "image/png": "[encoded data removed]",
      "text/plain": [
       "<Figure size 432x288 with 1 Axes>"
      ]
     },
     "metadata": {
      "needs_background": "light"
     },
     "output_type": "display_data"
    }
   ],
   "source": [
    "pd.Series(target, name = 'target').plot.density()"
   ]
  },
  {
   "cell_type": "code",
   "execution_count": 12,
   "metadata": {
    "scrolled": true
   },
   "outputs": [
    {
     "data": {
      "image/png": "[encoded data removed]",
      "text/plain": [
       "<Figure size 432x288 with 1 Axes>"
      ]
     },
     "metadata": {
      "needs_background": "light"
     },
     "output_type": "display_data"
    }
   ],
   "source": [
    "sns.countplot(target);"
   ]
  },
  {
   "cell_type": "code",
   "execution_count": 33,
   "metadata": {
    "scrolled": true
   },
   "outputs": [
    {
     "data": {
      "text/plain": [
       "array([\"I am a huge fan of both locally owned businesses and cupcakes.  Cakes By Toi combines these loves with an okay result.  I decided to stop by on my way home after a long day at work, and after telling myself repeatedly I would stop in and try this place.\\n\\nIt is in your typical small strip mall.  Walking up it appeared they may also sell some sort of Thai food for lunch although when I walked in I only saw the bakery area. The interior is very plain, which is fine as I was there for the cupcakes. Sprucing it up a bit wouldn't hurt. They had a couple cases that had cupcakes and cakes ready to go.  The staff behind the counter were very friendly, and I got the sense by the ages that it may be members of the family all working there.\\n\\nThe cupcake, the most important thing, were okay.  There were reasonably priced, especially compared to certain designer cupcake bakeries.  I purchased half a dozen to share with the family.  The flavors were good as were a few of the frostings.  My greatest disappointment was a couple were stale and the frosting had hardened on a couple.  I'm not sure if maybe due to the lack of traffic in the area if they were a day old, but lacked the fluffiness you want from a cupcake.  I have actually gone to this location twice. On a weekday 2 out of 6 cupcakes were like what's described with the other 4 being really good.  I then went on a weekend and each cupcake was pretty hard.\\n\\nI will certainly give them another shot, and would like to try a cake that I know is going to be made fresh for whatever occasion as I want to support our local businesses, and the experience overall is worth giving them another shot.\",\n",
       "       \"Let me start off by saying. If you cant make a cake the way some has asked you politely decline it's better than giving someone a piece of shit cake. So i placed an order with enough time to make the cake I wanted, the cake lady told me it was going to be good and since I got referred she said she would do an awesome job. I put my faith in this lady to do my babyshower cake the way I wanted it done. On Thursday I get a call just making sure what I i order June 4th). I told not to do the glove to do the baby..she said okay then i come in at 2:12pm June 6th to get the cake the baby shower starts at 3pm. Well my cake isnt ready.. she said the order time says 230.. well I cam early so why isn't it ready. Please don't tell me you just started decorating the cake.. to make a long story short. My cake came outl looking like a totally different cake. Was I mad hell yes. If my cake lady wasn't booked that day I would of went to her, but i went to a low budget cake lady who obviously needs to work on her decorating skills..it's funny how most think you can't do it yourself, but my mom is a chef and baker..my.dad has 30 years a chef and baker and if he was alive I would asked him to do my cake. If i didn't plan my own shower I would of did it myself, but i entrusted in this lady something that she took from me and I can't never have back. Never ever ever go here. The fact she has people in the kitchen cooking and baking with Sandles on should of been my hint. I wasn't going to bash her or go on here. But seeing they aren't of theie word when my mom called down their and spoke to the owner who said he would call back with a final verdict. Then I am.letting the public know. Never ever ever ever go to thenm. Try to support black owned business and this shit happens\",\n",
       "       'Decent product. ..HORRIBLE service. Totally unprofessional.  Would NEVER spend one red cent here.  They almost ruined my wedding day....buyer beware!!!!',\n",
       "       ...,\n",
       "       \"I had a great experience for breakfast here. Yes, there was a wait,  but that seems standard for breakfast in Vegas. Told the waitress we were trying to get in & out in 40 min to catch our flight and it wasn't a problem, even though the place was packed. Service was very good actually. She was fast, but attentive.\\n\\nI got a bagel with salmon & cream cheese.  Very nice presentation and fresh salmon.  I was very happy.  Hubby and the little guy had pancakes and waffles, which were both good too.\",\n",
       "       \"Sometimes getting a regular breakfast near where you are can be a pain. In New York, New York in the miniature city section, it was just what we were looking for. We sat at the bar, had one of the best Bloody Marys I've ever had and a good breakfast. Nothing is cheap in Vegas, would have been cheaper at home but who cares?\",\n",
       "       \"This cafe is located in the NYNY casino.. we meet some friends from out of town there. Stay away is my recommendation!! The food came out cold and the service was very slow couldn't even get a refill on water. Took forever for the food to come out and I regular mayo they forgot about it had to ask twice. Need help !! Never again\"],\n",
       "      dtype=object)"
      ]
     },
     "execution_count": 33,
     "metadata": {},
     "output_type": "execute_result"
    }
   ],
   "source": [
    "documents"
   ]
  },
  {
   "cell_type": "markdown",
   "metadata": {},
   "source": [
    "## Let's create training dataset and test dataset"
   ]
  },
  {
   "cell_type": "code",
   "execution_count": 15,
   "metadata": {
    "scrolled": false
   },
   "outputs": [
    {
     "name": "stderr",
     "output_type": "stream",
     "text": [
      "/Users/zirongwu/Documents/py3/py3/lib/python3.7/site-packages/sklearn/cross_validation.py:41: DeprecationWarning: This module was deprecated in version 0.18 in favor of the model_selection module into which all the refactored classes and functions are moved. Also note that the interface of the new CV iterators are different from that of this module. This module will be removed in 0.20.\n",
      "  \"This module will be removed in 0.20.\", DeprecationWarning)\n"
     ]
    }
   ],
   "source": [
    "from sklearn.cross_validation import train_test_split"
   ]
  },
  {
   "cell_type": "code",
   "execution_count": 16,
   "metadata": {},
   "outputs": [],
   "source": [
    "# Documents is your X, target is your y\n",
    "# Now split the data to training set and test set\n",
    "x = documents\n",
    "y = target"
   ]
  },
  {
   "cell_type": "code",
   "execution_count": 17,
   "metadata": {},
   "outputs": [],
   "source": [
    "# Split to documents_train, documents_test, target_train, target_test\n",
    "documents_train, documents_test, target_train, target_test = train_test_split(x, y, test_size = 0.3, random_state = 42)"
   ]
  },
  {
   "cell_type": "markdown",
   "metadata": {},
   "source": [
    "## Let's get NLP representation of the documents"
   ]
  },
  {
   "cell_type": "code",
   "execution_count": 65,
   "metadata": {},
   "outputs": [],
   "source": [
    "from sklearn.feature_extraction.text import TfidfVectorizer\n",
    "from sklearn.feature_extraction.text import CountVectorizer\n",
    "from nltk.corpus import stopwords\n",
    "from nltk.stem.wordnet import WordNetLemmatizer\n",
    "from nltk.tokenize import word_tokenize"
   ]
  },
  {
   "cell_type": "code",
   "execution_count": 64,
   "metadata": {},
   "outputs": [],
   "source": [
    "wordnet = WordNetLemmatizer()\n",
    "\n",
    "# lemmatize\n",
    "def lemmatize(doc):\n",
    "    return [wordnet.lemmatize(word) for word in word_tokenize(doc.lower())]"
   ]
  },
  {
   "cell_type": "code",
   "execution_count": 67,
   "metadata": {},
   "outputs": [],
   "source": [
    "# Create TfidfVectorizer, and name it vectorizer\n",
    "tfidf_vectorizer = TfidfVectorizer(stop_words = stopwords.words('english'), max_features=2000,\n",
    "                                  tokenizer = lemmatize)"
   ]
  },
  {
   "cell_type": "code",
   "execution_count": 68,
   "metadata": {
    "scrolled": true
   },
   "outputs": [],
   "source": [
    "# Train the model with your training data\n",
    "tfidf_matrix = tfidf_vectorizer.fit_transform(documents_train).todense()"
   ]
  },
  {
   "cell_type": "code",
   "execution_count": 69,
   "metadata": {},
   "outputs": [
    {
     "data": {
      "text/plain": [
       "(448502, 2000)"
      ]
     },
     "execution_count": 69,
     "metadata": {},
     "output_type": "execute_result"
    }
   ],
   "source": [
    "tfidf_matrix.shape"
   ]
  },
  {
   "cell_type": "code",
   "execution_count": 70,
   "metadata": {},
   "outputs": [],
   "source": [
    "# get the vocal of tfidf_matrix\n",
    "words = tfidf_vectorizer.get_feature_names()"
   ]
  },
  {
   "cell_type": "code",
   "execution_count": 71,
   "metadata": {},
   "outputs": [
    {
     "data": {
      "text/plain": [
       "['!',\n",
       " '#',\n",
       " '$',\n",
       " '%',\n",
       " '&',\n",
       " \"'\",\n",
       " \"''\",\n",
       " \"'d\",\n",
       " \"'ll\",\n",
       " \"'m\",\n",
       " \"'re\",\n",
       " \"'s\",\n",
       " \"'ve\",\n",
       " '(',\n",
       " ')',\n",
       " '*',\n",
       " '+',\n",
       " ',',\n",
       " '-',\n",
       " '--',\n",
       " '.',\n",
       " '..',\n",
       " '...',\n",
       " '/',\n",
       " '1',\n",
       " '1.',\n",
       " '1/2',\n",
       " '10',\n",
       " '100',\n",
       " '11',\n",
       " '12',\n",
       " '13',\n",
       " '14',\n",
       " '15',\n",
       " '16',\n",
       " '17',\n",
       " '18',\n",
       " '1st',\n",
       " '2',\n",
       " '2.',\n",
       " '20',\n",
       " '24',\n",
       " '25',\n",
       " '2nd',\n",
       " '3',\n",
       " '3.',\n",
       " '3.5',\n",
       " '30',\n",
       " '35',\n",
       " '3rd',\n",
       " '4',\n",
       " '4.',\n",
       " '4/5',\n",
       " '40',\n",
       " '45',\n",
       " '5',\n",
       " '5/5',\n",
       " '50',\n",
       " '6',\n",
       " '60',\n",
       " '7',\n",
       " '8',\n",
       " '9',\n",
       " '90',\n",
       " ':',\n",
       " ';',\n",
       " '=',\n",
       " '?',\n",
       " '@',\n",
       " '``',\n",
       " 'able',\n",
       " 'absolute',\n",
       " 'absolutely',\n",
       " 'accommodate',\n",
       " 'accommodating',\n",
       " 'across',\n",
       " 'actual',\n",
       " 'actually',\n",
       " 'add',\n",
       " 'added',\n",
       " 'adding',\n",
       " 'addition',\n",
       " 'additional',\n",
       " 'admit',\n",
       " 'adult',\n",
       " 'advance',\n",
       " 'affordable',\n",
       " 'afternoon',\n",
       " 'ago',\n",
       " 'agree',\n",
       " 'agreed',\n",
       " 'ahead',\n",
       " 'ahi',\n",
       " 'aioli',\n",
       " 'air',\n",
       " 'airport',\n",
       " 'al',\n",
       " 'alcohol',\n",
       " 'alfredo',\n",
       " 'allergy',\n",
       " 'allow',\n",
       " 'allowed',\n",
       " 'almond',\n",
       " 'almost',\n",
       " 'alone',\n",
       " 'along',\n",
       " 'already',\n",
       " 'alright',\n",
       " 'also',\n",
       " 'although',\n",
       " 'always',\n",
       " 'amazing',\n",
       " 'amazingly',\n",
       " 'ambiance',\n",
       " 'ambience',\n",
       " 'american',\n",
       " 'among',\n",
       " 'amount',\n",
       " 'anniversary',\n",
       " 'annoyed',\n",
       " 'annoying',\n",
       " 'another',\n",
       " 'answer',\n",
       " 'answered',\n",
       " 'anymore',\n",
       " 'anyone',\n",
       " 'anything',\n",
       " 'anytime',\n",
       " 'anyway',\n",
       " 'anyways',\n",
       " 'anywhere',\n",
       " 'apart',\n",
       " 'apologize',\n",
       " 'apologized',\n",
       " 'apology',\n",
       " 'app',\n",
       " 'apparently',\n",
       " 'appeared',\n",
       " 'appetite',\n",
       " 'appetizer',\n",
       " 'apple',\n",
       " 'appreciate',\n",
       " 'appreciated',\n",
       " 'apps',\n",
       " 'area',\n",
       " 'aria',\n",
       " 'around',\n",
       " 'arrive',\n",
       " 'arrived',\n",
       " 'art',\n",
       " 'asada',\n",
       " 'asian',\n",
       " 'aside',\n",
       " 'ask',\n",
       " 'asked',\n",
       " 'asking',\n",
       " 'asparagus',\n",
       " 'ate',\n",
       " 'atmosphere',\n",
       " 'attention',\n",
       " 'attentive',\n",
       " 'attitude',\n",
       " 'authentic',\n",
       " 'available',\n",
       " 'average',\n",
       " 'avocado',\n",
       " 'avoid',\n",
       " 'aware',\n",
       " 'away',\n",
       " 'awesome',\n",
       " 'awful',\n",
       " 'awhile',\n",
       " 'ayce',\n",
       " 'b',\n",
       " 'baby',\n",
       " 'bacchanal',\n",
       " 'back',\n",
       " 'bacon',\n",
       " 'bad',\n",
       " 'bag',\n",
       " 'bagel',\n",
       " 'baked',\n",
       " 'bakery',\n",
       " 'balance',\n",
       " 'ball',\n",
       " 'banana',\n",
       " 'band',\n",
       " 'bar',\n",
       " 'barely',\n",
       " 'bartender',\n",
       " 'base',\n",
       " 'based',\n",
       " 'basic',\n",
       " 'basically',\n",
       " 'basil',\n",
       " 'basket',\n",
       " 'bass',\n",
       " 'bathroom',\n",
       " 'batter',\n",
       " 'bay',\n",
       " 'bbq',\n",
       " 'bc',\n",
       " 'bean',\n",
       " 'beat',\n",
       " 'beautiful',\n",
       " 'beautifully',\n",
       " 'became',\n",
       " 'become',\n",
       " 'bed',\n",
       " 'beef',\n",
       " 'beer',\n",
       " 'beet',\n",
       " 'begin',\n",
       " 'beginning',\n",
       " 'behind',\n",
       " 'believe',\n",
       " 'bell',\n",
       " 'bellagio',\n",
       " 'belly',\n",
       " 'benedict',\n",
       " 'berry',\n",
       " 'besides',\n",
       " 'best',\n",
       " 'better',\n",
       " 'beverage',\n",
       " 'beyond',\n",
       " 'bf',\n",
       " 'big',\n",
       " 'bigger',\n",
       " 'biggest',\n",
       " 'bill',\n",
       " 'birthday',\n",
       " 'biscuit',\n",
       " 'bisque',\n",
       " 'bit',\n",
       " 'bite',\n",
       " 'black',\n",
       " 'bland',\n",
       " 'blend',\n",
       " 'block',\n",
       " 'bloody',\n",
       " 'blown',\n",
       " 'blue',\n",
       " 'blueberry',\n",
       " 'board',\n",
       " 'boba',\n",
       " 'bomb',\n",
       " 'bone',\n",
       " 'bonus',\n",
       " 'book',\n",
       " 'booth',\n",
       " 'bother',\n",
       " 'bottle',\n",
       " 'bottom',\n",
       " 'bottomless',\n",
       " 'bought',\n",
       " 'bowl',\n",
       " 'box',\n",
       " 'boy',\n",
       " 'boyfriend',\n",
       " 'brand',\n",
       " 'bread',\n",
       " 'break',\n",
       " 'breakfast',\n",
       " 'breast',\n",
       " 'brew',\n",
       " 'bright',\n",
       " 'bring',\n",
       " 'bringing',\n",
       " 'brings',\n",
       " 'brisket',\n",
       " 'broccoli',\n",
       " 'broth',\n",
       " 'brother',\n",
       " 'brought',\n",
       " 'brown',\n",
       " 'brunch',\n",
       " 'brussel',\n",
       " 'btw',\n",
       " 'buck',\n",
       " 'bud',\n",
       " 'buddy',\n",
       " 'buffalo',\n",
       " 'buffet',\n",
       " 'build',\n",
       " 'building',\n",
       " 'bulgogi',\n",
       " 'bun',\n",
       " 'bunch',\n",
       " 'burger',\n",
       " 'burnt',\n",
       " 'burrito',\n",
       " 'business',\n",
       " 'busy',\n",
       " 'butter',\n",
       " 'buttery',\n",
       " 'buy',\n",
       " 'ca',\n",
       " 'cabbage',\n",
       " 'caesar',\n",
       " 'cafe',\n",
       " 'cajun',\n",
       " 'cake',\n",
       " 'calamari',\n",
       " 'california',\n",
       " 'call',\n",
       " 'called',\n",
       " 'calling',\n",
       " 'came',\n",
       " 'candy',\n",
       " 'cant',\n",
       " 'car',\n",
       " 'caramel',\n",
       " 'card',\n",
       " 'care',\n",
       " 'carne',\n",
       " 'carnitas',\n",
       " 'carpaccio',\n",
       " 'carrot',\n",
       " 'carry',\n",
       " 'cart',\n",
       " 'carte',\n",
       " 'case',\n",
       " 'cash',\n",
       " 'cashier',\n",
       " 'casino',\n",
       " 'casual',\n",
       " 'catch',\n",
       " 'catfish',\n",
       " 'caught',\n",
       " 'cauliflower',\n",
       " 'cause',\n",
       " 'celebrate',\n",
       " 'center',\n",
       " 'certain',\n",
       " 'certainly',\n",
       " 'ceviche',\n",
       " 'chain',\n",
       " 'chair',\n",
       " 'champagne',\n",
       " 'chance',\n",
       " 'change',\n",
       " 'changed',\n",
       " 'charge',\n",
       " 'charged',\n",
       " 'cheap',\n",
       " 'cheaper',\n",
       " 'check',\n",
       " 'checked',\n",
       " 'checking',\n",
       " 'cheddar',\n",
       " 'cheese',\n",
       " 'cheeseburger',\n",
       " 'cheesecake',\n",
       " 'cheesy',\n",
       " 'chef',\n",
       " 'cherry',\n",
       " 'chewy',\n",
       " 'chicago',\n",
       " 'chicken',\n",
       " 'child',\n",
       " 'chile',\n",
       " 'chili',\n",
       " 'chill',\n",
       " 'china',\n",
       " 'chinatown',\n",
       " 'chinese',\n",
       " 'chip',\n",
       " 'chipotle',\n",
       " 'chocolate',\n",
       " 'choice',\n",
       " 'choose',\n",
       " 'chop',\n",
       " 'chopped',\n",
       " 'chorizo',\n",
       " 'chose',\n",
       " 'chow',\n",
       " 'chowder',\n",
       " 'christmas',\n",
       " 'chunk',\n",
       " 'cilantro',\n",
       " 'cinnamon',\n",
       " 'city',\n",
       " 'clam',\n",
       " 'class',\n",
       " 'classic',\n",
       " 'classy',\n",
       " 'clean',\n",
       " 'cleaned',\n",
       " 'cleaning',\n",
       " 'clear',\n",
       " 'clearly',\n",
       " 'close',\n",
       " 'closed',\n",
       " 'closer',\n",
       " 'closing',\n",
       " 'club',\n",
       " 'coast',\n",
       " 'cocktail',\n",
       " 'coconut',\n",
       " 'coffee',\n",
       " 'coke',\n",
       " 'cold',\n",
       " 'color',\n",
       " 'combination',\n",
       " 'combo',\n",
       " 'come',\n",
       " 'comfort',\n",
       " 'comfortable',\n",
       " 'coming',\n",
       " 'comment',\n",
       " 'company',\n",
       " 'compare',\n",
       " 'compared',\n",
       " 'complain',\n",
       " 'complaint',\n",
       " 'complete',\n",
       " 'completely',\n",
       " 'compliment',\n",
       " 'complimentary',\n",
       " 'con',\n",
       " 'concept',\n",
       " 'condiment',\n",
       " 'confused',\n",
       " 'consider',\n",
       " 'considering',\n",
       " 'consistency',\n",
       " 'consistent',\n",
       " 'consistently',\n",
       " 'constantly',\n",
       " 'contact',\n",
       " 'container',\n",
       " 'continue',\n",
       " 'convenient',\n",
       " 'conversation',\n",
       " 'cook',\n",
       " 'cooked',\n",
       " 'cookie',\n",
       " 'cooking',\n",
       " 'cooky',\n",
       " 'cool',\n",
       " 'corn',\n",
       " 'corned',\n",
       " 'corner',\n",
       " 'correct',\n",
       " 'cosmopolitan',\n",
       " 'cost',\n",
       " 'could',\n",
       " 'counter',\n",
       " 'country',\n",
       " 'couple',\n",
       " 'coupon',\n",
       " 'course',\n",
       " 'court',\n",
       " 'courteous',\n",
       " 'cousin',\n",
       " 'cover',\n",
       " 'covered',\n",
       " 'cozy',\n",
       " 'crab',\n",
       " 'craft',\n",
       " 'crap',\n",
       " 'craving',\n",
       " 'crawfish',\n",
       " 'crazy',\n",
       " 'cream',\n",
       " 'creamy',\n",
       " 'creative',\n",
       " 'credit',\n",
       " 'creme',\n",
       " 'crepe',\n",
       " 'crew',\n",
       " 'crisp',\n",
       " 'crispy',\n",
       " 'croissant',\n",
       " 'crowd',\n",
       " 'crowded',\n",
       " 'crunch',\n",
       " 'crunchy',\n",
       " 'crust',\n",
       " 'cucumber',\n",
       " 'cuisine',\n",
       " 'cup',\n",
       " 'curry',\n",
       " 'custard',\n",
       " 'customer',\n",
       " 'cut',\n",
       " 'cute',\n",
       " 'dad',\n",
       " 'daily',\n",
       " 'damn',\n",
       " 'dance',\n",
       " 'dark',\n",
       " 'date',\n",
       " 'daughter',\n",
       " 'day',\n",
       " 'de',\n",
       " 'deal',\n",
       " 'decent',\n",
       " 'decide',\n",
       " 'decided',\n",
       " 'decision',\n",
       " 'decor',\n",
       " 'decorated',\n",
       " 'deep',\n",
       " 'def',\n",
       " 'definitely',\n",
       " 'deli',\n",
       " 'delicious',\n",
       " 'delightful',\n",
       " 'delish',\n",
       " 'deliver',\n",
       " 'delivered',\n",
       " 'delivery',\n",
       " 'depending',\n",
       " 'describe',\n",
       " 'desert',\n",
       " 'deserves',\n",
       " 'design',\n",
       " 'desk',\n",
       " 'despite',\n",
       " 'dessert',\n",
       " 'detail',\n",
       " 'didnt',\n",
       " 'die',\n",
       " 'diet',\n",
       " 'difference',\n",
       " 'different',\n",
       " 'difficult',\n",
       " 'dim',\n",
       " 'dine',\n",
       " 'dined',\n",
       " 'diner',\n",
       " 'dining',\n",
       " 'dinner',\n",
       " 'dip',\n",
       " 'dipping',\n",
       " 'dirty',\n",
       " 'disappoint',\n",
       " 'disappointed',\n",
       " 'disappointing',\n",
       " 'disappointment',\n",
       " 'discount',\n",
       " 'discovered',\n",
       " 'disgusting',\n",
       " 'dish',\n",
       " 'display',\n",
       " 'dj',\n",
       " 'doe',\n",
       " 'dog',\n",
       " 'dollar',\n",
       " 'done',\n",
       " 'dont',\n",
       " 'donut',\n",
       " 'door',\n",
       " 'double',\n",
       " 'doubt',\n",
       " 'dough',\n",
       " 'downside',\n",
       " 'downtown',\n",
       " 'dozen',\n",
       " 'draft',\n",
       " 'dream',\n",
       " 'dressed',\n",
       " 'dressing',\n",
       " 'dried',\n",
       " 'drink',\n",
       " 'drinking',\n",
       " 'drive',\n",
       " 'driver',\n",
       " 'driving',\n",
       " 'drop',\n",
       " 'dropped',\n",
       " 'drove',\n",
       " 'drunk',\n",
       " 'dry',\n",
       " 'duck',\n",
       " 'due',\n",
       " 'dumpling',\n",
       " 'e',\n",
       " 'earlier',\n",
       " 'early',\n",
       " 'easily',\n",
       " 'east',\n",
       " 'easy',\n",
       " 'eat',\n",
       " 'eaten',\n",
       " 'eater',\n",
       " 'eating',\n",
       " 'eats',\n",
       " 'edamame',\n",
       " 'edible',\n",
       " 'efficient',\n",
       " 'effort',\n",
       " 'egg',\n",
       " 'eggplant',\n",
       " 'either',\n",
       " 'el',\n",
       " 'else',\n",
       " 'elsewhere',\n",
       " 'employee',\n",
       " 'empty',\n",
       " 'enchilada',\n",
       " 'end',\n",
       " 'ended',\n",
       " 'english',\n",
       " 'enjoy',\n",
       " 'enjoyable',\n",
       " 'enjoyed',\n",
       " 'enjoying',\n",
       " 'enough',\n",
       " 'enter',\n",
       " 'entertainment',\n",
       " 'entire',\n",
       " 'entrance',\n",
       " 'entree',\n",
       " 'environment',\n",
       " 'equally',\n",
       " 'especially',\n",
       " 'establishment',\n",
       " 'etc',\n",
       " 'even',\n",
       " 'evening',\n",
       " 'event',\n",
       " 'eventually',\n",
       " 'ever',\n",
       " 'every',\n",
       " 'everyday',\n",
       " 'everyone',\n",
       " 'everything',\n",
       " 'everytime',\n",
       " 'everywhere',\n",
       " 'exactly',\n",
       " 'example',\n",
       " 'excellent',\n",
       " 'except',\n",
       " 'exceptional',\n",
       " 'excited',\n",
       " 'excuse',\n",
       " 'expect',\n",
       " 'expectation',\n",
       " 'expected',\n",
       " 'expecting',\n",
       " 'expensive',\n",
       " 'experience',\n",
       " 'experienced',\n",
       " 'explain',\n",
       " 'explained',\n",
       " 'express',\n",
       " 'extensive',\n",
       " 'extra',\n",
       " 'extremely',\n",
       " 'eye',\n",
       " 'fabulous',\n",
       " 'face',\n",
       " 'fact',\n",
       " 'fair',\n",
       " 'fairly',\n",
       " 'fajitas',\n",
       " 'fall',\n",
       " 'family',\n",
       " 'famous',\n",
       " 'fan',\n",
       " 'fancy',\n",
       " 'fantastic',\n",
       " 'far',\n",
       " 'fare',\n",
       " 'fast',\n",
       " 'fat',\n",
       " 'fatty',\n",
       " 'fault',\n",
       " 'fav',\n",
       " 'favor',\n",
       " 'favorite',\n",
       " 'fee',\n",
       " 'feed',\n",
       " 'feel',\n",
       " 'feeling',\n",
       " 'fell',\n",
       " 'felt',\n",
       " 'fiancé',\n",
       " 'figure',\n",
       " 'figured',\n",
       " 'filet',\n",
       " 'filipino',\n",
       " 'fill',\n",
       " 'filled',\n",
       " 'filling',\n",
       " 'finally',\n",
       " 'find',\n",
       " 'finding',\n",
       " 'fine',\n",
       " 'finger',\n",
       " 'finish',\n",
       " 'finished',\n",
       " 'fire',\n",
       " 'first',\n",
       " 'fish',\n",
       " 'fit',\n",
       " 'five',\n",
       " 'fix',\n",
       " 'flag',\n",
       " 'flat',\n",
       " 'flavor',\n",
       " 'flavored',\n",
       " 'flavorful',\n",
       " 'flavorless',\n",
       " 'flight',\n",
       " 'floor',\n",
       " 'fluffy',\n",
       " 'foie',\n",
       " 'folk',\n",
       " 'followed',\n",
       " 'following',\n",
       " 'food',\n",
       " 'foodie',\n",
       " 'foot',\n",
       " 'forever',\n",
       " 'forget',\n",
       " 'forgot',\n",
       " 'fork',\n",
       " 'forward',\n",
       " 'found',\n",
       " 'fountain',\n",
       " 'four',\n",
       " 'free',\n",
       " 'fremont',\n",
       " 'french',\n",
       " 'frequent',\n",
       " 'frequently',\n",
       " 'fresh',\n",
       " 'freshly',\n",
       " 'friday',\n",
       " 'fried',\n",
       " 'friend',\n",
       " 'friendly',\n",
       " 'front',\n",
       " 'frozen',\n",
       " 'fruit',\n",
       " 'fry',\n",
       " 'full',\n",
       " 'fully',\n",
       " 'fun',\n",
       " 'funny',\n",
       " 'fusion',\n",
       " 'future',\n",
       " 'game',\n",
       " 'garden',\n",
       " 'garlic',\n",
       " 'gave',\n",
       " 'gelato',\n",
       " 'gem',\n",
       " 'general',\n",
       " 'generally',\n",
       " 'generous',\n",
       " 'gentleman',\n",
       " 'get',\n",
       " 'getting',\n",
       " 'gf',\n",
       " 'giant',\n",
       " 'gift',\n",
       " 'ginger',\n",
       " 'girl',\n",
       " 'girlfriend',\n",
       " 'give',\n",
       " 'given',\n",
       " 'giving',\n",
       " 'glad',\n",
       " 'glass',\n",
       " 'gluten',\n",
       " 'gnocchi',\n",
       " 'go',\n",
       " 'go-to',\n",
       " 'goat',\n",
       " 'god',\n",
       " 'going',\n",
       " 'golden',\n",
       " 'gon',\n",
       " 'gone',\n",
       " 'good',\n",
       " 'goodness',\n",
       " 'gordon',\n",
       " 'gorgeous',\n",
       " 'got',\n",
       " 'gotten',\n",
       " 'gourmet',\n",
       " 'grab',\n",
       " 'grabbed',\n",
       " 'grand',\n",
       " 'gras',\n",
       " 'gravy',\n",
       " 'greasy',\n",
       " 'great',\n",
       " 'greek',\n",
       " 'green',\n",
       " 'greet',\n",
       " 'greeted',\n",
       " 'grill',\n",
       " 'grilled',\n",
       " 'grit',\n",
       " 'grocery',\n",
       " 'gross',\n",
       " 'ground',\n",
       " 'group',\n",
       " 'groupon',\n",
       " 'guac',\n",
       " 'guacamole',\n",
       " 'guess',\n",
       " 'guest',\n",
       " 'guy',\n",
       " 'gyro',\n",
       " 'ha',\n",
       " 'haha',\n",
       " 'hair',\n",
       " 'half',\n",
       " 'ham',\n",
       " 'hamburger',\n",
       " 'hand',\n",
       " 'handed',\n",
       " 'handle',\n",
       " 'hang',\n",
       " 'happen',\n",
       " 'happened',\n",
       " 'happens',\n",
       " 'happy',\n",
       " 'hard',\n",
       " 'hardly',\n",
       " 'hash',\n",
       " 'hate',\n",
       " 'hawaii',\n",
       " 'hawaiian',\n",
       " 'head',\n",
       " 'health',\n",
       " 'healthy',\n",
       " 'hear',\n",
       " 'heard',\n",
       " 'heart',\n",
       " 'hearty',\n",
       " 'heat',\n",
       " 'heaven',\n",
       " 'heavy',\n",
       " 'hell',\n",
       " 'hello',\n",
       " 'help',\n",
       " 'helped',\n",
       " 'helpful',\n",
       " 'helping',\n",
       " 'henderson',\n",
       " 'herb',\n",
       " 'hey',\n",
       " 'hidden',\n",
       " 'high',\n",
       " 'higher',\n",
       " 'highlight',\n",
       " 'highly',\n",
       " 'hint',\n",
       " 'hip',\n",
       " 'hit',\n",
       " 'hold',\n",
       " 'hole',\n",
       " 'holiday',\n",
       " 'hollywood',\n",
       " 'holy',\n",
       " 'home',\n",
       " 'homemade',\n",
       " 'honest',\n",
       " 'honestly',\n",
       " 'honey',\n",
       " 'hookah',\n",
       " 'hope',\n",
       " 'hopefully',\n",
       " 'hoping',\n",
       " 'horrible',\n",
       " 'hospitality',\n",
       " 'host',\n",
       " 'hostess',\n",
       " 'hot',\n",
       " 'hotel',\n",
       " 'hour',\n",
       " 'house',\n",
       " 'however',\n",
       " 'hubby',\n",
       " 'huge',\n",
       " 'hummus',\n",
       " 'hungry',\n",
       " 'hurry',\n",
       " 'husband',\n",
       " 'hype',\n",
       " 'ice',\n",
       " 'iced',\n",
       " 'id',\n",
       " 'idea',\n",
       " 'ignored',\n",
       " 'im',\n",
       " 'imagine',\n",
       " 'immediately',\n",
       " 'impeccable',\n",
       " 'important',\n",
       " 'impressed',\n",
       " 'impression',\n",
       " 'impressive',\n",
       " 'in-n-out',\n",
       " 'include',\n",
       " 'included',\n",
       " 'includes',\n",
       " 'including',\n",
       " 'incredible',\n",
       " 'incredibly',\n",
       " 'indian',\n",
       " 'individual',\n",
       " 'industry',\n",
       " 'inexpensive',\n",
       " 'informed',\n",
       " 'ingredient',\n",
       " 'inside',\n",
       " 'instead',\n",
       " 'interesting',\n",
       " 'interior',\n",
       " 'intimate',\n",
       " 'inviting',\n",
       " 'island',\n",
       " 'issue',\n",
       " 'italian',\n",
       " 'item',\n",
       " 'ive',\n",
       " 'jack',\n",
       " 'jalapeno',\n",
       " 'jalapeño',\n",
       " 'jam',\n",
       " 'japanese',\n",
       " 'job',\n",
       " 'joe',\n",
       " 'john',\n",
       " 'joint',\n",
       " 'joke',\n",
       " 'juice',\n",
       " 'juicy',\n",
       " 'kabob',\n",
       " 'kalbi',\n",
       " 'kale',\n",
       " 'katsu',\n",
       " 'keep',\n",
       " 'keeping',\n",
       " 'kept',\n",
       " 'ketchup',\n",
       " 'key',\n",
       " 'kick',\n",
       " 'kid',\n",
       " 'kimchi',\n",
       " 'kind',\n",
       " 'kinda',\n",
       " 'king',\n",
       " 'kitchen',\n",
       " 'knew',\n",
       " 'knife',\n",
       " 'knot',\n",
       " 'know',\n",
       " 'knowing',\n",
       " 'knowledgeable',\n",
       " 'known',\n",
       " 'kobe',\n",
       " 'korean',\n",
       " 'la',\n",
       " 'lack',\n",
       " 'lacked',\n",
       " 'lacking',\n",
       " 'lady',\n",
       " 'lamb',\n",
       " 'large',\n",
       " 'larger',\n",
       " 'lasagna',\n",
       " 'last',\n",
       " 'late',\n",
       " 'later',\n",
       " 'latte',\n",
       " 'layer',\n",
       " 'lazy',\n",
       " 'le',\n",
       " 'leaf',\n",
       " 'least',\n",
       " 'leave',\n",
       " 'leaving',\n",
       " 'left',\n",
       " 'leftover',\n",
       " 'leg',\n",
       " 'legit',\n",
       " 'lemon',\n",
       " 'lemonade',\n",
       " 'let',\n",
       " 'lettuce',\n",
       " 'level',\n",
       " 'life',\n",
       " 'light',\n",
       " 'lighting',\n",
       " 'like',\n",
       " 'liked',\n",
       " 'likely',\n",
       " 'liking',\n",
       " 'lime',\n",
       " 'limited',\n",
       " ...]"
      ]
     },
     "execution_count": 71,
     "metadata": {},
     "output_type": "execute_result"
    }
   ],
   "source": [
    "words"
   ]
  },
  {
   "cell_type": "code",
   "execution_count": 72,
   "metadata": {},
   "outputs": [],
   "source": [
    "# Use the trained model to transform your test data\n",
    "tfidf_test = tfidf_vectorizer.transform(documents_test).todense()"
   ]
  },
  {
   "cell_type": "code",
   "execution_count": 73,
   "metadata": {},
   "outputs": [
    {
     "data": {
      "text/plain": [
       "(192216, 2000)"
      ]
     },
     "execution_count": 73,
     "metadata": {},
     "output_type": "execute_result"
    }
   ],
   "source": [
    "tfidf_test.shape"
   ]
  },
  {
   "cell_type": "markdown",
   "metadata": {},
   "source": [
    "## Similar review search engine"
   ]
  },
  {
   "cell_type": "code",
   "execution_count": 98,
   "metadata": {},
   "outputs": [],
   "source": [
    "import numpy as np\n",
    "\n",
    "# We will need these helper methods pretty soon\n",
    "\n",
    "def get_top_values(lst, n, labels):\n",
    "    '''\n",
    "    INPUT: LIST, INTEGER, LIST\n",
    "    OUTPUT: LIST\n",
    "\n",
    "    Given a list of values, find the indices with the highest n values.\n",
    "    Return the labels for each of these indices.\n",
    "\n",
    "    e.g.\n",
    "    lst = [7, 3, 2, 4, 1]\n",
    "    n = 2\n",
    "    labels = [\"cat\", \"dog\", \"mouse\", \"pig\", \"rabbit\"]\n",
    "    output: [\"cat\", \"pig\"]\n",
    "    '''\n",
    "    return [labels[i] for i in np.argsort(lst)[::-1][:n]]  # np.argsort by default sorts values in ascending order\n",
    "\n",
    "def get_bottom_values(lst, n, labels):\n",
    "    '''\n",
    "    INPUT: LIST, INTEGER, LIST\n",
    "    OUTPUT: LIST\n",
    "\n",
    "    Given a list of values, find the indices with the lowest n values.\n",
    "    Return the labels for each of these indices.\n",
    "\n",
    "    e.g.\n",
    "    lst = [7, 3, 2, 4, 1]\n",
    "    n = 2\n",
    "    labels = [\"cat\", \"dog\", \"mouse\", \"pig\", \"rabbit\"]\n",
    "    output: [\"mouse\", \"rabbit\"]\n",
    "    '''\n",
    "    return [labels[i] for i in np.argsort(lst)[::1][:n]]  # To be implemented\n"
   ]
  },
  {
   "cell_type": "code",
   "execution_count": 26,
   "metadata": {},
   "outputs": [],
   "source": [
    "# Let's use cosine similarity\n",
    "from sklearn.metrics.pairwise import cosine_similarity"
   ]
  },
  {
   "cell_type": "code",
   "execution_count": 27,
   "metadata": {},
   "outputs": [
    {
     "data": {
      "text/plain": [
       "'Great burger but absolutely terrible service.  If you train your wait staff to remember orders without writing them down you should be absolutely sure they can pull it off without forgetting things.  Hate restaurants that do this'"
      ]
     },
     "execution_count": 27,
     "metadata": {},
     "output_type": "execute_result"
    }
   ],
   "source": [
    "# Draw an arbitrary review from test (unseen in training) documents\n",
    "abreview = documents_test[8]\n",
    "abreview"
   ]
  },
  {
   "cell_type": "code",
   "execution_count": 40,
   "metadata": {},
   "outputs": [],
   "source": [
    "# Transform the drawn review(s) to vector(s)\n",
    "abreview_vect = tfidf_vectorizer.transform([abreview]).todense()"
   ]
  },
  {
   "cell_type": "code",
   "execution_count": 61,
   "metadata": {},
   "outputs": [
    {
     "data": {
      "text/plain": [
       "(1, 2000)"
      ]
     },
     "execution_count": 61,
     "metadata": {},
     "output_type": "execute_result"
    }
   ],
   "source": [
    "abreview_vect.shape"
   ]
  },
  {
   "cell_type": "code",
   "execution_count": 62,
   "metadata": {},
   "outputs": [
    {
     "data": {
      "text/plain": [
       "(2000, 448502)"
      ]
     },
     "execution_count": 62,
     "metadata": {},
     "output_type": "execute_result"
    }
   ],
   "source": [
    "tfidf_matrix.T.shape"
   ]
  },
  {
   "cell_type": "code",
   "execution_count": 59,
   "metadata": {},
   "outputs": [],
   "source": [
    "# Calculate the similarity score(s) between vector(s) and training vectors\n",
    "cosscore = cosine_similarity(abreview_vect.reshape(1, -1), tfidf_matrix)"
   ]
  },
  {
   "cell_type": "code",
   "execution_count": 60,
   "metadata": {
    "scrolled": true
   },
   "outputs": [
    {
     "data": {
      "text/plain": [
       "(1, 448502)"
      ]
     },
     "execution_count": 60,
     "metadata": {},
     "output_type": "execute_result"
    }
   ],
   "source": [
    "cosscore.shape"
   ]
  },
  {
   "cell_type": "code",
   "execution_count": 79,
   "metadata": {},
   "outputs": [
    {
     "data": {
      "text/plain": [
       "array([0.        , 0.0290711 , 0.00385391, ..., 0.05013891, 0.0117163 ,\n",
       "       0.0551903 ])"
      ]
     },
     "execution_count": 79,
     "metadata": {},
     "output_type": "execute_result"
    }
   ],
   "source": [
    "cosscore[0]"
   ]
  },
  {
   "cell_type": "code",
   "execution_count": 82,
   "metadata": {
    "scrolled": true
   },
   "outputs": [],
   "source": [
    "# Let's find top 5 similar reviews\n",
    "n = 5\n",
    "topfive = get_top_values(cosscore[0], n, range(tfidf_matrix.shape[0]))"
   ]
  },
  {
   "cell_type": "code",
   "execution_count": 83,
   "metadata": {
    "scrolled": true
   },
   "outputs": [
    {
     "data": {
      "text/plain": [
       "array([\"Absolutely terrible service, the staff just hangs out outside dancing and snap chatting. Definitely won't be back.\",\n",
       "       \"Perfect restaurant, waitstaff and food. Excellent. I'm not sure how I can expand on that further. I hate long dissertations on restaurants and this place doesn't need one. It's absolutely wonderful and I will be back.\",\n",
       "       \"Truly urban and turban....\\nCustomer Service is absolutely great!  Sure place to go if you're in Vegas!\\nRemember to check for Jose !\",\n",
       "       'This place is absolutely awesome!! The food and service were absolutely amazing!!! Prices were great and the food was soo fresh.',\n",
       "       \"Horrible dining experience and bad customer service. We were highly disappointed in Brio restaurant service. The food was absolutely terrible and without our consent our orders were changed and customized to a leftover uncooked fettuccine. Never returning to Brio again and we weren't the only unsatisfied and disappointed customers!\"],\n",
       "      dtype=object)"
      ]
     },
     "execution_count": 83,
     "metadata": {},
     "output_type": "execute_result"
    }
   ],
   "source": [
    "documents_train[topfive]"
   ]
  },
  {
   "cell_type": "code",
   "execution_count": 85,
   "metadata": {},
   "outputs": [
    {
     "name": "stdout",
     "output_type": "stream",
     "text": [
      "Our search query:\n",
      "Great burger but absolutely terrible service.  If you train your wait staff to remember orders without writing them down you should be absolutely sure they can pull it off without forgetting things.  Hate restaurants that do this\n"
     ]
    }
   ],
   "source": [
    "print('Our search query:')\n",
    "print(abreview) # To be added"
   ]
  },
  {
   "cell_type": "code",
   "execution_count": 86,
   "metadata": {},
   "outputs": [
    {
     "name": "stdout",
     "output_type": "stream",
     "text": [
      "Most 5 similar reviews:\n",
      "[\"Absolutely terrible service, the staff just hangs out outside dancing and snap chatting. Definitely won't be back.\"\n",
      " \"Perfect restaurant, waitstaff and food. Excellent. I'm not sure how I can expand on that further. I hate long dissertations on restaurants and this place doesn't need one. It's absolutely wonderful and I will be back.\"\n",
      " \"Truly urban and turban....\\nCustomer Service is absolutely great!  Sure place to go if you're in Vegas!\\nRemember to check for Jose !\"\n",
      " 'This place is absolutely awesome!! The food and service were absolutely amazing!!! Prices were great and the food was soo fresh.'\n",
      " \"Horrible dining experience and bad customer service. We were highly disappointed in Brio restaurant service. The food was absolutely terrible and without our consent our orders were changed and customized to a leftover uncooked fettuccine. Never returning to Brio again and we weren't the only unsatisfied and disappointed customers!\"]\n"
     ]
    }
   ],
   "source": [
    "print('Most %s similar reviews:' % n)\n",
    "print(documents_train[topfive])  # To be added"
   ]
  },
  {
   "cell_type": "markdown",
   "metadata": {},
   "source": [
    "#### Q: Does the result make sense to you?"
   ]
  },
  {
   "cell_type": "markdown",
   "metadata": {},
   "source": [
    "A: Yes. From the result, the key words are similar with the query, which are 'absolutely', 'terrible', 'service', 'back', etc. However, some of them are not having the same sentiment."
   ]
  },
  {
   "cell_type": "markdown",
   "metadata": {},
   "source": [
    "## Classifying positive/negative review"
   ]
  },
  {
   "cell_type": "markdown",
   "metadata": {},
   "source": [
    "#### Naive-Bayes Classifier"
   ]
  },
  {
   "cell_type": "code",
   "execution_count": 88,
   "metadata": {},
   "outputs": [
    {
     "data": {
      "text/plain": [
       "MultinomialNB(alpha=1.0, class_prior=None, fit_prior=True)"
      ]
     },
     "execution_count": 88,
     "metadata": {},
     "output_type": "execute_result"
    }
   ],
   "source": [
    "# Build a Naive-Bayes Classifier\n",
    "\n",
    "from sklearn.naive_bayes import MultinomialNB\n",
    "\n",
    "clf_nb = MultinomialNB()\n",
    "clf_nb.fit(tfidf_matrix, target_train)"
   ]
  },
  {
   "cell_type": "code",
   "execution_count": 89,
   "metadata": {},
   "outputs": [
    {
     "data": {
      "text/plain": [
       "0.8110956026951942"
      ]
     },
     "execution_count": 89,
     "metadata": {},
     "output_type": "execute_result"
    }
   ],
   "source": [
    "# Get score for training set\n",
    "clf_nb.score(tfidf_matrix, target_train)"
   ]
  },
  {
   "cell_type": "code",
   "execution_count": 90,
   "metadata": {},
   "outputs": [
    {
     "data": {
      "text/plain": [
       "0.8099377783327091"
      ]
     },
     "execution_count": 90,
     "metadata": {},
     "output_type": "execute_result"
    }
   ],
   "source": [
    "# Get score for test set\n",
    "clf_nb.score(tfidf_test, target_test)"
   ]
  },
  {
   "cell_type": "markdown",
   "metadata": {},
   "source": [
    "#### Logistic Regression Classifier"
   ]
  },
  {
   "cell_type": "code",
   "execution_count": 91,
   "metadata": {},
   "outputs": [
    {
     "data": {
      "text/plain": [
       "LogisticRegression(C=1.0, class_weight=None, dual=False, fit_intercept=True,\n",
       "          intercept_scaling=1, max_iter=100, multi_class='ovr', n_jobs=1,\n",
       "          penalty='l2', random_state=None, solver='liblinear', tol=0.0001,\n",
       "          verbose=0, warm_start=False)"
      ]
     },
     "execution_count": 91,
     "metadata": {},
     "output_type": "execute_result"
    }
   ],
   "source": [
    "# Build a Logistic Regression Classifier\n",
    "\n",
    "from sklearn.linear_model import LogisticRegression\n",
    "\n",
    "clf_lr = LogisticRegression()\n",
    "clf_lr.fit(tfidf_matrix, target_train)"
   ]
  },
  {
   "cell_type": "code",
   "execution_count": 92,
   "metadata": {},
   "outputs": [
    {
     "data": {
      "text/plain": [
       "0.8365982760389028"
      ]
     },
     "execution_count": 92,
     "metadata": {},
     "output_type": "execute_result"
    }
   ],
   "source": [
    "# Get score for training set\n",
    "clf_lr.score(tfidf_matrix, target_train)"
   ]
  },
  {
   "cell_type": "code",
   "execution_count": 93,
   "metadata": {
    "scrolled": true
   },
   "outputs": [
    {
     "data": {
      "text/plain": [
       "0.8362259125150872"
      ]
     },
     "execution_count": 93,
     "metadata": {},
     "output_type": "execute_result"
    }
   ],
   "source": [
    "# Get score for test set\n",
    "clf_lr.score(tfidf_test, target_test)"
   ]
  },
  {
   "cell_type": "code",
   "execution_count": 95,
   "metadata": {},
   "outputs": [
    {
     "data": {
      "text/plain": [
       "(1, 2000)"
      ]
     },
     "execution_count": 95,
     "metadata": {},
     "output_type": "execute_result"
    }
   ],
   "source": [
    "clf_lr.coef_.shape"
   ]
  },
  {
   "cell_type": "markdown",
   "metadata": {},
   "source": [
    "#### Q: What are the key features(words) that make the positive prediction?"
   ]
  },
  {
   "cell_type": "code",
   "execution_count": 96,
   "metadata": {},
   "outputs": [
    {
     "data": {
      "text/plain": [
       "['amazing',\n",
       " 'best',\n",
       " 'incredible',\n",
       " 'phenomenal',\n",
       " 'heaven',\n",
       " 'awesome',\n",
       " 'thank',\n",
       " 'fantastic',\n",
       " 'perfect',\n",
       " 'delicious',\n",
       " 'excellent',\n",
       " 'perfection',\n",
       " 'outstanding',\n",
       " '5/5',\n",
       " 'impeccable',\n",
       " '5',\n",
       " 'perfectly',\n",
       " 'favorite',\n",
       " 'highly',\n",
       " 'great']"
      ]
     },
     "execution_count": 96,
     "metadata": {},
     "output_type": "execute_result"
    }
   ],
   "source": [
    "# Let's find it out by ranking\n",
    "n = 20\n",
    "get_top_values(clf_lr.coef_[0], n, words)"
   ]
  },
  {
   "cell_type": "markdown",
   "metadata": {},
   "source": [
    "A: The key features are all positive words. It means that the review with positive words will lead to high rating stars."
   ]
  },
  {
   "cell_type": "markdown",
   "metadata": {},
   "source": [
    "#### Q: What are the key features(words) that make the negative prediction?"
   ]
  },
  {
   "cell_type": "code",
   "execution_count": 99,
   "metadata": {},
   "outputs": [
    {
     "data": {
      "text/plain": [
       "['worst',\n",
       " 'horrible',\n",
       " 'rude',\n",
       " 'disappointing',\n",
       " 'terrible',\n",
       " 'bland',\n",
       " 'mediocre',\n",
       " 'ok.',\n",
       " 'lacked',\n",
       " 'disgusting',\n",
       " 'awful',\n",
       " 'okay',\n",
       " 'poor',\n",
       " 'worse',\n",
       " 'slow',\n",
       " 'lacking',\n",
       " 'ok',\n",
       " 'meh',\n",
       " 'overpriced',\n",
       " 'tasteless']"
      ]
     },
     "execution_count": 99,
     "metadata": {},
     "output_type": "execute_result"
    }
   ],
   "source": [
    "# Let's find it out by ranking\n",
    "n = 20\n",
    "get_bottom_values(clf_lr.coef_[0], n, words)"
   ]
  },
  {
   "cell_type": "markdown",
   "metadata": {},
   "source": [
    "A: On the contrary, the negative prediction were alongwith the negative words and neutral words."
   ]
  },
  {
   "cell_type": "markdown",
   "metadata": {},
   "source": [
    "#### Random Forest Classifier"
   ]
  },
  {
   "cell_type": "code",
   "execution_count": 102,
   "metadata": {},
   "outputs": [
    {
     "data": {
      "text/plain": [
       "RandomForestClassifier(bootstrap=True, class_weight=None, criterion='gini',\n",
       "            max_depth=None, max_features='auto', max_leaf_nodes=None,\n",
       "            min_impurity_decrease=0.0, min_impurity_split=None,\n",
       "            min_samples_leaf=1, min_samples_split=2,\n",
       "            min_weight_fraction_leaf=0.0, n_estimators=10, n_jobs=1,\n",
       "            oob_score=False, random_state=42, verbose=0, warm_start=False)"
      ]
     },
     "execution_count": 102,
     "metadata": {},
     "output_type": "execute_result"
    }
   ],
   "source": [
    "# Build a Random Forest Classifier\n",
    "\n",
    "from sklearn.ensemble import RandomForestClassifier\n",
    "\n",
    "clf_rf = RandomForestClassifier(random_state=42)\n",
    "clf_rf.fit(tfidf_matrix, target_train)"
   ]
  },
  {
   "cell_type": "code",
   "execution_count": 103,
   "metadata": {},
   "outputs": [
    {
     "data": {
      "text/plain": [
       "0.9906867750868447"
      ]
     },
     "execution_count": 103,
     "metadata": {},
     "output_type": "execute_result"
    }
   ],
   "source": [
    "# Get score for training set\n",
    "clf_rf.score(tfidf_matrix, target_train)"
   ]
  },
  {
   "cell_type": "code",
   "execution_count": 104,
   "metadata": {},
   "outputs": [
    {
     "data": {
      "text/plain": [
       "0.7837432888000999"
      ]
     },
     "execution_count": 104,
     "metadata": {},
     "output_type": "execute_result"
    }
   ],
   "source": [
    "# Get score for test set\n",
    "clf_rf.score(tfidf_test, target_test)"
   ]
  },
  {
   "cell_type": "markdown",
   "metadata": {},
   "source": [
    "#### Q: What do you see from the training score and the test score?"
   ]
  },
  {
   "cell_type": "markdown",
   "metadata": {},
   "source": [
    "A: There has overfitting in this model. The training score is extremely high but the test score is low."
   ]
  },
  {
   "cell_type": "markdown",
   "metadata": {},
   "source": [
    "#### Q: Can you tell what features (words) are important by inspecting the RFC model?"
   ]
  },
  {
   "cell_type": "code",
   "execution_count": 108,
   "metadata": {
    "scrolled": true
   },
   "outputs": [
    {
     "data": {
      "text/plain": [
       "['!',\n",
       " 'amazing',\n",
       " 'best',\n",
       " 'great',\n",
       " 'delicious',\n",
       " 'wa',\n",
       " \"n't\",\n",
       " 'love',\n",
       " '.',\n",
       " '$',\n",
       " 'awesome',\n",
       " 'vega',\n",
       " 'good',\n",
       " 'definitely',\n",
       " 'pretty',\n",
       " 'favorite',\n",
       " 'bad',\n",
       " 'decent',\n",
       " 'excellent',\n",
       " 'nothing']"
      ]
     },
     "execution_count": 108,
     "metadata": {},
     "output_type": "execute_result"
    }
   ],
   "source": [
    "n = 20\n",
    "get_top_values(clf_rf.feature_importances_, n, words)"
   ]
  },
  {
   "cell_type": "markdown",
   "metadata": {},
   "source": [
    "The top 20 important features are the combination of positive words and negative words. Most of them are positive words."
   ]
  },
  {
   "cell_type": "markdown",
   "metadata": {},
   "source": [
    "## Extra Credit #1: Use cross validation to evaluate your classifiers\n",
    "\n",
    "[sklearn cross validation](http://scikit-learn.org/stable/modules/cross_validation.html)"
   ]
  },
  {
   "cell_type": "code",
   "execution_count": 116,
   "metadata": {
    "scrolled": true
   },
   "outputs": [],
   "source": [
    "# To be implemented\n",
    "from sklearn.model_selection import cross_val_score\n",
    "# Logistic Regression\n",
    "scores = cross_val_score(clf_lr, tfidf_matrix, target_train, cv=5, scoring='f1_macro')"
   ]
  },
  {
   "cell_type": "code",
   "execution_count": 117,
   "metadata": {
    "scrolled": true
   },
   "outputs": [
    {
     "data": {
      "text/plain": [
       "0.8337718893581118"
      ]
     },
     "execution_count": 117,
     "metadata": {},
     "output_type": "execute_result"
    }
   ],
   "source": [
    "scores.mean()"
   ]
  },
  {
   "cell_type": "code",
   "execution_count": 118,
   "metadata": {},
   "outputs": [],
   "source": [
    "# NB\n",
    "scores_nb = cross_val_score(clf_nb, tfidf_matrix, target_train, cv = 5, scoring='f1_macro')"
   ]
  },
  {
   "cell_type": "code",
   "execution_count": 119,
   "metadata": {},
   "outputs": [
    {
     "data": {
      "text/plain": [
       "0.8101979117147147"
      ]
     },
     "execution_count": 119,
     "metadata": {},
     "output_type": "execute_result"
    }
   ],
   "source": [
    "scores_nb.mean()"
   ]
  },
  {
   "cell_type": "code",
   "execution_count": 120,
   "metadata": {},
   "outputs": [],
   "source": [
    "# rf\n",
    "scores_rf = cross_val_score(clf_rf, tfidf_matrix, target_train, cv = 5, scoring='f1_macro')"
   ]
  },
  {
   "cell_type": "code",
   "execution_count": 121,
   "metadata": {},
   "outputs": [
    {
     "data": {
      "text/plain": [
       "0.7803414889175777"
      ]
     },
     "execution_count": 121,
     "metadata": {},
     "output_type": "execute_result"
    }
   ],
   "source": [
    "scores_rf.mean()"
   ]
  },
  {
   "cell_type": "markdown",
   "metadata": {},
   "source": [
    "## Extra Credit #2: Use grid search to find best predictable classifier\n",
    "\n",
    "\n",
    "[sklearn grid search tutorial (with cross validation)](http://scikit-learn.org/stable/modules/grid_search.html#grid-search)\n",
    "\n",
    "[sklearn grid search documentation (with cross validation)](http://scikit-learn.org/stable/modules/generated/sklearn.model_selection.GridSearchCV.html#sklearn.model_selection.GridSearchCV)"
   ]
  },
  {
   "cell_type": "code",
   "execution_count": 122,
   "metadata": {},
   "outputs": [],
   "source": [
    "from sklearn.model_selection import GridSearchCV"
   ]
  },
  {
   "cell_type": "code",
   "execution_count": 123,
   "metadata": {},
   "outputs": [
    {
     "data": {
      "text/plain": [
       "{'bootstrap': True,\n",
       " 'class_weight': None,\n",
       " 'criterion': 'gini',\n",
       " 'max_depth': None,\n",
       " 'max_features': 'auto',\n",
       " 'max_leaf_nodes': None,\n",
       " 'min_impurity_decrease': 0.0,\n",
       " 'min_impurity_split': None,\n",
       " 'min_samples_leaf': 1,\n",
       " 'min_samples_split': 2,\n",
       " 'min_weight_fraction_leaf': 0.0,\n",
       " 'n_estimators': 10,\n",
       " 'n_jobs': 1,\n",
       " 'oob_score': False,\n",
       " 'random_state': 42,\n",
       " 'verbose': 0,\n",
       " 'warm_start': False}"
      ]
     },
     "execution_count": 123,
     "metadata": {},
     "output_type": "execute_result"
    }
   ],
   "source": [
    "clf_rf.get_params()"
   ]
  },
  {
   "cell_type": "code",
   "execution_count": null,
   "metadata": {
    "collapsed": true
   },
   "outputs": [],
   "source": [
    "# To be implemented\n",
    "param_grid_nb = [{'criterion': ['']}]"
   ]
  },
  {
   "cell_type": "code",
   "execution_count": null,
   "metadata": {
    "collapsed": true
   },
   "outputs": [],
   "source": []
  }
 ],
 "metadata": {
  "anaconda-cloud": {},
  "kernelspec": {
   "display_name": "Python 3",
   "language": "python",
   "name": "python3"
  },
  "language_info": {
   "codemirror_mode": {
    "name": "ipython",
    "version": 3
   },
   "file_extension": ".py",
   "mimetype": "text/x-python",
   "name": "python",
   "nbconvert_exporter": "python",
   "pygments_lexer": "ipython3",
   "version": "3.7.0"
  }
 },
 "nbformat": 4,
 "nbformat_minor": 2
}
