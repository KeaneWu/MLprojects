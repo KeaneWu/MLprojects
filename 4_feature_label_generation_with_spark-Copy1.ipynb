{
 "cells": [
  {
   "cell_type": "markdown",
   "metadata": {},
   "source": [
    "# Load data into Spark DataFrame"
   ]
  },
  {
   "cell_type": "code",
   "execution_count": 1,
   "metadata": {},
   "outputs": [],
   "source": [
    "from pyspark import SparkContext\n",
    "from pyspark import SparkConf"
   ]
  },
  {
   "cell_type": "code",
   "execution_count": 2,
   "metadata": {},
   "outputs": [],
   "source": [
    "import pyspark.sql.functions as F"
   ]
  },
  {
   "cell_type": "code",
   "execution_count": 3,
   "metadata": {},
   "outputs": [
    {
     "data": {
      "text/plain": [
       "[('spark.app.id', 'local-1545001444731'),\n",
       " ('spark.sql.catalogImplementation', 'hive'),\n",
       " ('spark.rdd.compress', 'True'),\n",
       " ('spark.serializer.objectStreamReset', '100'),\n",
       " ('spark.master', 'local[*]'),\n",
       " ('spark.executor.id', 'driver'),\n",
       " ('spark.submit.deployMode', 'client'),\n",
       " ('spark.driver.host', '192.168.1.102'),\n",
       " ('spark.app.name', 'PySparkShell'),\n",
       " ('spark.ui.showConsoleProgress', 'true'),\n",
       " ('spark.driver.port', '61715')]"
      ]
     },
     "execution_count": 3,
     "metadata": {},
     "output_type": "execute_result"
    }
   ],
   "source": [
    "# reset the conf of spark\n",
    "spark.sparkContext._conf.getAll()"
   ]
  },
  {
   "cell_type": "code",
   "execution_count": 4,
   "metadata": {},
   "outputs": [],
   "source": [
    "# We use matplotlib for plotting\n",
    "import matplotlib.pyplot as plt\n",
    "\n",
    "# This statement allow to display plot without asking to\n",
    "%matplotlib inline"
   ]
  },
  {
   "cell_type": "code",
   "execution_count": 5,
   "metadata": {},
   "outputs": [
    {
     "data": {
      "text/html": [
       "\n",
       "        <div>\n",
       "            <p><b>SparkContext</b></p>\n",
       "\n",
       "            <p><a href=\"http://192.168.1.102:4041\">Spark UI</a></p>\n",
       "\n",
       "            <dl>\n",
       "              <dt>Version</dt>\n",
       "                <dd><code>v2.4.0</code></dd>\n",
       "              <dt>Master</dt>\n",
       "                <dd><code>local[*]</code></dd>\n",
       "              <dt>AppName</dt>\n",
       "                <dd><code>PySparkShell</code></dd>\n",
       "            </dl>\n",
       "        </div>\n",
       "        "
      ],
      "text/plain": [
       "<SparkContext master=local[*] appName=PySparkShell>"
      ]
     },
     "execution_count": 5,
     "metadata": {},
     "output_type": "execute_result"
    }
   ],
   "source": [
    "sc"
   ]
  },
  {
   "cell_type": "code",
   "execution_count": 6,
   "metadata": {
    "scrolled": true
   },
   "outputs": [
    {
     "data": {
      "text/plain": [
       "DataFrame[uid: string, event: string, song_id: string, date: string]"
      ]
     },
     "execution_count": 6,
     "metadata": {},
     "output_type": "execute_result"
    }
   ],
   "source": [
    "df = spark.read.csv('../../../../../../data/event_ds.csv',header=True).cache()\n",
    "df"
   ]
  },
  {
   "cell_type": "code",
   "execution_count": 7,
   "metadata": {
    "scrolled": true
   },
   "outputs": [
    {
     "data": {
      "text/plain": [
       "12252920"
      ]
     },
     "execution_count": 7,
     "metadata": {},
     "output_type": "execute_result"
    }
   ],
   "source": [
    "df.count()"
   ]
  },
  {
   "cell_type": "code",
   "execution_count": 8,
   "metadata": {
    "scrolled": true
   },
   "outputs": [
    {
     "name": "stdout",
     "output_type": "stream",
     "text": [
      "+---------+-----+--------+----------+\n",
      "|      uid|event| song_id|      date|\n",
      "+---------+-----+--------+----------+\n",
      "|168551373|    P| 3378911|2017-03-30|\n",
      "|168550728|    P|  285233|2017-03-30|\n",
      "|168530479|    P| 1676759|2017-03-30|\n",
      "|168551626|    P| 8131487|2017-03-30|\n",
      "|168535909|    P| 7145935|2017-03-30|\n",
      "|168534518|    P|23492124|2017-03-30|\n",
      "|168549973|    P| 3194852|2017-03-30|\n",
      "|168551235|    P|  956342|2017-03-30|\n",
      "|168551539|    P| 1217815|2017-03-30|\n",
      "|168547320|    P|       0|2017-03-30|\n",
      "|168550532|    P|   79479|2017-03-30|\n",
      "|168551351|    P|23490236|2017-03-30|\n",
      "|168549973|    P| 6461995|2017-03-30|\n",
      "|168551101|    P|  238435|2017-03-30|\n",
      "|168550208|    P| 3429202|2017-03-30|\n",
      "|168544253|    P| 1190655|2017-03-30|\n",
      "|168551451|    P| 7149583|2017-03-30|\n",
      "|168551235|    P|  988669|2017-03-30|\n",
      "|168541064|    P| 6120222|2017-03-30|\n",
      "|168551084|    P| 6414906|2017-03-30|\n",
      "+---------+-----+--------+----------+\n",
      "only showing top 20 rows\n",
      "\n"
     ]
    }
   ],
   "source": [
    "df.show()"
   ]
  },
  {
   "cell_type": "code",
   "execution_count": 9,
   "metadata": {},
   "outputs": [
    {
     "data": {
      "text/plain": [
       "DataFrame[uid: string, event: string, song_id: string, date: date]"
      ]
     },
     "execution_count": 9,
     "metadata": {},
     "output_type": "execute_result"
    }
   ],
   "source": [
    "# create new or overwrite original field with withColumn\n",
    "df1 = df.withColumn('date',F.col('date').cast('date'))\n",
    "df1"
   ]
  },
  {
   "cell_type": "code",
   "execution_count": 10,
   "metadata": {
    "scrolled": true
   },
   "outputs": [
    {
     "name": "stdout",
     "output_type": "stream",
     "text": [
      "+---------+-----+--------+----------+\n",
      "|      uid|event| song_id|      date|\n",
      "+---------+-----+--------+----------+\n",
      "|168551373|    P| 3378911|2017-03-30|\n",
      "|168550728|    P|  285233|2017-03-30|\n",
      "|168530479|    P| 1676759|2017-03-30|\n",
      "|168551626|    P| 8131487|2017-03-30|\n",
      "|168535909|    P| 7145935|2017-03-30|\n",
      "|168534518|    P|23492124|2017-03-30|\n",
      "|168549973|    P| 3194852|2017-03-30|\n",
      "|168551235|    P|  956342|2017-03-30|\n",
      "|168551539|    P| 1217815|2017-03-30|\n",
      "|168547320|    P|       0|2017-03-30|\n",
      "|168550532|    P|   79479|2017-03-30|\n",
      "|168551351|    P|23490236|2017-03-30|\n",
      "|168549973|    P| 6461995|2017-03-30|\n",
      "|168551101|    P|  238435|2017-03-30|\n",
      "|168550208|    P| 3429202|2017-03-30|\n",
      "|168544253|    P| 1190655|2017-03-30|\n",
      "|168551451|    P| 7149583|2017-03-30|\n",
      "|168551235|    P|  988669|2017-03-30|\n",
      "|168541064|    P| 6120222|2017-03-30|\n",
      "|168551084|    P| 6414906|2017-03-30|\n",
      "+---------+-----+--------+----------+\n",
      "only showing top 20 rows\n",
      "\n"
     ]
    }
   ],
   "source": [
    "df1.show()"
   ]
  },
  {
   "cell_type": "code",
   "execution_count": 55,
   "metadata": {},
   "outputs": [
    {
     "name": "stdout",
     "output_type": "stream",
     "text": [
      "root\n",
      " |-- uid: string (nullable = true)\n",
      " |-- event: string (nullable = true)\n",
      " |-- song_id: string (nullable = true)\n",
      " |-- date: string (nullable = true)\n",
      "\n"
     ]
    }
   ],
   "source": [
    "df.printSchema()"
   ]
  },
  {
   "cell_type": "markdown",
   "metadata": {},
   "source": [
    "# Some exploration"
   ]
  },
  {
   "cell_type": "code",
   "execution_count": 8,
   "metadata": {},
   "outputs": [
    {
     "data": {
      "text/plain": [
       "12278093"
      ]
     },
     "execution_count": 8,
     "metadata": {},
     "output_type": "execute_result"
    }
   ],
   "source": [
    "# simple count rows\n",
    "df.count()"
   ]
  },
  {
   "cell_type": "code",
   "execution_count": 11,
   "metadata": {},
   "outputs": [
    {
     "data": {
      "text/plain": [
       "59280"
      ]
     },
     "execution_count": 11,
     "metadata": {},
     "output_type": "execute_result"
    }
   ],
   "source": [
    "# select operation, count distinct rows\n",
    "df.select('uid').distinct().count()"
   ]
  },
  {
   "cell_type": "code",
   "execution_count": 12,
   "metadata": {
    "scrolled": false
   },
   "outputs": [
    {
     "name": "stdout",
     "output_type": "stream",
     "text": [
      "+-----+--------+\n",
      "|event|   count|\n",
      "+-----+--------+\n",
      "|    D|  621640|\n",
      "|    S|  767517|\n",
      "|    P|10863763|\n",
      "+-----+--------+\n",
      "\n"
     ]
    }
   ],
   "source": [
    "# group by aggregation\n",
    "df.groupBy('event').count().show()"
   ]
  },
  {
   "cell_type": "code",
   "execution_count": 13,
   "metadata": {},
   "outputs": [
    {
     "name": "stdout",
     "output_type": "stream",
     "text": [
      "+-----+--------+--------+\n",
      "|event|   count| max_uid|\n",
      "+-----+--------+--------+\n",
      "|    D|  621640|99556827|\n",
      "|    S|  767517|97541709|\n",
      "|    P|10863763|99556827|\n",
      "+-----+--------+--------+\n",
      "\n"
     ]
    }
   ],
   "source": [
    "# group by aggregation, more general (count, min, max, mean), multiple at once\n",
    "df.groupBy('event').agg(\n",
    "    F.count(F.col('uid')).alias('count'),\n",
    "    F.max(F.col('uid')).alias('max_uid')\n",
    ").show()"
   ]
  },
  {
   "cell_type": "code",
   "execution_count": 14,
   "metadata": {},
   "outputs": [
    {
     "name": "stdout",
     "output_type": "stream",
     "text": [
      "+----------+-----+------+\n",
      "|      date|event| count|\n",
      "+----------+-----+------+\n",
      "|2017-04-01|    D| 29091|\n",
      "|2017-04-01|    P|480921|\n",
      "|2017-04-01|    S| 32381|\n",
      "|2017-04-02|    D| 26600|\n",
      "|2017-04-02|    P|454734|\n",
      "|2017-04-02|    S| 30760|\n",
      "|2017-04-03|    D| 20403|\n",
      "|2017-04-03|    P|256227|\n",
      "|2017-04-03|    S| 24886|\n",
      "|2017-04-04|    D| 20894|\n",
      "|2017-04-04|    P|372758|\n",
      "|2017-04-04|    S| 26238|\n",
      "|2017-04-05|    D| 16331|\n",
      "|2017-04-05|    P|307015|\n",
      "|2017-04-05|    S| 20518|\n",
      "+----------+-----+------+\n",
      "\n"
     ]
    }
   ],
   "source": [
    "# filter operation\n",
    "# group by aggregation\n",
    "# order by operation\n",
    "df.filter((F.col('date')>='2017-04-01') & (F.col('date')<='2017-04-05')) \\\n",
    "                    .groupBy('date','event').count() \\\n",
    "                    .orderBy('date','event').show()"
   ]
  },
  {
   "cell_type": "code",
   "execution_count": 12,
   "metadata": {},
   "outputs": [
    {
     "name": "stdout",
     "output_type": "stream",
     "text": [
      "+----------+-----+------+\n",
      "|      date|event| count|\n",
      "+----------+-----+------+\n",
      "|2017-04-01|    D| 31476|\n",
      "|2017-04-01|    P|478908|\n",
      "|2017-04-01|    S| 33094|\n",
      "|2017-04-02|    D| 27075|\n",
      "|2017-04-02|    P|428756|\n",
      "|2017-04-02|    S| 30391|\n",
      "|2017-04-03|    D| 25552|\n",
      "|2017-04-03|    P|253309|\n",
      "|2017-04-03|    S| 26213|\n",
      "|2017-04-04|    D| 19510|\n",
      "|2017-04-04|    P|385577|\n",
      "|2017-04-04|    S| 25166|\n",
      "|2017-04-05|    D| 15788|\n",
      "|2017-04-05|    P|302208|\n",
      "|2017-04-05|    S| 20093|\n",
      "+----------+-----+------+\n",
      "\n"
     ]
    }
   ],
   "source": [
    "# filter operation\n",
    "# group by aggregation\n",
    "# order by operation\n",
    "df.filter((F.col('date')>='2017-04-01') & (F.col('date')<='2017-04-05')) \\\n",
    "                    .groupBy('date','event').count() \\\n",
    "                    .orderBy('date','event').show()"
   ]
  },
  {
   "cell_type": "code",
   "execution_count": 15,
   "metadata": {},
   "outputs": [],
   "source": [
    "date_count = df.groupBy('date').count().toPandas()"
   ]
  },
  {
   "cell_type": "code",
   "execution_count": 13,
   "metadata": {},
   "outputs": [],
   "source": [
    "date_count = df.groupBy('date').count().toPandas()"
   ]
  },
  {
   "cell_type": "code",
   "execution_count": 19,
   "metadata": {
    "scrolled": true
   },
   "outputs": [
    {
     "data": {
      "image/png": "[encoded data removed]",
      "text/plain": [
       "<Figure size 432x288 with 1 Axes>"
      ]
     },
     "metadata": {
      "needs_background": "light"
     },
     "output_type": "display_data"
    }
   ],
   "source": [
    "plt.bar(date_count['date'],date_count['count']);\n",
    "\n",
    "plt.xticks(rotation='vertical');"
   ]
  },
  {
   "cell_type": "markdown",
   "metadata": {},
   "source": [
    "# Label definition"
   ]
  },
  {
   "cell_type": "code",
   "execution_count": 20,
   "metadata": {},
   "outputs": [
    {
     "name": "stdout",
     "output_type": "stream",
     "text": [
      "label window: 2017-04-29 ~ 2017-05-12 days: 14\n",
      "feature window: 2017-03-30 ~ 2017-04-28 days: 30\n"
     ]
    }
   ],
   "source": [
    "import datetime\n",
    "from dateutil import parser\n",
    "\n",
    "label_window_size = 14\n",
    "label_window_end_date = parser.parse('2017-05-12').date()\n",
    "label_window_start_date = label_window_end_date - datetime.timedelta(label_window_size - 1)\n",
    "print('label window:',label_window_start_date,'~',label_window_end_date,'days:',label_window_size)\n",
    "\n",
    "feature_window_size = 30\n",
    "feature_window_end_date = label_window_start_date - datetime.timedelta(1)\n",
    "feature_window_start_date = feature_window_end_date  - datetime.timedelta(feature_window_size - 1)\n",
    "print('feature window:',feature_window_start_date,'~',feature_window_end_date,'days:',feature_window_size)"
   ]
  },
  {
   "cell_type": "code",
   "execution_count": 22,
   "metadata": {},
   "outputs": [],
   "source": [
    "# all the uid we will model\n",
    "df_model_uid = df.filter((F.col('date')>=feature_window_start_date) & (F.col('date')<=feature_window_end_date))\\\n",
    "                    .select('uid').distinct()\n",
    "# active in label window (active label=0)\n",
    "df_active_uid_in_label_window = df.filter((F.col('date')>=label_window_start_date) & (F.col('date')<=label_window_end_date))\\\n",
    "                            .select('uid').distinct().withColumn('label',F.lit(0))"
   ]
  },
  {
   "cell_type": "code",
   "execution_count": 24,
   "metadata": {},
   "outputs": [],
   "source": [
    "# prepare label data (churn label=1; active label=0)\n",
    "df_label = df_model_uid.join(df_active_uid_in_label_window,on=['uid'],how='left')\n",
    "df_label = df_label.fillna(1)"
   ]
  },
  {
   "cell_type": "code",
   "execution_count": 25,
   "metadata": {},
   "outputs": [
    {
     "name": "stdout",
     "output_type": "stream",
     "text": [
      "+-----+-----+\n",
      "|label|count|\n",
      "+-----+-----+\n",
      "|    1|35897|\n",
      "|    0|22040|\n",
      "+-----+-----+\n",
      "\n"
     ]
    }
   ],
   "source": [
    "df_label.groupBy('label').count().show()"
   ]
  },
  {
   "cell_type": "markdown",
   "metadata": {},
   "source": [
    "# Feature generation"
   ]
  },
  {
   "cell_type": "code",
   "execution_count": 33,
   "metadata": {},
   "outputs": [],
   "source": [
    "# event_data in feature_window\n",
    "df_feature_window = df.filter((F.col('date')>=feature_window_start_date) & (F.col('date')<=feature_window_end_date))"
   ]
  },
  {
   "cell_type": "markdown",
   "metadata": {},
   "source": [
    "### Frequency features"
   ]
  },
  {
   "cell_type": "markdown",
   "metadata": {},
   "source": [
    "##### method 1"
   ]
  },
  {
   "cell_type": "code",
   "execution_count": 34,
   "metadata": {},
   "outputs": [],
   "source": [
    "# define a function to generate frequency features\n",
    "def frequency_feature_generation(df,event,time_window,snapshot_date):\n",
    "    \"\"\"\n",
    "    generate frequency features for one event type and one time window\n",
    "    \"\"\"\n",
    "    df_feature = df.filter(F.col('event')==event)\\\n",
    "            .filter((F.col('date')>=snapshot_date-datetime.timedelta(time_window-1)) & (F.col('date')<=snapshot_date))\\\n",
    "            .groupBy('uid').agg(F.count(F.col('uid')).alias('freq_'+event+'_last_'+str(time_window)))\n",
    "    return df_feature"
   ]
  },
  {
   "cell_type": "code",
   "execution_count": 35,
   "metadata": {},
   "outputs": [],
   "source": [
    "# generate one feature\n",
    "event = 'S'\n",
    "time_window = 3\n",
    "snapshot_date = feature_window_end_date\n",
    "df_feature = frequency_feature_generation(df_feature_window,event,time_window,snapshot_date)"
   ]
  },
  {
   "cell_type": "code",
   "execution_count": 36,
   "metadata": {},
   "outputs": [
    {
     "name": "stdout",
     "output_type": "stream",
     "text": [
      "+---------+-------------+\n",
      "|      uid|freq_S_last_3|\n",
      "+---------+-------------+\n",
      "|167777847|            5|\n",
      "|167859732|            4|\n",
      "|167587246|            7|\n",
      "|167908487|            7|\n",
      "|167883821|            4|\n",
      "|168215121|           10|\n",
      "|168401805|           12|\n",
      "|168278023|            1|\n",
      "|168599918|            1|\n",
      "|167921182|            1|\n",
      "+---------+-------------+\n",
      "only showing top 10 rows\n",
      "\n"
     ]
    }
   ],
   "source": [
    "df_feature.show(10)"
   ]
  },
  {
   "cell_type": "code",
   "execution_count": 37,
   "metadata": {},
   "outputs": [
    {
     "name": "stdout",
     "output_type": "stream",
     "text": [
      "+---------+-------------+\n",
      "|      uid|freq_S_last_3|\n",
      "+---------+-------------+\n",
      "|167777847|            5|\n",
      "|167859732|            4|\n",
      "|167587246|            7|\n",
      "|167908487|            7|\n",
      "|167883821|            4|\n",
      "+---------+-------------+\n",
      "only showing top 5 rows\n",
      "\n"
     ]
    }
   ],
   "source": [
    "df_feature.show(5)"
   ]
  },
  {
   "cell_type": "code",
   "execution_count": 38,
   "metadata": {},
   "outputs": [],
   "source": [
    "# generate frequency features for all event_list, time_window_list\n",
    "event_list = ['P','D','S']\n",
    "time_window_list = [1,3,7,14,30]\n",
    "df_feature_list = []\n",
    "for event in event_list:\n",
    "    for time_window in time_window_list:\n",
    "        df_feature_list.append(frequency_feature_generation(df_feature_window,event,time_window,snapshot_date))\n"
   ]
  },
  {
   "cell_type": "code",
   "execution_count": 40,
   "metadata": {},
   "outputs": [
    {
     "data": {
      "text/plain": [
       "[DataFrame[uid: string, freq_P_last_1: bigint],\n",
       " DataFrame[uid: string, freq_P_last_3: bigint],\n",
       " DataFrame[uid: string, freq_P_last_7: bigint],\n",
       " DataFrame[uid: string, freq_P_last_14: bigint],\n",
       " DataFrame[uid: string, freq_P_last_30: bigint],\n",
       " DataFrame[uid: string, freq_D_last_1: bigint],\n",
       " DataFrame[uid: string, freq_D_last_3: bigint],\n",
       " DataFrame[uid: string, freq_D_last_7: bigint],\n",
       " DataFrame[uid: string, freq_D_last_14: bigint],\n",
       " DataFrame[uid: string, freq_D_last_30: bigint],\n",
       " DataFrame[uid: string, freq_S_last_1: bigint],\n",
       " DataFrame[uid: string, freq_S_last_3: bigint],\n",
       " DataFrame[uid: string, freq_S_last_7: bigint],\n",
       " DataFrame[uid: string, freq_S_last_14: bigint],\n",
       " DataFrame[uid: string, freq_S_last_30: bigint]]"
      ]
     },
     "execution_count": 40,
     "metadata": {},
     "output_type": "execute_result"
    }
   ],
   "source": [
    "df_feature_list"
   ]
  },
  {
   "cell_type": "markdown",
   "metadata": {},
   "source": [
    "##### method 2: too many dfs to join? do it another way"
   ]
  },
  {
   "cell_type": "code",
   "execution_count": 47,
   "metadata": {},
   "outputs": [],
   "source": [
    "# define a function to generate frequency features for a list of time windows\n",
    "# using when().otherwise(), and list comprehension trick!\n",
    "def frequency_feature_generation_time_windows(df,event,time_window_list,snapshot_date):\n",
    "    \"\"\"\n",
    "    generate frequency features for one event type and a list of time windows\n",
    "    \"\"\"\n",
    "    df_feature = df \\\n",
    "        .filter(F.col('event')==event) \\\n",
    "        .groupBy('uid') \\\n",
    "        .agg(*[F.sum(F.when((F.col('date')>=snapshot_date-datetime.timedelta(time_window-1)) & (F.col('date')<=snapshot_date),1).otherwise(0)).alias('freq_'+event+'_last_'+str(time_window)) \\\n",
    "                for time_window in time_window_list]\n",
    "            )# *[] opens list and make them comma separated\n",
    "    return df_feature"
   ]
  },
  {
   "cell_type": "code",
   "execution_count": 52,
   "metadata": {},
   "outputs": [
    {
     "name": "stdout",
     "output_type": "stream",
     "text": [
      "+---------+-------------+-------------+-------------+--------------+--------------+\n",
      "|      uid|freq_S_last_1|freq_S_last_3|freq_S_last_7|freq_S_last_14|freq_S_last_30|\n",
      "+---------+-------------+-------------+-------------+--------------+--------------+\n",
      "|167587246|            6|            7|           21|            37|            75|\n",
      "|168000523|            0|            0|            0|            33|            43|\n",
      "|167718831|            8|            8|           14|            29|           129|\n",
      "|167696079|            0|            0|            0|             4|            68|\n",
      "|167820979|            0|            0|            0|             0|             3|\n",
      "+---------+-------------+-------------+-------------+--------------+--------------+\n",
      "only showing top 5 rows\n",
      "\n"
     ]
    }
   ],
   "source": [
    "# generate one event type, all time windows \n",
    "event = 'S'\n",
    "time_window_list = [1,3,7,14,30]\n",
    "snapshot_date = feature_window_end_date\n",
    "df_feature = frequency_feature_generation_time_windows(df_feature_window,event,time_window_list,snapshot_date)\n",
    "df_feature.show(5)"
   ]
  },
  {
   "cell_type": "code",
   "execution_count": 49,
   "metadata": {},
   "outputs": [],
   "source": [
    "# generate frequency features for all event_list, time_window_list\n",
    "event_list = ['P','D','S']\n",
    "time_window_list = [1,3,7,14,30]\n",
    "df_feature_list = []\n",
    "for event in event_list:\n",
    "    df_feature_list.append(frequency_feature_generation_time_windows(df_feature_window,event,time_window_list,snapshot_date))\n"
   ]
  },
  {
   "cell_type": "code",
   "execution_count": 50,
   "metadata": {},
   "outputs": [
    {
     "data": {
      "text/plain": [
       "[DataFrame[uid: string, freq_P_last_1: bigint, freq_P_last_3: bigint, freq_P_last_7: bigint, freq_P_last_14: bigint, freq_P_last_30: bigint],\n",
       " DataFrame[uid: string, freq_D_last_1: bigint, freq_D_last_3: bigint, freq_D_last_7: bigint, freq_D_last_14: bigint, freq_D_last_30: bigint],\n",
       " DataFrame[uid: string, freq_S_last_1: bigint, freq_S_last_3: bigint, freq_S_last_7: bigint, freq_S_last_14: bigint, freq_S_last_30: bigint]]"
      ]
     },
     "execution_count": 50,
     "metadata": {},
     "output_type": "execute_result"
    }
   ],
   "source": [
    "df_feature_list"
   ]
  },
  {
   "cell_type": "markdown",
   "metadata": {},
   "source": [
    "### Recency features"
   ]
  },
  {
   "cell_type": "code",
   "execution_count": null,
   "metadata": {},
   "outputs": [],
   "source": [
    "# defined as days from last event\n",
    "# can generate one feature for each type of event\n",
    "def recency()"
   ]
  },
  {
   "cell_type": "code",
   "execution_count": 51,
   "metadata": {},
   "outputs": [
    {
     "name": "stdout",
     "output_type": "stream",
     "text": [
      "+---------+-----+-------+----------+\n",
      "|      uid|event|song_id|      date|\n",
      "+---------+-----+-------+----------+\n",
      "|168551373|    P|3378911|2017-03-30|\n",
      "|168550728|    P| 285233|2017-03-30|\n",
      "|168530479|    P|1676759|2017-03-30|\n",
      "|168551626|    P|8131487|2017-03-30|\n",
      "|168535909|    P|7145935|2017-03-30|\n",
      "+---------+-----+-------+----------+\n",
      "only showing top 5 rows\n",
      "\n"
     ]
    }
   ],
   "source": [
    "df_feature_window.show(5)"
   ]
  },
  {
   "cell_type": "code",
   "execution_count": 56,
   "metadata": {
    "scrolled": false
   },
   "outputs": [
    {
     "name": "stdout",
     "output_type": "stream",
     "text": [
      "root\n",
      " |-- uid: string (nullable = true)\n",
      " |-- event: string (nullable = true)\n",
      " |-- song_id: string (nullable = true)\n",
      " |-- date: string (nullable = true)\n",
      "\n"
     ]
    }
   ],
   "source": [
    "df_feature_window.printSchema()"
   ]
  },
  {
   "cell_type": "code",
   "execution_count": 59,
   "metadata": {},
   "outputs": [],
   "source": [
    "from pyspark.sql.types import DateType"
   ]
  },
  {
   "cell_type": "code",
   "execution_count": 61,
   "metadata": {},
   "outputs": [],
   "source": [
    "df_feature_window_1 = df_feature_window.withColumn('date1', df_feature_window['date'].cast(DateType()))"
   ]
  },
  {
   "cell_type": "code",
   "execution_count": 62,
   "metadata": {
    "scrolled": false
   },
   "outputs": [
    {
     "name": "stdout",
     "output_type": "stream",
     "text": [
      "+---------+-----+-------+----------+----------+\n",
      "|      uid|event|song_id|      date|     date1|\n",
      "+---------+-----+-------+----------+----------+\n",
      "|168551373|    P|3378911|2017-03-30|2017-03-30|\n",
      "|168550728|    P| 285233|2017-03-30|2017-03-30|\n",
      "|168530479|    P|1676759|2017-03-30|2017-03-30|\n",
      "|168551626|    P|8131487|2017-03-30|2017-03-30|\n",
      "|168535909|    P|7145935|2017-03-30|2017-03-30|\n",
      "+---------+-----+-------+----------+----------+\n",
      "only showing top 5 rows\n",
      "\n"
     ]
    }
   ],
   "source": [
    "df_feature_window_1.show(5)"
   ]
  },
  {
   "cell_type": "code",
   "execution_count": 81,
   "metadata": {},
   "outputs": [
    {
     "name": "stdout",
     "output_type": "stream",
     "text": [
      "root\n",
      " |-- uid: string (nullable = true)\n",
      " |-- event: string (nullable = true)\n",
      " |-- song_id: string (nullable = true)\n",
      " |-- date: string (nullable = true)\n",
      " |-- date1: date (nullable = true)\n",
      "\n"
     ]
    }
   ],
   "source": [
    "df_feature_window_1.printSchema()"
   ]
  },
  {
   "cell_type": "code",
   "execution_count": 83,
   "metadata": {},
   "outputs": [
    {
     "name": "stdout",
     "output_type": "stream",
     "text": [
      "+----------+\n",
      "|max(date1)|\n",
      "+----------+\n",
      "|2017-04-28|\n",
      "+----------+\n",
      "\n"
     ]
    }
   ],
   "source": [
    "df_feature_window_1.select(F.max('date1')).show()"
   ]
  },
  {
   "cell_type": "code",
   "execution_count": 91,
   "metadata": {},
   "outputs": [],
   "source": [
    "# calculate recency\n",
    "current_ts = F.to_utc_timestamp(F.unix_timestamp(F.lit(snapshot_date), 'yyyy-MM-dd').cast('timestamp'), 'UTC')\n",
    "\n",
    "df_feature_window_1 = df_feature_window_1.withColumn('Days_before', F.datediff(F.lit(current_ts), 'date1'))"
   ]
  },
  {
   "cell_type": "code",
   "execution_count": 92,
   "metadata": {},
   "outputs": [
    {
     "name": "stdout",
     "output_type": "stream",
     "text": [
      "+---------+-----+-------+----------+----------+-----------+\n",
      "|      uid|event|song_id|      date|     date1|Days_before|\n",
      "+---------+-----+-------+----------+----------+-----------+\n",
      "|168551373|    P|3378911|2017-03-30|2017-03-30|         29|\n",
      "|168550728|    P| 285233|2017-03-30|2017-03-30|         29|\n",
      "|168530479|    P|1676759|2017-03-30|2017-03-30|         29|\n",
      "|168551626|    P|8131487|2017-03-30|2017-03-30|         29|\n",
      "|168535909|    P|7145935|2017-03-30|2017-03-30|         29|\n",
      "+---------+-----+-------+----------+----------+-----------+\n",
      "only showing top 5 rows\n",
      "\n"
     ]
    }
   ],
   "source": [
    "df_feature_window_1.show(5)"
   ]
  },
  {
   "cell_type": "code",
   "execution_count": 93,
   "metadata": {},
   "outputs": [],
   "source": [
    "df_recency = df_feature_window_1.filter(F.col('event') == 'P').groupby('uid').agg(F.min(F.col('Days_before')).alias('recency'))"
   ]
  },
  {
   "cell_type": "code",
   "execution_count": 94,
   "metadata": {},
   "outputs": [
    {
     "name": "stdout",
     "output_type": "stream",
     "text": [
      "+---------+-------+\n",
      "|      uid|recency|\n",
      "+---------+-------+\n",
      "|168538840|     29|\n",
      "|168542202|     29|\n",
      "|168554264|      1|\n",
      "|168574082|     29|\n",
      "|168578629|      1|\n",
      "|168579473|     22|\n",
      "|168580671|      0|\n",
      "|168532334|     26|\n",
      "|168604132|     29|\n",
      "|168613666|     29|\n",
      "+---------+-------+\n",
      "only showing top 10 rows\n",
      "\n"
     ]
    }
   ],
   "source": [
    "df_recency.show(10)"
   ]
  },
  {
   "cell_type": "markdown",
   "metadata": {},
   "source": [
    "### Profile features"
   ]
  },
  {
   "cell_type": "code",
   "execution_count": 95,
   "metadata": {},
   "outputs": [
    {
     "name": "stdout",
     "output_type": "stream",
     "text": [
      "+---------+------+-------+----------+---------+-----------+\n",
      "|      uid|device|song_id|      date|play_time|song_length|\n",
      "+---------+------+-------+----------+---------+-----------+\n",
      "|168551373|    ar|3378911|2017-03-30|       14|        212|\n",
      "|168550728|    ar| 285233|2017-03-30|      282|        282|\n",
      "|168530479|    ar|1676759|2017-03-30|      338|        338|\n",
      "|168551626|    ar|8131487|2017-03-30|      247|        271|\n",
      "|168535909|    ar|7145935|2017-03-30|      130|        130|\n",
      "+---------+------+-------+----------+---------+-----------+\n",
      "only showing top 5 rows\n",
      "\n"
     ]
    }
   ],
   "source": [
    "df_play = spark.read.csv('../../../../../../data/play/play_ds.csv',header=True)\n",
    "df_play.show(5)"
   ]
  },
  {
   "cell_type": "code",
   "execution_count": 109,
   "metadata": {},
   "outputs": [],
   "source": [
    "df_play_feature_window = df_play.filter((F.col('date')>=feature_window_start_date) & (F.col('date')<=feature_window_end_date))\n",
    "df_profile_tmp = df_play_feature_window.select('uid','device').distinct()"
   ]
  },
  {
   "cell_type": "code",
   "execution_count": 97,
   "metadata": {},
   "outputs": [
    {
     "name": "stdout",
     "output_type": "stream",
     "text": [
      "+------+-----+\n",
      "|device|count|\n",
      "+------+-----+\n",
      "|    mc|    2|\n",
      "|    ar|50505|\n",
      "|    wp|    1|\n",
      "|    ip| 7303|\n",
      "+------+-----+\n",
      "\n"
     ]
    }
   ],
   "source": [
    "df_profile_tmp.groupBy('device').count().show()"
   ]
  },
  {
   "cell_type": "code",
   "execution_count": 98,
   "metadata": {},
   "outputs": [
    {
     "data": {
      "text/plain": [
       "57811"
      ]
     },
     "execution_count": 98,
     "metadata": {},
     "output_type": "execute_result"
    }
   ],
   "source": [
    "# check if one user has two devices\n",
    "df_profile_tmp.count()"
   ]
  },
  {
   "cell_type": "code",
   "execution_count": 99,
   "metadata": {},
   "outputs": [
    {
     "data": {
      "text/plain": [
       "57811"
      ]
     },
     "execution_count": 99,
     "metadata": {},
     "output_type": "execute_result"
    }
   ],
   "source": [
    "df_profile_tmp.distinct().count()"
   ]
  },
  {
   "cell_type": "code",
   "execution_count": 110,
   "metadata": {
    "scrolled": true
   },
   "outputs": [],
   "source": [
    "# only get the ar and ip as device\n",
    "df_profile_tmp = df_profile_tmp.filter((F.col('device') == 'ar') | (F.col('device') == 'ip'))"
   ]
  },
  {
   "cell_type": "code",
   "execution_count": 111,
   "metadata": {
    "scrolled": true
   },
   "outputs": [
    {
     "name": "stdout",
     "output_type": "stream",
     "text": [
      "+------+-----+\n",
      "|device|count|\n",
      "+------+-----+\n",
      "|    ar|50505|\n",
      "|    ip| 7303|\n",
      "+------+-----+\n",
      "\n"
     ]
    }
   ],
   "source": [
    "df_profile_tmp.groupBy('device').count().show()"
   ]
  },
  {
   "cell_type": "code",
   "execution_count": 112,
   "metadata": {
    "scrolled": true
   },
   "outputs": [
    {
     "name": "stdout",
     "output_type": "stream",
     "text": [
      "+-----------+-----+\n",
      "|device_type|count|\n",
      "+-----------+-----+\n",
      "|          1| 7303|\n",
      "|          2|50505|\n",
      "+-----------+-----+\n",
      "\n"
     ]
    }
   ],
   "source": [
    "df_profile_tmp = df_profile_tmp.withColumn('device_type',F.when(F.col('device')=='ip',1).otherwise(2))\n",
    "df_profile_tmp.groupBy('device_type').count().show()"
   ]
  },
  {
   "cell_type": "code",
   "execution_count": 113,
   "metadata": {},
   "outputs": [
    {
     "name": "stdout",
     "output_type": "stream",
     "text": [
      "+-----------+-----+\n",
      "|device_type|count|\n",
      "+-----------+-----+\n",
      "|       null|  143|\n",
      "|          1| 7303|\n",
      "|          2|50505|\n",
      "+-----------+-----+\n",
      "\n"
     ]
    }
   ],
   "source": [
    "df_profile = df_label.select('uid').join(df_profile_tmp.select('uid','device_type'),on='uid',how='left')\n",
    "df_profile.groupBy('device_type').count().show()"
   ]
  },
  {
   "cell_type": "markdown",
   "metadata": {},
   "source": [
    "### Total play time features"
   ]
  },
  {
   "cell_type": "code",
   "execution_count": 114,
   "metadata": {},
   "outputs": [
    {
     "name": "stdout",
     "output_type": "stream",
     "text": [
      "+---------+-----------+\n",
      "|      uid|device_type|\n",
      "+---------+-----------+\n",
      "|120180992|          2|\n",
      "|159613840|          2|\n",
      "|160554394|          2|\n",
      "|165374841|          2|\n",
      "|167328646|          2|\n",
      "|167515074|          2|\n",
      "|167574187|          2|\n",
      "|167581827|          2|\n",
      "|167587246|          2|\n",
      "|167597011|          2|\n",
      "+---------+-----------+\n",
      "only showing top 10 rows\n",
      "\n"
     ]
    }
   ],
   "source": [
    "df_profile.show(10)"
   ]
  },
  {
   "cell_type": "code",
   "execution_count": 115,
   "metadata": {},
   "outputs": [
    {
     "name": "stdout",
     "output_type": "stream",
     "text": [
      "root\n",
      " |-- uid: string (nullable = true)\n",
      " |-- device: string (nullable = true)\n",
      " |-- song_id: string (nullable = true)\n",
      " |-- date: string (nullable = true)\n",
      " |-- play_time: string (nullable = true)\n",
      " |-- song_length: string (nullable = true)\n",
      "\n"
     ]
    }
   ],
   "source": [
    "df_play_feature_window.printSchema()"
   ]
  },
  {
   "cell_type": "code",
   "execution_count": 120,
   "metadata": {},
   "outputs": [],
   "source": [
    "# Can you generate total song play time features (using play_ds data) for different time window\n",
    "# using play data (need to clean play time first, play time may be negative in data)\n",
    "df_playtime_tmp = df_play_feature_window.filter(F.col('play_time') > 0)\\\n",
    "                .withColumn('play_time', df_play_feature_window['play_time'].cast('float'))"
   ]
  },
  {
   "cell_type": "code",
   "execution_count": 121,
   "metadata": {
    "scrolled": false
   },
   "outputs": [
    {
     "name": "stdout",
     "output_type": "stream",
     "text": [
      "+---------+------+--------+----------+---------+-----------+\n",
      "|      uid|device| song_id|      date|play_time|song_length|\n",
      "+---------+------+--------+----------+---------+-----------+\n",
      "|168551373|    ar| 3378911|2017-03-30|     14.0|        212|\n",
      "|168550728|    ar|  285233|2017-03-30|    282.0|        282|\n",
      "|168530479|    ar| 1676759|2017-03-30|    338.0|        338|\n",
      "|168551626|    ar| 8131487|2017-03-30|    247.0|        271|\n",
      "|168535909|    ar| 7145935|2017-03-30|    130.0|        130|\n",
      "|168534518|    ar|23492124|2017-03-30|     67.0|        167|\n",
      "|168549973|    ip| 3194852|2017-03-30|      3.0|        644|\n",
      "|168551235|    ar|  956342|2017-03-30|      5.0|        207|\n",
      "|168551539|    ar| 1217815|2017-03-30|    138.0|        252|\n",
      "|168547320|    ar|       0|2017-03-30|     52.0|        343|\n",
      "+---------+------+--------+----------+---------+-----------+\n",
      "only showing top 10 rows\n",
      "\n"
     ]
    }
   ],
   "source": [
    "df_playtime_tmp.show(10)"
   ]
  },
  {
   "cell_type": "code",
   "execution_count": 132,
   "metadata": {},
   "outputs": [],
   "source": [
    "# calculate the total song play time\n",
    "def totalplaytime_feature_generation(df,device,time_window,snapshot_date):\n",
    "    \"\"\"\n",
    "    generate frequency features for one event type and one time window\n",
    "    \"\"\"\n",
    "    df_feature = df.filter(F.col('device')==device)\\\n",
    "            .filter((F.col('date')>=snapshot_date-datetime.timedelta(time_window-1)) & (F.col('date')<=snapshot_date))\\\n",
    "            .groupBy('uid').agg(F.round(F.sum(F.col('play_time'))).alias('playtime_'+event+'_last_'+str(time_window)))\n",
    "    return df_feature"
   ]
  },
  {
   "cell_type": "code",
   "execution_count": 133,
   "metadata": {},
   "outputs": [],
   "source": [
    "device = 'ip'\n",
    "df_playtime_feature = totalplaytime_feature_generation(df_playtime_tmp, device, time_window, snapshot_date)"
   ]
  },
  {
   "cell_type": "code",
   "execution_count": 134,
   "metadata": {},
   "outputs": [
    {
     "name": "stdout",
     "output_type": "stream",
     "text": [
      "+---------+------------------+\n",
      "|      uid|playtime_S_last_30|\n",
      "+---------+------------------+\n",
      "|168554264|           10434.0|\n",
      "|168653273|            1082.0|\n",
      "|168684092|            4476.0|\n",
      "|168811798|          156656.0|\n",
      "|168919019|            2378.0|\n",
      "+---------+------------------+\n",
      "only showing top 5 rows\n",
      "\n"
     ]
    }
   ],
   "source": [
    "df_playtime_feature.show(5)"
   ]
  },
  {
   "cell_type": "markdown",
   "metadata": {},
   "source": [
    "### Fancier frequency features"
   ]
  },
  {
   "cell_type": "code",
   "execution_count": null,
   "metadata": {},
   "outputs": [],
   "source": [
    "# Can you generate counts of songs play 80% of their song length (using play_ds data) for different time window\n",
    "# using play data (need to clean play time and song length first, play time may be negative in data, song length may be zeros)\n"
   ]
  },
  {
   "cell_type": "markdown",
   "metadata": {},
   "source": [
    "# Form training data"
   ]
  },
  {
   "cell_type": "code",
   "execution_count": 36,
   "metadata": {},
   "outputs": [],
   "source": [
    "def join_feature_data(df_master,df_feature_list):\n",
    "    for df_feature in df_feature_list:\n",
    "        df_master = df_master.join(df_feature,on='uid',how='left')\n",
    "        #df_master.persist() # uncomment if number of joins is too many\n",
    "    return df_master\n",
    "    "
   ]
  },
  {
   "cell_type": "code",
   "execution_count": 37,
   "metadata": {},
   "outputs": [],
   "source": [
    "# join all behavior features\n",
    "df_model_final = join_feature_data(df_label,df_feature_list)"
   ]
  },
  {
   "cell_type": "code",
   "execution_count": 38,
   "metadata": {},
   "outputs": [],
   "source": [
    "# join all profile features\n",
    "df_model_final = join_feature_data(df_model_final,[df_profile])"
   ]
  },
  {
   "cell_type": "code",
   "execution_count": 39,
   "metadata": {},
   "outputs": [],
   "source": [
    "df_model_final.fillna(0).toPandas().to_csv('../data/df_model_final.csv',index=False)"
   ]
  },
  {
   "cell_type": "code",
   "execution_count": null,
   "metadata": {},
   "outputs": [],
   "source": []
  }
 ],
 "metadata": {
  "kernelspec": {
   "display_name": "Python 3",
   "language": "python",
   "name": "python3"
  },
  "language_info": {
   "codemirror_mode": {
    "name": "ipython",
    "version": 3
   },
   "file_extension": ".py",
   "mimetype": "text/x-python",
   "name": "python",
   "nbconvert_exporter": "python",
   "pygments_lexer": "ipython3",
   "version": "3.7.0"
  }
 },
 "nbformat": 4,
 "nbformat_minor": 2
}
